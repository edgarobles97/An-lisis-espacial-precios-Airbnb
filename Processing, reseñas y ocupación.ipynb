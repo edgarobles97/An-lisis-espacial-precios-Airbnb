{
 "cells": [
  {
   "cell_type": "code",
   "execution_count": 1,
   "metadata": {},
   "outputs": [
    {
     "name": "stdout",
     "output_type": "stream",
     "text": [
      "<class 'pandas.core.frame.DataFrame'>\n",
      "RangeIndex: 91573 entries, 0 to 91572\n",
      "Data columns (total 4 columns):\n",
      "Unnamed: 0             91573 non-null int64\n",
      "id                     91573 non-null int64\n",
      "reviews_per_month_2    91573 non-null int64\n",
      "mes                    91573 non-null object\n",
      "dtypes: int64(3), object(1)\n",
      "memory usage: 2.8+ MB\n"
     ]
    }
   ],
   "source": [
    "import pandas as pd\n",
    "import geopandas as gpd\n",
    "import pandas as pd\n",
    "import numpy as np\n",
    "import matplotlib.pyplot as plt\n",
    "import seaborn as sns\n",
    "import descartes\n",
    "%matplotlib inline\n",
    "import os\n",
    "\n",
    "\n",
    "\n",
    "def SearchID(df, ident):\n",
    "    return df[df['id'] == ident]\n",
    "\n",
    "pd.set_option('display.max_rows', 5000)\n",
    "pd.set_option('display.max_columns', 500)\n",
    "pd.set_option('display.width', 1000)\n",
    "\n",
    "### Introducir una lista con todo el directorio ###\n",
    "\n",
    "dire = [\n",
    "    'listings_adv_0319.csv',\n",
    "    'listings_adv_0419.csv',\n",
    "    'listings_adv_0519.csv',\n",
    "    'listings_adv_0619.csv',\n",
    "    'listings_adv_0719.csv',\n",
    "    'listings_adv_0819.csv',\n",
    "    'listings_adv_0919.csv',\n",
    "    'listings_adv_1019.csv',\n",
    "    'listings_adv_1119.csv',\n",
    "    'listings_adv_1219.csv',\n",
    "    'listings_adv_0120.csv',\n",
    "    'listings_adv_0220.csv',\n",
    "    'listings_adv_0320.csv'\n",
    "]\n",
    "\n",
    "### Pre-Processing\n",
    "\n",
    "### Leer el Csv ###\n",
    "\n",
    "listados_total = [pd.read_csv(d, low_memory = False) for d in dire]\n",
    "\n",
    "listados_total[0].head()\n",
    "\n",
    "### Establecer cuales son las variables redundantes y guardarlas en una lista ###\n",
    "\n",
    "variables_red = ['listing_url', 'name', 'summary', \n",
    "            'space', 'description',\n",
    "            \n",
    "            'experiences_offered',\n",
    "            'neighborhood_overview', 'notes', 'transit',\n",
    "            'access', 'interaction', 'house_rules',\n",
    "                 \n",
    "            'thumbnail_url',\n",
    "            'medium_url', 'picture_url', 'xl_picture_url',\n",
    "                 \n",
    "            'host_url', 'host_name',\n",
    "            'host_about',\n",
    "            'host_thumbnail_url', 'host_picture_url','host_listings_count',\n",
    "            'host_verifications', \n",
    "                 \n",
    "            'street','neighbourhood_group_cleansed',\n",
    "            'city','state','market','smart_location','country_code', 'country',\n",
    "                 \n",
    "            'bed_type',\n",
    "                 \n",
    "            \n",
    "             'maximum_nights', 'minimum_minimum_nights',\n",
    "            'maximum_minimum_nights', 'minimum_maximum_nights',\n",
    "            'maximum_maximum_nights',\n",
    "                 \n",
    "                 \n",
    "            'calculated_host_listings_count', 'calculated_host_listings_count_entire_homes',\n",
    "            'calculated_host_listings_count_private_rooms',\n",
    "            'calculated_host_listings_count_shared_rooms',\n",
    "                 \n",
    "            'host_response_time',\n",
    "            'host_acceptance_rate',\n",
    "            'scrape_id',\n",
    "            'host_neighbourhood',\n",
    "            'square_feet',\n",
    "            'weekly_price',\n",
    "            'monthly_price',\n",
    "            'minimum_nights_avg_ntm',\n",
    "            'maximum_nights_avg_ntm',\n",
    "            'calendar_updated',\n",
    "            'availability_30',\n",
    "            'availability_60',\n",
    "            'availability_90',\n",
    "            'availability_365','calendar_last_scraped','requires_license',\n",
    "            'license',\n",
    "            'jurisdiction_names'   \n",
    "            \n",
    "                ]\n",
    "\n",
    "# Quitar variables redundantes para el análisis\n",
    "\n",
    "for l in listados_total:\n",
    "    l.drop(columns=variables_red, inplace=True)\n",
    "\n",
    "### Renombrar ###\n",
    "\n",
    "for lis in listados_total:\n",
    "    lis.rename(columns={'neighbourhood':'colonia',\n",
    "                        'neighbourhood_cleansed':'alcaldía',\n",
    "                        'zipcode':'código_postal',\n",
    "                        'room_type':'tipo_cuarto',\n",
    "                        'price':'precio',\n",
    "                        'instant_bookable':'insta_book',\n",
    "                        }, inplace = True)\n",
    "\n",
    "##### Primero hay que limpiar los precios, es decir, quitarle el signo y puntuación y convertirlo a tipo flotante #####\n",
    "\n",
    "### Establecer varaibles de precio\n",
    "\n",
    "prices = ['precio','cleaning_fee','extra_people', 'security_deposit']\n",
    "\n",
    "for lista in listados_total:\n",
    "    for p in prices:\n",
    "        lista[p] = lista[p].str.replace('$','')\n",
    "        lista[p] = lista[p].str.replace(',','')\n",
    "        lista[p] = pd.to_numeric(lista[p])\n",
    "\n",
    "\n",
    "\n",
    "### Número de NAs de colonia ###\n",
    "\n",
    "### Número de listados por scrape ###\n",
    "\n",
    "no_listados = []\n",
    "for i in listados_total:\n",
    "        x = 0\n",
    "        x += x + int(i.shape[0])\n",
    "        no_listados.append(i.shape[0])\n",
    "        \n",
    "\n",
    "no_listados\n",
    "\n",
    "#  Unir todas las bases en una sola\n",
    "\n",
    "listados_panel = pd.concat(listados_total)\n",
    "\n",
    "#### Ordenar el df por id y fecha de scrapeo ###\n",
    "\n",
    "listados_panel.sort_values(by=['id', 'last_scraped'], inplace=True)\n",
    "\n",
    "listados_panel.drop_duplicates(subset=['id', 'last_scraped'], inplace=True)\n",
    "\n",
    "##### Crear variable comercial, es decir, si el dueño del listado tiene más de uno, es comercial, si es sólo uno, entonces es privado\n",
    "\n",
    "listados_panel['Tipo Listado'] = np.where(listados_panel['host_total_listings_count'] > 1, 'Comercial', 'Privado')\n",
    "\n",
    "# Convertir variabla a datetime\n",
    "\n",
    "listados_panel['last_scraped'] = pd.to_datetime(listados_panel['last_scraped'])\n",
    "\n",
    "listados_panel['host_since'] = pd.to_datetime(listados_panel['host_since'])\n",
    "\n",
    "listados_panel['mes'] = pd.to_datetime(listados_panel['last_scraped']).dt.to_period('M')\n",
    "\n",
    "reviews  = pd.read_csv(\"reviews_clean.csv\")\n",
    "\n",
    "reviews.rename(columns={'reviews_per_month':'reviews_per_month_2'}, inplace=True)\n",
    "\n",
    "reviews.info()\n",
    "\n",
    "reviews.drop('Unnamed: 0', axis = 1, inplace = True)\n",
    "\n",
    "reviews.mes = pd.to_datetime(reviews.mes)\n",
    "\n",
    "listados_panel.mes = listados_panel.mes.astype('str')\n",
    "\n",
    "listados_panel.mes = pd.to_datetime(listados_panel.mes)\n",
    "\n",
    "#### Agregar datos de número de reseñas por mes por listado a la base de datos principal ###\n",
    "\n",
    "listados_panel = listados_panel.merge(reviews, on=['mes', 'id'], how = 'left')\n",
    "\n",
    "### Estimar la ocupación de los listados\n",
    "\n",
    "### Primero hay que estimar el número de noches promedio de los huéspedes en la CDMX. 4 noches, según el Financiero en 2017.\n",
    "\n",
    "noches_promedio = 4\n",
    "\n",
    "### Luego hay que calcular la tasa de reviews (Inside Airbnb/Murray Cox)\n",
    "\n",
    "tasa_reviews_1 = 0.5\n",
    "\n",
    "tasa_reviews_2 = 0.4\n",
    "\n",
    "listados_panel['occupancy_rate_1'] = round(noches_promedio*(listados_panel['reviews_per_month']/tasa_reviews_1), 2)\n",
    "\n",
    "listados_panel['occupancy_rate_2'] = round(noches_promedio*(listados_panel['reviews_per_month']/tasa_reviews_2), 2)\n",
    "\n",
    "listados_panel['occupancy_rate_3'] = round(noches_promedio*(listados_panel['reviews_per_month_2']/tasa_reviews_1), 2)\n",
    "\n",
    "### Quitamos outliers que no cumplen con las condiciones\n",
    "\n",
    "len(listados_panel[listados_panel['occupancy_rate_1'] > 100])\n",
    "\n",
    "listados_panel.drop(listados_panel[(listados_panel['occupancy_rate_1'] > 100)].index, axis=0, inplace=True)\n",
    "listados_panel.occupancy_rate_1.describe()\n",
    "\n",
    "ids_hoteles = list(listados_panel[listados_panel['tipo_cuarto'] == 'Hotel room']['id'])\n",
    "indices = list(listados_panel[listados_panel['id'].isin(ids_hoteles)].sort_values(by='id')['tipo_cuarto'].index)\n",
    "\n",
    "listados_panel.loc[indices,'tipo_cuarto'] = 'Hotel room'"
   ]
  },
  {
   "cell_type": "code",
   "execution_count": null,
   "metadata": {},
   "outputs": [],
   "source": []
  },
  {
   "cell_type": "code",
   "execution_count": 2,
   "metadata": {},
   "outputs": [
    {
     "name": "stdout",
     "output_type": "stream",
     "text": [
      "<class 'pandas.core.frame.DataFrame'>\n",
      "Int64Index: 259209 entries, 0 to 259388\n",
      "Data columns (total 53 columns):\n",
      "id                                  259209 non-null int64\n",
      "last_scraped                        259209 non-null datetime64[ns]\n",
      "host_id                             259209 non-null int64\n",
      "host_since                          259040 non-null datetime64[ns]\n",
      "host_location                       258178 non-null object\n",
      "host_response_rate                  209878 non-null object\n",
      "host_is_superhost                   259040 non-null object\n",
      "host_total_listings_count           259040 non-null float64\n",
      "host_has_profile_pic                259040 non-null object\n",
      "host_identity_verified              259040 non-null object\n",
      "colonia                             203796 non-null object\n",
      "alcaldía                            259209 non-null object\n",
      "código_postal                       244452 non-null object\n",
      "latitude                            259209 non-null float64\n",
      "longitude                           259209 non-null float64\n",
      "is_location_exact                   259209 non-null object\n",
      "property_type                       259209 non-null object\n",
      "tipo_cuarto                         259209 non-null object\n",
      "accommodates                        259209 non-null int64\n",
      "bathrooms                           259103 non-null float64\n",
      "bedrooms                            259008 non-null float64\n",
      "beds                                258380 non-null float64\n",
      "amenities                           259209 non-null object\n",
      "precio                              259209 non-null float64\n",
      "security_deposit                    141768 non-null float64\n",
      "cleaning_fee                        169023 non-null float64\n",
      "guests_included                     259209 non-null int64\n",
      "extra_people                        259209 non-null float64\n",
      "minimum_nights                      259209 non-null int64\n",
      "has_availability                    259209 non-null object\n",
      "number_of_reviews                   259209 non-null int64\n",
      "number_of_reviews_ltm               259209 non-null int64\n",
      "first_review                        198419 non-null object\n",
      "last_review                         198419 non-null object\n",
      "review_scores_rating                195164 non-null float64\n",
      "review_scores_accuracy              195023 non-null float64\n",
      "review_scores_cleanliness           195033 non-null float64\n",
      "review_scores_checkin               194989 non-null float64\n",
      "review_scores_communication         195048 non-null float64\n",
      "review_scores_location              194970 non-null float64\n",
      "review_scores_value                 194958 non-null float64\n",
      "insta_book                          259209 non-null object\n",
      "is_business_travel_ready            259209 non-null object\n",
      "cancellation_policy                 259208 non-null object\n",
      "require_guest_profile_picture       259209 non-null object\n",
      "require_guest_phone_verification    259209 non-null object\n",
      "reviews_per_month                   198419 non-null float64\n",
      "Tipo Listado                        259209 non-null object\n",
      "mes                                 259209 non-null datetime64[ns]\n",
      "reviews_per_month_2                 90409 non-null float64\n",
      "occupancy_rate_1                    198419 non-null float64\n",
      "occupancy_rate_2                    198419 non-null float64\n",
      "occupancy_rate_3                    90409 non-null float64\n",
      "dtypes: datetime64[ns](3), float64(22), int64(7), object(21)\n",
      "memory usage: 116.8+ MB\n"
     ]
    }
   ],
   "source": [
    "listados_panel.info()"
   ]
  },
  {
   "cell_type": "code",
   "execution_count": 4,
   "metadata": {},
   "outputs": [
    {
     "data": {
      "text/plain": [
       "count    198419.000000\n",
       "mean         13.916967\n",
       "std          14.195253\n",
       "min           0.080000\n",
       "25%           3.360000\n",
       "50%           8.880000\n",
       "75%          20.000000\n",
       "max         100.000000\n",
       "Name: occupancy_rate_1, dtype: float64"
      ]
     },
     "execution_count": 4,
     "metadata": {},
     "output_type": "execute_result"
    }
   ],
   "source": [
    "listados_panel['occupancy_rate_1'].describe()"
   ]
  },
  {
   "cell_type": "code",
   "execution_count": 5,
   "metadata": {},
   "outputs": [
    {
     "data": {
      "text/plain": [
       "count    90409.000000\n",
       "mean        23.281930\n",
       "std         17.696107\n",
       "min          8.000000\n",
       "25%          8.000000\n",
       "50%         16.000000\n",
       "75%         32.000000\n",
       "max        192.000000\n",
       "Name: occupancy_rate_3, dtype: float64"
      ]
     },
     "execution_count": 5,
     "metadata": {},
     "output_type": "execute_result"
    }
   ],
   "source": [
    "listados_panel['occupancy_rate_3'].describe()"
   ]
  },
  {
   "cell_type": "code",
   "execution_count": 6,
   "metadata": {},
   "outputs": [],
   "source": [
    "listados_panel.amenities = listados_panel.amenities.str.replace(\"[{}]\", \"\").str.replace('\"', \"\").str.replace(' ','_').str.replace(' ','')"
   ]
  },
  {
   "cell_type": "code",
   "execution_count": 59,
   "metadata": {},
   "outputs": [],
   "source": [
    "for i in listados_panel.amenities:\n",
    "    listados_pa = i.split(',')"
   ]
  },
  {
   "cell_type": "code",
   "execution_count": 63,
   "metadata": {},
   "outputs": [],
   "source": [
    "listados_panel.amenities = listados_panel.amenities.str.split(',')"
   ]
  },
  {
   "cell_type": "code",
   "execution_count": 8,
   "metadata": {},
   "outputs": [
    {
     "data": {
      "text/plain": [
       "'Wifi,Kitchen,Free_parking_on_premises,Smoking_allowed,Elevator,Washer,Essentials,Hangers,Hair_dryer,Laptop_friendly_workspace,High_chair,Hot_water,Refrigerator,Dishes_and_silverware,Cooking_basics,Oven,Patio_or_balcony,Long_term_stays_allowed,Host_greets_you'"
      ]
     },
     "execution_count": 8,
     "metadata": {},
     "output_type": "execute_result"
    }
   ],
   "source": [
    "listados_panel.amenities[1]"
   ]
  },
  {
   "cell_type": "code",
   "execution_count": null,
   "metadata": {},
   "outputs": [],
   "source": []
  },
  {
   "cell_type": "code",
   "execution_count": null,
   "metadata": {},
   "outputs": [],
   "source": []
  },
  {
   "cell_type": "code",
   "execution_count": 12,
   "metadata": {},
   "outputs": [],
   "source": [
    "listados_panel['has_wifi'] = listados_panel['amenities'].str.contains('Wifi')"
   ]
  },
  {
   "cell_type": "code",
   "execution_count": 20,
   "metadata": {},
   "outputs": [
    {
     "data": {
      "text/plain": [
       "True     251186\n",
       "False      8023\n",
       "Name: has_wifi, dtype: int64"
      ]
     },
     "execution_count": 20,
     "metadata": {},
     "output_type": "execute_result"
    }
   ],
   "source": [
    "listados_panel['has_wifi'].value_counts()"
   ]
  },
  {
   "cell_type": "code",
   "execution_count": 17,
   "metadata": {},
   "outputs": [],
   "source": [
    "listados_panel['allows_pets'] = listados_panel['amenities'].str.contains('Pets_allowed')"
   ]
  },
  {
   "cell_type": "code",
   "execution_count": 19,
   "metadata": {},
   "outputs": [
    {
     "data": {
      "text/plain": [
       "False    214567\n",
       "True      44642\n",
       "Name: allows_pets, dtype: int64"
      ]
     },
     "execution_count": 19,
     "metadata": {},
     "output_type": "execute_result"
    }
   ],
   "source": [
    "listados_panel['allows_pets'].value_counts()"
   ]
  },
  {
   "cell_type": "code",
   "execution_count": 28,
   "metadata": {},
   "outputs": [],
   "source": [
    "listados_panel['has_gym'] = listados_panel['amenities'].str.contains('Pool')"
   ]
  },
  {
   "cell_type": "code",
   "execution_count": 29,
   "metadata": {},
   "outputs": [
    {
     "data": {
      "text/plain": [
       "False    241411\n",
       "True      17798\n",
       "Name: has_gym, dtype: int64"
      ]
     },
     "execution_count": 29,
     "metadata": {},
     "output_type": "execute_result"
    }
   ],
   "source": [
    "listados_panel['has_gym'].value_counts()"
   ]
  },
  {
   "cell_type": "code",
   "execution_count": 30,
   "metadata": {},
   "outputs": [],
   "source": [
    "listados_panel['has_breakfast'] = listados_panel['amenities'].str.contains('Breakfast')"
   ]
  },
  {
   "cell_type": "code",
   "execution_count": 31,
   "metadata": {},
   "outputs": [
    {
     "data": {
      "text/plain": [
       "False    233122\n",
       "True      26087\n",
       "Name: has_breakfast, dtype: int64"
      ]
     },
     "execution_count": 31,
     "metadata": {},
     "output_type": "execute_result"
    }
   ],
   "source": [
    "listados_panel['has_breakfast'].value_counts()"
   ]
  },
  {
   "cell_type": "code",
   "execution_count": 32,
   "metadata": {},
   "outputs": [],
   "source": [
    "listados_panel['is_family_friendly'] = listados_panel['amenities'].str.contains('Family/kid_friendly')"
   ]
  },
  {
   "cell_type": "code",
   "execution_count": 33,
   "metadata": {},
   "outputs": [
    {
     "data": {
      "text/plain": [
       "False    199619\n",
       "True      59590\n",
       "Name: is_family_friendly, dtype: int64"
      ]
     },
     "execution_count": 33,
     "metadata": {},
     "output_type": "execute_result"
    }
   ],
   "source": [
    "listados_panel['is_family_friendly'].value_counts()"
   ]
  },
  {
   "cell_type": "code",
   "execution_count": 34,
   "metadata": {},
   "outputs": [],
   "source": [
    "listados_panel['has_kitchen'] = listados_panel['amenities'].str.contains('Kitchen')"
   ]
  },
  {
   "cell_type": "code",
   "execution_count": 35,
   "metadata": {},
   "outputs": [
    {
     "data": {
      "text/plain": [
       "True     234044\n",
       "False     25165\n",
       "Name: has_kitchen, dtype: int64"
      ]
     },
     "execution_count": 35,
     "metadata": {},
     "output_type": "execute_result"
    }
   ],
   "source": [
    "listados_panel['has_kitchen'].value_counts()"
   ]
  },
  {
   "cell_type": "code",
   "execution_count": 36,
   "metadata": {},
   "outputs": [],
   "source": [
    "listados_panel['has_washer'] = listados_panel['amenities'].str.contains('Washer')"
   ]
  },
  {
   "cell_type": "code",
   "execution_count": 37,
   "metadata": {},
   "outputs": [
    {
     "data": {
      "text/plain": [
       "True     156756\n",
       "False    102453\n",
       "Name: has_washer, dtype: int64"
      ]
     },
     "execution_count": 37,
     "metadata": {},
     "output_type": "execute_result"
    }
   ],
   "source": [
    "listados_panel['has_washer'].value_counts()"
   ]
  },
  {
   "cell_type": "code",
   "execution_count": 38,
   "metadata": {},
   "outputs": [],
   "source": [
    "listados_panel['has_dryer'] = listados_panel['amenities'].str.contains('Dryer')"
   ]
  },
  {
   "cell_type": "code",
   "execution_count": 39,
   "metadata": {},
   "outputs": [
    {
     "data": {
      "text/plain": [
       "False    157559\n",
       "True     101650\n",
       "Name: has_dryer, dtype: int64"
      ]
     },
     "execution_count": 39,
     "metadata": {},
     "output_type": "execute_result"
    }
   ],
   "source": [
    "listados_panel['has_dryer'].value_counts()"
   ]
  },
  {
   "cell_type": "code",
   "execution_count": 40,
   "metadata": {},
   "outputs": [],
   "source": [
    "listados_panel['has_parking'] = listados_panel['amenities'].str.contains('Free_parking_on_premises')"
   ]
  },
  {
   "cell_type": "code",
   "execution_count": 41,
   "metadata": {},
   "outputs": [
    {
     "data": {
      "text/plain": [
       "False    166376\n",
       "True      92833\n",
       "Name: has_parking, dtype: int64"
      ]
     },
     "execution_count": 41,
     "metadata": {},
     "output_type": "execute_result"
    }
   ],
   "source": [
    "listados_panel['has_parking'].value_counts()"
   ]
  },
  {
   "cell_type": "code",
   "execution_count": 46,
   "metadata": {},
   "outputs": [],
   "source": [
    "listados_panel['has_laptop_workspace'] = listados_panel['amenities'].str.contains('Laptop_friendly_workspace')"
   ]
  },
  {
   "cell_type": "code",
   "execution_count": 47,
   "metadata": {},
   "outputs": [
    {
     "data": {
      "text/plain": [
       "True     191110\n",
       "False     68099\n",
       "Name: has_laptop_workspace, dtype: int64"
      ]
     },
     "execution_count": 47,
     "metadata": {},
     "output_type": "execute_result"
    }
   ],
   "source": [
    "listados_panel['has_laptop_workspace'].value_counts()"
   ]
  },
  {
   "cell_type": "code",
   "execution_count": 48,
   "metadata": {},
   "outputs": [],
   "source": [
    "listados_panel['has_HBO'] = listados_panel['amenities'].str.contains('HBO_GO')"
   ]
  },
  {
   "cell_type": "code",
   "execution_count": 50,
   "metadata": {},
   "outputs": [
    {
     "data": {
      "text/plain": [
       "False    259147\n",
       "True         62\n",
       "Name: has_HBO, dtype: int64"
      ]
     },
     "execution_count": 50,
     "metadata": {},
     "output_type": "execute_result"
    }
   ],
   "source": [
    "listados_panel['has_HBO'].value_counts()"
   ]
  },
  {
   "cell_type": "code",
   "execution_count": 51,
   "metadata": {},
   "outputs": [],
   "source": [
    "columns =  ['host_is_superhost', 'host_identity_verified', 'host_has_profile_pic',\n",
    "                   'is_location_exact','has_availability', 'insta_book',\n",
    "            'is_business_travel_ready',\n",
    "                   'require_guest_profile_picture', 'require_guest_phone_verification']\n",
    "for c in columns:\n",
    "    listados_panel[c] = listados_panel[c].replace('f',0,regex=True)\n",
    "    listados_panel[c] = listados_panel[c].replace('t',1,regex=True)"
   ]
  },
  {
   "cell_type": "code",
   "execution_count": 55,
   "metadata": {},
   "outputs": [],
   "source": [
    "columns_amenities = ['has_wifi', 'has_breakfast', 'has_washer', 'allows_pets', 'is_family_friendly', 'has_dryer', 'has_gym',\n",
    "                    'has_kitchen', 'has_parking', 'has_HBO', 'has_laptop_workspace']\n",
    "\n",
    "for c in columns_amenities:\n",
    "    listados_panel[c] = listados_panel[c].replace(False, 0, regex=True)\n",
    "    listados_panel[c] = listados_panel[c].replace(True, 1, regex=True)\n"
   ]
  },
  {
   "cell_type": "code",
   "execution_count": 41,
   "metadata": {},
   "outputs": [],
   "source": [
    "listados_panel.to_csv('listados_1.csv',encoding='latin1')"
   ]
  },
  {
   "cell_type": "code",
   "execution_count": 43,
   "metadata": {},
   "outputs": [
    {
     "data": {
      "text/plain": [
       "2020-03-01    21790\n",
       "2020-02-01    21643\n",
       "2020-01-01    21459\n",
       "2019-12-01    21142\n",
       "2019-11-01    20557\n",
       "2019-10-01    20556\n",
       "2019-09-01    20257\n",
       "2019-08-01    20020\n",
       "2019-07-01    19348\n",
       "2019-06-01    19020\n",
       "2019-05-01    18338\n",
       "2019-04-01    17857\n",
       "2019-03-01    17222\n",
       "Name: mes, dtype: int64"
      ]
     },
     "execution_count": 43,
     "metadata": {},
     "output_type": "execute_result"
    }
   ],
   "source": [
    "listados_panel.mes.value_counts()"
   ]
  },
  {
   "cell_type": "code",
   "execution_count": 65,
   "metadata": {},
   "outputs": [],
   "source": [
    "listados_panel['first_review'] = pd.to_datetime(listados_panel['first_review'])\n",
    "\n",
    "listados_panel['last_review'] = pd.to_datetime(listados_panel['last_review'])\n",
    "\n",
    "listados_panel['meses_inact'] = ((listados_panel.last_scraped - listados_panel.last_review)/np.timedelta64(1, 'M'))\n"
   ]
  },
  {
   "cell_type": "code",
   "execution_count": 69,
   "metadata": {},
   "outputs": [],
   "source": [
    "listados_panel.drop(listados_panel[(listados_panel['meses_inact'] > 6)].index, axis=0, inplace=True)\n",
    "\n",
    "listados_panel.dropna(axis=0, how='any', subset =['meses_inact'], inplace=True)"
   ]
  },
  {
   "cell_type": "code",
   "execution_count": 68,
   "metadata": {},
   "outputs": [],
   "source": [
    "listados_fil"
   ]
  },
  {
   "cell_type": "code",
   "execution_count": 70,
   "metadata": {},
   "outputs": [
    {
     "data": {
      "text/plain": [
       "id                                      0\n",
       "last_scraped                            0\n",
       "host_id                                 0\n",
       "host_since                            128\n",
       "host_location                         416\n",
       "host_response_rate                   4650\n",
       "host_is_superhost                     128\n",
       "host_total_listings_count             128\n",
       "host_has_profile_pic                  128\n",
       "host_identity_verified                128\n",
       "colonia                             27134\n",
       "alcaldía                                0\n",
       "código_postal                        7232\n",
       "latitude                                0\n",
       "longitude                               0\n",
       "is_location_exact                       0\n",
       "property_type                           0\n",
       "tipo_cuarto                             0\n",
       "accommodates                            0\n",
       "bathrooms                               3\n",
       "bedrooms                               59\n",
       "beds                                  166\n",
       "amenities                               0\n",
       "precio                                  0\n",
       "security_deposit                    55202\n",
       "cleaning_fee                        36408\n",
       "guests_included                         0\n",
       "extra_people                            0\n",
       "minimum_nights                          0\n",
       "has_availability                        0\n",
       "number_of_reviews                       0\n",
       "number_of_reviews_ltm                   0\n",
       "first_review                            0\n",
       "last_review                             0\n",
       "review_scores_rating                 1334\n",
       "review_scores_accuracy               1343\n",
       "review_scores_cleanliness            1343\n",
       "review_scores_checkin                1344\n",
       "review_scores_communication          1344\n",
       "review_scores_location               1344\n",
       "review_scores_value                  1344\n",
       "insta_book                              0\n",
       "is_business_travel_ready                0\n",
       "cancellation_policy                     0\n",
       "require_guest_profile_picture           0\n",
       "require_guest_phone_verification        0\n",
       "reviews_per_month                       0\n",
       "Tipo Listado                            0\n",
       "mes                                     0\n",
       "reviews_per_month_2                 70883\n",
       "occupancy_rate_1                        0\n",
       "occupancy_rate_2                        0\n",
       "occupancy_rate_3                    70883\n",
       "has_wifi                                0\n",
       "allows_pets                             0\n",
       "has_gym                                 0\n",
       "has_breakfast                           0\n",
       "is_family_friendly                      0\n",
       "has_kitchen                             0\n",
       "has_washer                              0\n",
       "has_dryer                               0\n",
       "has_parking                             0\n",
       "has_HBO                                 0\n",
       "has_laptop_workspace                    0\n",
       "meses_inact                             0\n",
       "dtype: int64"
      ]
     },
     "execution_count": 70,
     "metadata": {},
     "output_type": "execute_result"
    }
   ],
   "source": [
    "listados_panel.isnull().sum()"
   ]
  },
  {
   "cell_type": "code",
   "execution_count": 59,
   "metadata": {},
   "outputs": [],
   "source": [
    "listados_panel.to_csv('listados_final.csv', encoding = 'utf-8')"
   ]
  },
  {
   "cell_type": "code",
   "execution_count": null,
   "metadata": {},
   "outputs": [],
   "source": []
  },
  {
   "cell_type": "code",
   "execution_count": null,
   "metadata": {},
   "outputs": [],
   "source": []
  },
  {
   "cell_type": "code",
   "execution_count": null,
   "metadata": {},
   "outputs": [],
   "source": [
    "listados_panel_activos = "
   ]
  },
  {
   "cell_type": "code",
   "execution_count": null,
   "metadata": {},
   "outputs": [],
   "source": []
  },
  {
   "cell_type": "code",
   "execution_count": null,
   "metadata": {},
   "outputs": [],
   "source": []
  },
  {
   "cell_type": "code",
   "execution_count": 71,
   "metadata": {},
   "outputs": [],
   "source": [
    "listados_julio = listados_panel[listados_panel['mes'] == '2019-07-01']"
   ]
  },
  {
   "cell_type": "code",
   "execution_count": 88,
   "metadata": {},
   "outputs": [
    {
     "data": {
      "text/plain": [
       "id                                     0\n",
       "last_scraped                           0\n",
       "host_id                                0\n",
       "host_since                             8\n",
       "host_location                         30\n",
       "host_response_rate                   416\n",
       "host_is_superhost                      8\n",
       "host_total_listings_count              8\n",
       "host_has_profile_pic                   8\n",
       "host_identity_verified                 8\n",
       "colonia                             1893\n",
       "alcaldía                               0\n",
       "código_postal                        501\n",
       "latitude                               0\n",
       "longitude                              0\n",
       "is_location_exact                      0\n",
       "property_type                          0\n",
       "tipo_cuarto                            0\n",
       "accommodates                           0\n",
       "bathrooms                              2\n",
       "bedrooms                               2\n",
       "beds                                   5\n",
       "precio                                 0\n",
       "security_deposit                    3977\n",
       "cleaning_fee                        2677\n",
       "guests_included                        0\n",
       "extra_people                           0\n",
       "minimum_nights                         0\n",
       "has_availability                       0\n",
       "number_of_reviews                      0\n",
       "number_of_reviews_ltm                  0\n",
       "first_review                           0\n",
       "last_review                            0\n",
       "review_scores_rating                 101\n",
       "review_scores_accuracy               101\n",
       "review_scores_cleanliness            101\n",
       "review_scores_checkin                101\n",
       "review_scores_communication          101\n",
       "review_scores_location               101\n",
       "review_scores_value                  101\n",
       "insta_book                             0\n",
       "is_business_travel_ready               0\n",
       "cancellation_policy                    0\n",
       "require_guest_profile_picture          0\n",
       "require_guest_phone_verification       0\n",
       "reviews_per_month                      0\n",
       "Tipo Listado                           0\n",
       "mes                                    0\n",
       "reviews_per_month_2                 5441\n",
       "occupancy_rate_1                       0\n",
       "occupancy_rate_2                       0\n",
       "occupancy_rate_3                    5441\n",
       "has_wifi                               0\n",
       "allows_pets                            0\n",
       "has_gym                                0\n",
       "has_breakfast                          0\n",
       "is_family_friendly                     0\n",
       "has_kitchen                            0\n",
       "has_washer                             0\n",
       "has_dryer                              0\n",
       "has_parking                            0\n",
       "has_HBO                                0\n",
       "has_laptop_workspace                   0\n",
       "meses_inact                            0\n",
       "dtype: int64"
      ]
     },
     "execution_count": 88,
     "metadata": {},
     "output_type": "execute_result"
    }
   ],
   "source": [
    "listados_julio.isnull().sum()"
   ]
  },
  {
   "cell_type": "code",
   "execution_count": 79,
   "metadata": {},
   "outputs": [
    {
     "data": {
      "text/plain": [
       "Entire home/apt    6620\n",
       "Private room       4403\n",
       "Shared room         114\n",
       "Name: tipo_cuarto, dtype: int64"
      ]
     },
     "execution_count": 79,
     "metadata": {},
     "output_type": "execute_result"
    }
   ],
   "source": [
    "listados_julio['tipo_cuarto'].value_counts()"
   ]
  },
  {
   "cell_type": "code",
   "execution_count": 77,
   "metadata": {},
   "outputs": [],
   "source": [
    "indices_hotel = listados_julio[listados_julio['tipo_cuarto'] == 'Hotel room'].index"
   ]
  },
  {
   "cell_type": "code",
   "execution_count": 78,
   "metadata": {},
   "outputs": [],
   "source": [
    "listados_julio = listados_julio.drop(indices_hotel)"
   ]
  },
  {
   "cell_type": "code",
   "execution_count": 85,
   "metadata": {},
   "outputs": [],
   "source": [
    "listados_julio = listados_julio.drop(axis=1, columns='amenities')"
   ]
  },
  {
   "cell_type": "code",
   "execution_count": null,
   "metadata": {},
   "outputs": [],
   "source": []
  },
  {
   "cell_type": "code",
   "execution_count": 90,
   "metadata": {},
   "outputs": [],
   "source": [
    "indices_ubis =listados_julio[listados_julio['is_location_exact'] == False].index"
   ]
  },
  {
   "cell_type": "code",
   "execution_count": 91,
   "metadata": {},
   "outputs": [],
   "source": [
    "listados_julio_ubis = listados_julio.drop(indices_ubis)"
   ]
  },
  {
   "cell_type": "code",
   "execution_count": 92,
   "metadata": {},
   "outputs": [
    {
     "data": {
      "text/plain": [
       "1    8174\n",
       "Name: is_location_exact, dtype: int64"
      ]
     },
     "execution_count": 92,
     "metadata": {},
     "output_type": "execute_result"
    }
   ],
   "source": [
    "listados_julio_ubis.is_location_exact.value_counts()"
   ]
  },
  {
   "cell_type": "code",
   "execution_count": 94,
   "metadata": {},
   "outputs": [],
   "source": [
    "listados_julio_ubis.drop(axis=1, columns='is_location_exact', inplace=True)"
   ]
  },
  {
   "cell_type": "code",
   "execution_count": null,
   "metadata": {},
   "outputs": [],
   "source": []
  },
  {
   "cell_type": "code",
   "execution_count": 96,
   "metadata": {},
   "outputs": [],
   "source": [
    "index_calis =listados_julio_ubis[listados_julio_ubis.review_scores_rating.isnull()].index"
   ]
  },
  {
   "cell_type": "code",
   "execution_count": 97,
   "metadata": {},
   "outputs": [],
   "source": [
    "listados_julio_ubis_clean = listados_julio_ubis.drop(index_calis)"
   ]
  },
  {
   "cell_type": "code",
   "execution_count": 99,
   "metadata": {},
   "outputs": [],
   "source": [
    "listados_julio_ubis_clean.cleaning_fee = listados_julio_ubis_clean.cleaning_fee.fillna(0)"
   ]
  },
  {
   "cell_type": "code",
   "execution_count": 105,
   "metadata": {},
   "outputs": [],
   "source": [
    "listados_julio_ubis_clean.security_deposit = listados_julio_ubis_clean.security_deposit.fillna(0)"
   ]
  },
  {
   "cell_type": "code",
   "execution_count": 107,
   "metadata": {},
   "outputs": [],
   "source": [
    "listados_julio_ubis_clean['host_is_superhost'] = listados_julio_ubis_clean['host_is_superhost'].dropna()"
   ]
  },
  {
   "cell_type": "code",
   "execution_count": 118,
   "metadata": {},
   "outputs": [],
   "source": [
    "listados_julio_ubis_clean['host_response_rate'] = listados_julio_ubis_clean.host_response_rate.str.replace('%','')"
   ]
  },
  {
   "cell_type": "code",
   "execution_count": 131,
   "metadata": {},
   "outputs": [],
   "source": [
    "listados_julio_ubis_clean.set_index('id', inplace = True)"
   ]
  },
  {
   "cell_type": "code",
   "execution_count": 132,
   "metadata": {},
   "outputs": [],
   "source": [
    "index_response = listados_julio_ubis_clean[listados_julio_ubis_clean.host_response_rate.isnull()].index"
   ]
  },
  {
   "cell_type": "code",
   "execution_count": 134,
   "metadata": {},
   "outputs": [],
   "source": [
    "listados_julio_ubis_clean = listados_julio_ubis_clean.drop(index_response)"
   ]
  },
  {
   "cell_type": "code",
   "execution_count": null,
   "metadata": {},
   "outputs": [],
   "source": [
    "listados_julio_ubis_clean = listados_julio_ubis_clean.drop(index_response)"
   ]
  },
  {
   "cell_type": "code",
   "execution_count": 138,
   "metadata": {},
   "outputs": [],
   "source": [
    "listados_julio_ubis_clean.host_response_rate = pd.to_numeric(listados_julio_ubis_clean.host_response_rate)"
   ]
  },
  {
   "cell_type": "code",
   "execution_count": 140,
   "metadata": {},
   "outputs": [
    {
     "data": {
      "text/plain": [
       "count    7822.000000\n",
       "mean       97.178727\n",
       "std        10.096125\n",
       "min         0.000000\n",
       "25%       100.000000\n",
       "50%       100.000000\n",
       "75%       100.000000\n",
       "max       100.000000\n",
       "Name: host_response_rate, dtype: float64"
      ]
     },
     "execution_count": 140,
     "metadata": {},
     "output_type": "execute_result"
    }
   ],
   "source": [
    "listados_julio_ubis_clean.host_response_rate.describe()"
   ]
  },
  {
   "cell_type": "code",
   "execution_count": 141,
   "metadata": {},
   "outputs": [
    {
     "data": {
      "text/plain": [
       "last_scraped                           0\n",
       "host_id                                0\n",
       "host_since                             0\n",
       "host_location                          8\n",
       "host_response_rate                     0\n",
       "host_is_superhost                      0\n",
       "host_total_listings_count              0\n",
       "host_has_profile_pic                   0\n",
       "host_identity_verified                 0\n",
       "colonia                             1183\n",
       "alcaldía                               0\n",
       "código_postal                        105\n",
       "latitude                               0\n",
       "longitude                              0\n",
       "property_type                          0\n",
       "tipo_cuarto                            0\n",
       "accommodates                           0\n",
       "bathrooms                              0\n",
       "bedrooms                               1\n",
       "beds                                   0\n",
       "precio                                 0\n",
       "security_deposit                       0\n",
       "cleaning_fee                           0\n",
       "guests_included                        0\n",
       "extra_people                           0\n",
       "minimum_nights                         0\n",
       "has_availability                       0\n",
       "number_of_reviews                      0\n",
       "number_of_reviews_ltm                  0\n",
       "first_review                           0\n",
       "last_review                            0\n",
       "review_scores_rating                   0\n",
       "review_scores_accuracy                 0\n",
       "review_scores_cleanliness              0\n",
       "review_scores_checkin                  0\n",
       "review_scores_communication            0\n",
       "review_scores_location                 0\n",
       "review_scores_value                    0\n",
       "insta_book                             0\n",
       "is_business_travel_ready               0\n",
       "cancellation_policy                    0\n",
       "require_guest_profile_picture          0\n",
       "require_guest_phone_verification       0\n",
       "reviews_per_month                      0\n",
       "Tipo Listado                           0\n",
       "mes                                    0\n",
       "reviews_per_month_2                 3565\n",
       "occupancy_rate_1                       0\n",
       "occupancy_rate_2                       0\n",
       "occupancy_rate_3                    3565\n",
       "has_wifi                               0\n",
       "allows_pets                            0\n",
       "has_gym                                0\n",
       "has_breakfast                          0\n",
       "is_family_friendly                     0\n",
       "has_kitchen                            0\n",
       "has_washer                             0\n",
       "has_dryer                              0\n",
       "has_parking                            0\n",
       "has_HBO                                0\n",
       "has_laptop_workspace                   0\n",
       "meses_inact                            0\n",
       "dtype: int64"
      ]
     },
     "execution_count": 141,
     "metadata": {},
     "output_type": "execute_result"
    }
   ],
   "source": [
    "listados_julio_ubis_clean.isnull().sum()"
   ]
  },
  {
   "cell_type": "code",
   "execution_count": 143,
   "metadata": {},
   "outputs": [
    {
     "name": "stderr",
     "output_type": "stream",
     "text": [
      "C:\\Users\\edari\\Anaconda3\\lib\\site-packages\\pandas\\io\\stata.py:2138: InvalidColumnName: \n",
      "Not all pandas column names were valid Stata variable names.\n",
      "The following replacements have been made:\n",
      "\n",
      "    b'alcald\\xc3\\xada'   ->   alcald_a\n",
      "    b'c\\xc3\\xb3digo_postal'   ->   c_digo_postal\n",
      "    b'Tipo Listado'   ->   Tipo_Listado\n",
      "\n",
      "If this is not what you expect, please make sure you have Stata-compliant\n",
      "column names in your DataFrame (strings only, max 32 characters, only\n",
      "alphanumerics and underscores, no Stata reserved words)\n",
      "\n",
      "  warnings.warn(ws, InvalidColumnName)\n"
     ]
    }
   ],
   "source": [
    "listados_julio_ubis_clean.to_stata('listados_julio_final.dta', encoding='latin-1')"
   ]
  },
  {
   "cell_type": "code",
   "execution_count": 87,
   "metadata": {},
   "outputs": [
    {
     "data": {
      "text/plain": [
       "1    8174\n",
       "0    2963\n",
       "Name: is_location_exact, dtype: int64"
      ]
     },
     "execution_count": 87,
     "metadata": {},
     "output_type": "execute_result"
    }
   ],
   "source": [
    "listados_julio['is_location_exact'].value_counts()"
   ]
  },
  {
   "cell_type": "code",
   "execution_count": 144,
   "metadata": {},
   "outputs": [
    {
     "data": {
      "text/plain": [
       "flexible                       3032\n",
       "moderate                       2880\n",
       "strict_14_with_grace_period    1910\n",
       "Name: cancellation_policy, dtype: int64"
      ]
     },
     "execution_count": 144,
     "metadata": {},
     "output_type": "execute_result"
    }
   ],
   "source": [
    "listados_julio_ubis_clean.cancellation_policy.value_counts()"
   ]
  },
  {
   "cell_type": "code",
   "execution_count": null,
   "metadata": {},
   "outputs": [],
   "source": [
    "coords = "
   ]
  },
  {
   "cell_type": "code",
   "execution_count": 22,
   "metadata": {},
   "outputs": [
    {
     "data": {
      "image/png": "[encoded data removed]",
      "text/plain": [
       "<Figure size 432x288 with 1 Axes>"
      ]
     },
     "metadata": {
      "needs_background": "light"
     },
     "output_type": "display_data"
    }
   ],
   "source": [
    "pd.Series(np.concatenate(listados_total[0]['amenities'].map(lambda amns: amns.split(\",\"))))\\\n",
    "    .value_counts().head(30)\\\n",
    "    .plot(kind='bar')\n",
    "ax = plt.gca()\n",
    "ax.set_xticklabels(ax.get_xticklabels(), rotation=90, ha='right', fontsize=12)\n",
    "plt.show();"
   ]
  },
  {
   "cell_type": "code",
   "execution_count": 75,
   "metadata": {},
   "outputs": [],
   "source": [
    "box = ((listados_panel.longitude.min(), listados_panel.longitude.max(),\n",
    "       listados_panel.latitude.min(), listados_panel.latitude.max()))"
   ]
  },
  {
   "cell_type": "code",
   "execution_count": 76,
   "metadata": {},
   "outputs": [
    {
     "data": {
      "text/plain": [
       "(-99.34082, -98.96259, 19.15073, 19.56534)"
      ]
     },
     "execution_count": 76,
     "metadata": {},
     "output_type": "execute_result"
    }
   ],
   "source": [
    "box"
   ]
  },
  {
   "cell_type": "code",
   "execution_count": null,
   "metadata": {},
   "outputs": [],
   "source": []
  }
 ],
 "metadata": {
  "kernelspec": {
   "display_name": "Python 3",
   "language": "python",
   "name": "python3"
  },
  "language_info": {
   "codemirror_mode": {
    "name": "ipython",
    "version": 3
   },
   "file_extension": ".py",
   "mimetype": "text/x-python",
   "name": "python",
   "nbconvert_exporter": "python",
   "pygments_lexer": "ipython3",
   "version": "3.8.5"
  }
 },
 "nbformat": 4,
 "nbformat_minor": 2
}

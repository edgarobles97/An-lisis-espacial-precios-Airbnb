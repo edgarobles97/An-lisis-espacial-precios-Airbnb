{
 "cells": [
  {
   "cell_type": "markdown",
   "metadata": {},
   "source": [
    "# Tesina: The economics behind two-sided markets: key determinants of Airbnb pricing in Mexico City\n",
    "\n",
    "## Edgar Robles Díaz"
   ]
  },
  {
   "cell_type": "markdown",
   "metadata": {},
   "source": [
    "### Fuente principal: Inside Airbnb (Murray Cox)\n"
   ]
  },
  {
   "cell_type": "markdown",
   "metadata": {},
   "source": [
    "### Parte 1. Procesamiento y limpieza de datos "
   ]
  },
  {
   "cell_type": "markdown",
   "metadata": {},
   "source": [
    "El propósito de esta tesina es encontrar los principales determinantes de los precios de los listados de Airbnb en la Ciudad de México, para ellos utilizaremos la información provista por Murray Cox en su página, Inside Airbnb. En esta, se publican scrapes mensuales de diversas ciudades del mundo donde Airbnb tiene presencia. Esta información incluye atributos del anfitrión, ubicación, precios, características, reglas y amenidades de los listados. Para este estudio utlilizaremos la información de los listados de la CDMX desde abril de 2019 hasta marzo de 2020. \n",
    "\n",
    "Debido al surgimiento de la pandemia y su eventual efecto en la industria del alojamiento, el estudio se limitará hasta febrero de 2020 con el fin de no incluir sesgos en la demanda y en los precios provocados por la pandemia.\n",
    "\n",
    "Este notebook contiene la preparación de los datos publicados, en particular se limpiarán variables, se removerán aquellas que no sean de interés, se concatenará toda la información temporal y se van a extraer características adicional contenidas en listas dentro de las bases."
   ]
  },
  {
   "cell_type": "markdown",
   "metadata": {},
   "source": [
    "### Importar paquetería, configurara opciones de visualización y comfigurar el directorio ###"
   ]
  },
  {
   "cell_type": "code",
   "execution_count": 630,
   "metadata": {},
   "outputs": [],
   "source": [
    "import pandas as pd\n",
    "import geopandas as gpd\n",
    "import pandas as pd\n",
    "import numpy as np\n",
    "import matplotlib.pyplot as plt\n",
    "import seaborn as sns\n",
    "import descartes\n",
    "%matplotlib inline\n",
    "import os"
   ]
  },
  {
   "cell_type": "code",
   "execution_count": 631,
   "metadata": {},
   "outputs": [],
   "source": [
    "pd.set_option('display.max_rows', 5000)\n",
    "pd.set_option('display.max_columns', 500)\n",
    "pd.set_option('display.width', 1000)"
   ]
  },
  {
   "cell_type": "code",
   "execution_count": 632,
   "metadata": {},
   "outputs": [],
   "source": [
    "### Función para identificar listados ###\n",
    "def SearchID(df, ident):\n",
    "    return df[df['id'] == ident]"
   ]
  },
  {
   "cell_type": "code",
   "execution_count": 633,
   "metadata": {},
   "outputs": [],
   "source": [
    "os.chdir('c:\\\\Users\\\\edari\\\\Desktop\\\\CIDE\\\\8 Octavo\\\\SEMINARIO DE TITULACIÓN\\\\Manejo de Datos\\\\Código tesina\\\\InsideAB&B')"
   ]
  },
  {
   "cell_type": "code",
   "execution_count": 634,
   "metadata": {},
   "outputs": [],
   "source": [
    "\n",
    "### Introducir una lista con todo el directorio ###\n",
    "\n",
    "dire = [\n",
    "    'listings_adv_0319.csv',\n",
    "    'listings_adv_0419.csv',\n",
    "    'listings_adv_0519.csv',\n",
    "    'listings_adv_0619.csv',\n",
    "    'listings_adv_0719.csv',\n",
    "    'listings_adv_0819.csv',\n",
    "    'listings_adv_0919.csv',\n",
    "    'listings_adv_1019.csv',\n",
    "    'listings_adv_1119.csv',\n",
    "    'listings_adv_1219.csv',\n",
    "    'listings_adv_0120.csv',\n",
    "    'listings_adv_0220.csv',\n",
    "    'listings_adv_0320.csv'\n",
    "]\n",
    "\n",
    "### Pre-Processing\n",
    "\n",
    "### Leer el Csv ###\n",
    "\n",
    "listados_total = [pd.read_csv(d, low_memory = False) for d in dire]"
   ]
  },
  {
   "cell_type": "code",
   "execution_count": 635,
   "metadata": {},
   "outputs": [],
   "source": [
    "### Establecer cuales son las variables redundantes y guardarlas en una lista ###\n",
    "\n",
    "variables_red = ['listing_url', 'name', 'summary', \n",
    "            'space', 'description', 'host_id', 'host_location', 'host_response_rate', 'host_since',\n",
    "            \n",
    "            'experiences_offered',\n",
    "            'neighborhood_overview', 'notes', 'transit',\n",
    "            'access', 'interaction', 'house_rules',\n",
    "                 \n",
    "            'thumbnail_url',\n",
    "            'medium_url', 'picture_url', 'xl_picture_url',\n",
    "                 \n",
    "            'host_url', 'host_name',\n",
    "            'host_about',\n",
    "            'host_thumbnail_url', 'host_picture_url','host_listings_count',\n",
    "            'host_verifications', \n",
    "                 \n",
    "            'street','neighbourhood_group_cleansed',\n",
    "            'city','state','market','smart_location','country_code', 'country',\n",
    "                 \n",
    "            'bed_type',\n",
    "                 \n",
    "            'minimum_nights',\n",
    "            'maximum_nights', 'minimum_minimum_nights',\n",
    "            'maximum_minimum_nights', 'minimum_maximum_nights',\n",
    "            'maximum_maximum_nights',\n",
    "                 \n",
    "                 \n",
    "             \"review_scores_accuracy\",            \n",
    "             \"review_scores_cleanliness\",         \n",
    "             \"review_scores_checkin\",             \n",
    "             \"review_scores_communication\",       \n",
    "             \"review_scores_location\",            \n",
    "             \"review_scores_value\",\n",
    "                             \n",
    "               'has_availability',  \n",
    "                 \n",
    "            'number_of_reviews_ltm',\n",
    "            'reviews_per_month',   \n",
    "                 \n",
    "            'calculated_host_listings_count', 'calculated_host_listings_count_entire_homes',\n",
    "            'calculated_host_listings_count_private_rooms',\n",
    "            'calculated_host_listings_count_shared_rooms',\n",
    "                 \n",
    "            'is_business_travel_ready',\n",
    "                 \n",
    "            'host_response_time',\n",
    "            'host_acceptance_rate',\n",
    "            'scrape_id',\n",
    "            'host_neighbourhood',\n",
    "            'square_feet',\n",
    "            'weekly_price',\n",
    "            'monthly_price',\n",
    "            'minimum_nights_avg_ntm',\n",
    "            'maximum_nights_avg_ntm',\n",
    "            'calendar_updated',\n",
    "            'availability_30',\n",
    "            'availability_60',\n",
    "            'availability_90',\n",
    "            'availability_365','calendar_last_scraped','requires_license',\n",
    "            'license',\n",
    "            'jurisdiction_names'   \n",
    "            \n",
    "                ]\n",
    "\n",
    "# Quitar variables redundantes para el análisis\n",
    "\n",
    "for l in listados_total:\n",
    "    l.drop(columns=variables_red, inplace=True)\n",
    "\n",
    "### Renombrar ###\n",
    "\n",
    "for lis in listados_total:\n",
    "    lis.rename(columns={'neighbourhood':'colonia',\n",
    "                        'neighbourhood_cleansed':'alcaldía',\n",
    "                        'zipcode':'código_postal',\n",
    "                        'room_type':'tipo_cuarto',\n",
    "                        'price':'precio',\n",
    "                        'instant_bookable':'insta_book',\n",
    "                        }, inplace = True)"
   ]
  },
  {
   "cell_type": "markdown",
   "metadata": {},
   "source": [
    "### Limpieza de precios "
   ]
  },
  {
   "cell_type": "code",
   "execution_count": 636,
   "metadata": {},
   "outputs": [],
   "source": [
    "##### Primero hay que limpiar los precios, es decir, quitarle el signo y puntuación y convertirlo a tipo flotante #####\n",
    "\n",
    "### Establecer varaibles de precio\n",
    "\n",
    "prices = ['precio','cleaning_fee','extra_people', 'security_deposit']\n",
    "\n",
    "for lista in listados_total:\n",
    "    for p in prices:\n",
    "        lista[p] = lista[p].str.replace('$','')\n",
    "        lista[p] = lista[p].str.replace(',','')\n",
    "        lista[p] = pd.to_numeric(lista[p])\n",
    "\n",
    "### Sustituir NAs en variables de precios adicionales (i.e. poner 0 en listados que no cuentan con precios adicionales)        \n",
    "        \n",
    "for lista in listados_total:\n",
    "    for p in prices[1:]:\n",
    "        lista[p] = lista[p].fillna(0)"
   ]
  },
  {
   "cell_type": "markdown",
   "metadata": {},
   "source": [
    "### Concatenar, ordenar, crear variable host profesional y reofrmatear variables a datetime "
   ]
  },
  {
   "cell_type": "code",
   "execution_count": 637,
   "metadata": {},
   "outputs": [],
   "source": [
    "\n",
    "### Concatenar todas las bases de 04-19 a 03-20 en una sola y ordenarlas por id y fecha\n",
    "\n",
    "listados_panel = pd.concat(listados_total)\n",
    "\n",
    "#### Ordenar el df por id y fecha de scrapeo ###\n",
    "\n",
    "listados_panel.sort_values(by=['id', 'last_scraped'], inplace=True)\n",
    "\n",
    "listados_panel.drop_duplicates(subset=['id', 'last_scraped'], inplace=True)\n",
    "\n",
    "##### Crear variable comercial, es decir, si el dueño del listado tiene más de uno, es comercial, si es sólo uno, entonces es privado\n",
    "\n",
    "listados_panel['Tipo Listado'] = np.where(listados_panel['host_total_listings_count'] > 1, 1, 0)\n",
    "\n",
    "# Convertir variables a datetime\n",
    "\n",
    "listados_panel['last_scraped'] = pd.to_datetime(listados_panel['last_scraped'])\n",
    "\n",
    "listados_panel['mes'] = pd.to_datetime(listados_panel['last_scraped']).dt.to_period('M')\n",
    "\n"
   ]
  },
  {
   "cell_type": "markdown",
   "metadata": {},
   "source": [
    "### Filtrar listados cuyo precio sea igual a cero ### "
   ]
  },
  {
   "cell_type": "code",
   "execution_count": 638,
   "metadata": {},
   "outputs": [],
   "source": [
    "zero_price_index = listados_panel[listados_panel['precio'] == 0.0].index\n",
    "listados_panel.drop(zero_price_index, axis = 0, inplace = True)"
   ]
  },
  {
   "cell_type": "markdown",
   "metadata": {},
   "source": [
    "### Limpiar variable de amenidades y seleccionar amenidades de interés para el estudio "
   ]
  },
  {
   "cell_type": "code",
   "execution_count": 639,
   "metadata": {},
   "outputs": [],
   "source": [
    "listados_panel.amenities = listados_panel.amenities.str.replace(\"[{}]\", \"\").str.replace('\"', \"\").str.replace(' ','_').str.replace(' ','').str.lower()\n",
    "\n",
    "amenities = ['wifi', 'pets_allowed', 'gym', 'breakfast', \n",
    "             'kitchen', 'washer', 'dryer', 'parking',\n",
    "             'elevator', 'pool', 'smoking_allowed', \n",
    "             'hot_tub']\n",
    "\n",
    "\n",
    "for a in amenities:\n",
    "    listados_panel[a] = listados_panel.amenities.str.contains(a)\n",
    "    listados_panel[a] = listados_panel[a].replace(False, 0, regex=True)\n",
    "    listados_panel[a] = listados_panel[a].replace(True, 1, regex=True)"
   ]
  },
  {
   "cell_type": "code",
   "execution_count": 640,
   "metadata": {},
   "outputs": [],
   "source": [
    "listados_panel = listados_panel.drop(axis=1, columns='amenities')"
   ]
  },
  {
   "cell_type": "markdown",
   "metadata": {},
   "source": [
    "### Convertir variables t o f a dummies de 0/1"
   ]
  },
  {
   "cell_type": "code",
   "execution_count": 641,
   "metadata": {},
   "outputs": [],
   "source": [
    "columns =  ['host_is_superhost', 'host_identity_verified', 'host_has_profile_pic',\n",
    "                   'is_location_exact', 'insta_book',\n",
    "                   'require_guest_profile_picture', 'require_guest_phone_verification']\n",
    "for c in columns:\n",
    "    listados_panel[c] = listados_panel[c].replace('f',0,regex=True)\n",
    "    listados_panel[c] = listados_panel[c].replace('t',1,regex=True)"
   ]
  },
  {
   "cell_type": "markdown",
   "metadata": {},
   "source": [
    "### Filtrar los cuartos de hotel, solo nos interesan unidades enteras, cuartos privados y espacios compartidos"
   ]
  },
  {
   "cell_type": "code",
   "execution_count": 642,
   "metadata": {},
   "outputs": [],
   "source": [
    "ids_hotel = listados_panel[listados_panel['tipo_cuarto'] == 'Hotel room']['id']"
   ]
  },
  {
   "cell_type": "code",
   "execution_count": 643,
   "metadata": {},
   "outputs": [],
   "source": [
    "ids_hotel = indices_hotel.drop_duplicates()"
   ]
  },
  {
   "cell_type": "markdown",
   "metadata": {},
   "source": [
    "### Seleccionar listados publicados en el mes de julio ###"
   ]
  },
  {
   "cell_type": "code",
   "execution_count": 644,
   "metadata": {},
   "outputs": [],
   "source": [
    "listados_panel = listados_panel[listados_panel['mes'] == '2019-07-01']\n",
    "listados_panel.drop('mes', axis=1, inplace=True)"
   ]
  },
  {
   "cell_type": "code",
   "execution_count": 645,
   "metadata": {},
   "outputs": [],
   "source": [
    "indices_hotel = listados_panel[listados_panel['id'].isin(ids_hotel)].index\n",
    "listados_panel.drop(indices_hotel,  inplace = True)"
   ]
  },
  {
   "cell_type": "markdown",
   "metadata": {},
   "source": [
    "### Filtrar listados cuya ubicación es inexacta ###"
   ]
  },
  {
   "cell_type": "code",
   "execution_count": 646,
   "metadata": {},
   "outputs": [
    {
     "data": {
      "text/plain": [
       "<AxesSubplot:>"
      ]
     },
     "execution_count": 646,
     "metadata": {},
     "output_type": "execute_result"
    },
    {
     "data": {
      "image/png": "[encoded data removed]",
      "text/plain": [
       "<Figure size 432x288 with 1 Axes>"
      ]
     },
     "metadata": {
      "needs_background": "light"
     },
     "output_type": "display_data"
    }
   ],
   "source": [
    "listados_panel.is_location_exact.hist()"
   ]
  },
  {
   "cell_type": "code",
   "execution_count": 647,
   "metadata": {},
   "outputs": [],
   "source": [
    "indices_ubis =listados_panel[listados_panel['is_location_exact'] == False].index\n",
    "listados_panel = listados_panel.drop(indices_ubis)\n",
    "listados_panel.drop(axis=1, columns='is_location_exact', inplace=True)"
   ]
  },
  {
   "cell_type": "markdown",
   "metadata": {},
   "source": [
    "### Filtrar listados que no cuentan con información de que usuarios son Superhosts ###"
   ]
  },
  {
   "cell_type": "code",
   "execution_count": 648,
   "metadata": {},
   "outputs": [
    {
     "data": {
      "text/plain": [
       "<AxesSubplot:>"
      ]
     },
     "execution_count": 648,
     "metadata": {},
     "output_type": "execute_result"
    },
    {
     "data": {
      "image/png": "[encoded data removed]",
      "text/plain": [
       "<Figure size 432x288 with 1 Axes>"
      ]
     },
     "metadata": {
      "needs_background": "light"
     },
     "output_type": "display_data"
    }
   ],
   "source": [
    "listados_panel.host_is_superhost.hist()"
   ]
  },
  {
   "cell_type": "code",
   "execution_count": 649,
   "metadata": {},
   "outputs": [
    {
     "data": {
      "text/plain": [
       "6"
      ]
     },
     "execution_count": 649,
     "metadata": {},
     "output_type": "execute_result"
    }
   ],
   "source": [
    "listados_panel.host_is_superhost.isnull().sum()"
   ]
  },
  {
   "cell_type": "code",
   "execution_count": 650,
   "metadata": {},
   "outputs": [],
   "source": [
    "super_index = listados_panel[listados_panel.host_is_superhost.isnull() == True].index\n",
    "listados_panel.drop(super_index, inplace = True)"
   ]
  },
  {
   "cell_type": "markdown",
   "metadata": {},
   "source": [
    "### Imputar la mediana a listados sin ratings "
   ]
  },
  {
   "cell_type": "code",
   "execution_count": 651,
   "metadata": {},
   "outputs": [
    {
     "data": {
      "text/plain": [
       "<AxesSubplot:>"
      ]
     },
     "execution_count": 651,
     "metadata": {},
     "output_type": "execute_result"
    },
    {
     "data": {
      "image/png": "[encoded data removed]",
      "text/plain": [
       "<Figure size 432x288 with 1 Axes>"
      ]
     },
     "metadata": {
      "needs_background": "light"
     },
     "output_type": "display_data"
    }
   ],
   "source": [
    "listados_panel.review_scores_rating.hist(bins=10)"
   ]
  },
  {
   "cell_type": "code",
   "execution_count": 652,
   "metadata": {},
   "outputs": [
    {
     "data": {
      "text/plain": [
       "3209"
      ]
     },
     "execution_count": 652,
     "metadata": {},
     "output_type": "execute_result"
    }
   ],
   "source": [
    "listados_panel.review_scores_rating.isnull().sum()"
   ]
  },
  {
   "cell_type": "code",
   "execution_count": 653,
   "metadata": {},
   "outputs": [
    {
     "data": {
      "text/plain": [
       "98.0"
      ]
     },
     "execution_count": 653,
     "metadata": {},
     "output_type": "execute_result"
    }
   ],
   "source": [
    "mediana = listados_panel.review_scores_rating.median()\n",
    "mediana"
   ]
  },
  {
   "cell_type": "code",
   "execution_count": 654,
   "metadata": {},
   "outputs": [],
   "source": [
    "listados_panel.review_scores_rating.fillna(mediana, inplace=True)"
   ]
  },
  {
   "cell_type": "markdown",
   "metadata": {},
   "source": [
    "### Repetir el mismo proceso a camas, habitaciones y baños"
   ]
  },
  {
   "cell_type": "code",
   "execution_count": 655,
   "metadata": {},
   "outputs": [],
   "source": [
    "## NAs de número de recámaras, baños y camas "
   ]
  },
  {
   "cell_type": "code",
   "execution_count": 656,
   "metadata": {},
   "outputs": [],
   "source": [
    "# Imprimir número de missing values (izquierda) y mediana (derecha)"
   ]
  },
  {
   "cell_type": "code",
   "execution_count": 657,
   "metadata": {},
   "outputs": [
    {
     "name": "stdout",
     "output_type": "stream",
     "text": [
      "4 1.0\n",
      "6 1.0\n",
      "11 1.0\n"
     ]
    }
   ],
   "source": [
    "size = ['bedrooms', 'bathrooms', 'beds']\n",
    "\n",
    "for i in size:\n",
    "    print(listados_panel[i].isnull().sum(), listados_panel[i].median())"
   ]
  },
  {
   "cell_type": "code",
   "execution_count": 658,
   "metadata": {},
   "outputs": [],
   "source": [
    "for i in size:\n",
    "    listados_panel[i].fillna(listados_panel[i].median(), inplace=True)"
   ]
  },
  {
   "cell_type": "markdown",
   "metadata": {},
   "source": [
    "### Estimar periodo de inactividad y filtrar los resultados "
   ]
  },
  {
   "cell_type": "code",
   "execution_count": 659,
   "metadata": {},
   "outputs": [],
   "source": [
    "### Convertir variables a datetime ###\n",
    "\n",
    "listados_panel['first_review'] = pd.to_datetime(listados_panel['first_review'])\n",
    "\n",
    "listados_panel['last_review'] = pd.to_datetime(listados_panel['last_review'])\n",
    "\n",
    "listados_panel['meses_inact'] = ((listados_panel.last_scraped - listados_panel.last_review)/np.timedelta64(1, 'M'))\n",
    "\n",
    "listados_panel['ad_duration'] = ((listados_panel.last_scraped - listados_panel.first_review)/np.timedelta64(1, 'M'))\n",
    "\n",
    "\n",
    "\n",
    "index_inact = listados_panel[(listados_panel['meses_inact'] > 6)].index\n",
    "index_null_act = listados_panel[listados_panel.meses_inact.isnull() == True].index\n",
    "\n",
    "\n",
    "listados_panel.drop(index_inact, inplace=True)\n",
    "listados_panel.drop(index_null_act, inplace=True)\n",
    "\n",
    "\n",
    "listados_panel.drop(columns=['meses_inact', 'last_scraped'], inplace= True)"
   ]
  },
  {
   "cell_type": "markdown",
   "metadata": {},
   "source": [
    "### Filtrar por tipo de propiedad, selección de apartamentos, lofts y departamentos con servicios"
   ]
  },
  {
   "cell_type": "markdown",
   "metadata": {},
   "source": [
    "Para el estudio, utilizaremos una muestra de tipo de propiedad más específica, de acuerdo con (Chica-Olmo et al. 2020), es preferible estudiar una muestra homogénea de tipo de propiedad debido a la difrenciación que existe entre los servicios ofrecidos. (e.g. no es posible hacer una comparación exacta entre tipos de alojamiento especiales, como es el caso de Bungalows, cabañas y cuevas frente a hoteles. Tampoco es factible comprar listados que se señalizan como hoteles o Bed & Breakfasts) El propósito es el de homogeneizar la muestra a un grupo particular para obtener resultados limpios y específicos para esta muestra. En este caso, se decidió que se analizará únicamente a los departamentos debido a que prevalecen como  una mayoría en la muestra y nos permitirá depejar efectos de otros tipos de alojamiento. Además, el spillover espacial será menos hetrogéneo. "
   ]
  },
  {
   "cell_type": "code",
   "execution_count": 660,
   "metadata": {},
   "outputs": [
    {
     "data": {
      "text/plain": [
       "Apartment                  5442\n",
       "House                       957\n",
       "Condominium                 559\n",
       "Loft                        525\n",
       "Serviced apartment          280\n",
       "Guest suite                 202\n",
       "Bed and breakfast            84\n",
       "Guesthouse                   79\n",
       "Hostel                       75\n",
       "Boutique hotel               45\n",
       "Townhouse                    44\n",
       "Tiny house                   16\n",
       "Hotel                        16\n",
       "Casa particular (Cuba)       15\n",
       "Aparthotel                   13\n",
       "Other                        13\n",
       "Villa                         6\n",
       "Cabin                         3\n",
       "Nature lodge                  2\n",
       "Cycladic house (Greece)       2\n",
       "Chalet                        2\n",
       "Bungalow                      2\n",
       "Farm stay                     2\n",
       "Cave                          1\n",
       "Barn                          1\n",
       "Dome house                    1\n",
       "Name: property_type, dtype: int64"
      ]
     },
     "execution_count": 660,
     "metadata": {},
     "output_type": "execute_result"
    }
   ],
   "source": [
    "listados_panel.property_type.value_counts()"
   ]
  },
  {
   "cell_type": "code",
   "execution_count": 661,
   "metadata": {},
   "outputs": [],
   "source": [
    "indices_prop = listados_panel[listados_panel['property_type'].isin(['Apartment', 'Loft', 'Serviced apartment'])].index\n",
    "listados_panel = listados_panel.loc[indices_prop]\n",
    "listados_panel.drop(columns='property_type', inplace =True)"
   ]
  },
  {
   "cell_type": "markdown",
   "metadata": {},
   "source": [
    "### Categorizar tipo de cuarto y política de cancelación"
   ]
  },
  {
   "cell_type": "code",
   "execution_count": 662,
   "metadata": {},
   "outputs": [],
   "source": [
    "listados_panel.cancellation_policy = listados_panel.cancellation_policy.apply(lambda x:1 if x=='flexible' else 0)"
   ]
  },
  {
   "cell_type": "code",
   "execution_count": 663,
   "metadata": {},
   "outputs": [],
   "source": [
    "listados_panel.rename({'cancellation_policy':'flexible_cancel'}, axis = 1, inplace = True)"
   ]
  },
  {
   "cell_type": "code",
   "execution_count": 664,
   "metadata": {},
   "outputs": [
    {
     "data": {
      "text/plain": [
       "0    3958\n",
       "1    2289\n",
       "Name: flexible_cancel, dtype: int64"
      ]
     },
     "execution_count": 664,
     "metadata": {},
     "output_type": "execute_result"
    }
   ],
   "source": [
    "listados_panel.flexible_cancel.value_counts()"
   ]
  },
  {
   "cell_type": "code",
   "execution_count": 665,
   "metadata": {},
   "outputs": [],
   "source": [
    "listados_panel['flexible_cancel'] = listados_panel['flexible_cancel'].astype('int')"
   ]
  },
  {
   "cell_type": "code",
   "execution_count": 666,
   "metadata": {},
   "outputs": [],
   "source": [
    "listados_panel = pd.concat((listados_panel, pd.get_dummies(listados_panel['tipo_cuarto'])), axis = 1).drop(['Entire home/apt', 'tipo_cuarto'], axis = 1)"
   ]
  },
  {
   "cell_type": "code",
   "execution_count": 667,
   "metadata": {},
   "outputs": [],
   "source": [
    "listados_panel['Private room'] = listados_panel['Private room'].astype(int)\n",
    "listados_panel['Shared room'] = listados_panel['Shared room'].astype(int)"
   ]
  },
  {
   "cell_type": "code",
   "execution_count": 668,
   "metadata": {},
   "outputs": [
    {
     "name": "stdout",
     "output_type": "stream",
     "text": [
      "<class 'pandas.core.frame.DataFrame'>\n",
      "Int64Index: 6247 entries, 5 to 19250\n",
      "Data columns (total 43 columns):\n",
      " #   Column                            Non-Null Count  Dtype         \n",
      "---  ------                            --------------  -----         \n",
      " 0   id                                6247 non-null   int64         \n",
      " 1   host_is_superhost                 6247 non-null   float64       \n",
      " 2   host_total_listings_count         6247 non-null   float64       \n",
      " 3   host_has_profile_pic              6247 non-null   float64       \n",
      " 4   host_identity_verified            6247 non-null   float64       \n",
      " 5   colonia                           5564 non-null   object        \n",
      " 6   alcaldía                          6247 non-null   object        \n",
      " 7   código_postal                     6166 non-null   object        \n",
      " 8   latitude                          6247 non-null   float64       \n",
      " 9   longitude                         6247 non-null   float64       \n",
      " 10  accommodates                      6247 non-null   int64         \n",
      " 11  bathrooms                         6247 non-null   float64       \n",
      " 12  bedrooms                          6247 non-null   float64       \n",
      " 13  beds                              6247 non-null   float64       \n",
      " 14  precio                            6247 non-null   float64       \n",
      " 15  security_deposit                  6247 non-null   float64       \n",
      " 16  cleaning_fee                      6247 non-null   float64       \n",
      " 17  guests_included                   6247 non-null   int64         \n",
      " 18  extra_people                      6247 non-null   float64       \n",
      " 19  number_of_reviews                 6247 non-null   int64         \n",
      " 20  first_review                      6247 non-null   datetime64[ns]\n",
      " 21  last_review                       6247 non-null   datetime64[ns]\n",
      " 22  review_scores_rating              6247 non-null   float64       \n",
      " 23  insta_book                        6247 non-null   int64         \n",
      " 24  flexible_cancel                   6247 non-null   int32         \n",
      " 25  require_guest_profile_picture     6247 non-null   int64         \n",
      " 26  require_guest_phone_verification  6247 non-null   int64         \n",
      " 27  Tipo Listado                      6247 non-null   int32         \n",
      " 28  wifi                              6247 non-null   float64       \n",
      " 29  pets_allowed                      6247 non-null   float64       \n",
      " 30  gym                               6247 non-null   float64       \n",
      " 31  breakfast                         6247 non-null   float64       \n",
      " 32  kitchen                           6247 non-null   float64       \n",
      " 33  washer                            6247 non-null   float64       \n",
      " 34  dryer                             6247 non-null   float64       \n",
      " 35  parking                           6247 non-null   float64       \n",
      " 36  elevator                          6247 non-null   float64       \n",
      " 37  pool                              6247 non-null   float64       \n",
      " 38  smoking_allowed                   6247 non-null   float64       \n",
      " 39  hot_tub                           6247 non-null   float64       \n",
      " 40  ad_duration                       6247 non-null   float64       \n",
      " 41  Private room                      6247 non-null   int32         \n",
      " 42  Shared room                       6247 non-null   int32         \n",
      "dtypes: datetime64[ns](2), float64(27), int32(4), int64(7), object(3)\n",
      "memory usage: 2.0+ MB\n"
     ]
    }
   ],
   "source": [
    "listados_panel.info()"
   ]
  },
  {
   "cell_type": "code",
   "execution_count": 669,
   "metadata": {},
   "outputs": [],
   "source": [
    "listados_panel['código_postal'] = listados_panel['código_postal'].str.replace('CP', '')"
   ]
  },
  {
   "cell_type": "code",
   "execution_count": null,
   "metadata": {},
   "outputs": [],
   "source": []
  },
  {
   "cell_type": "code",
   "execution_count": 670,
   "metadata": {},
   "outputs": [],
   "source": [
    "listados_panel['código_postal'] = listados_panel['código_postal'].str.replace('cp.', '')"
   ]
  },
  {
   "cell_type": "code",
   "execution_count": 671,
   "metadata": {},
   "outputs": [],
   "source": [
    "listados_panel['código_postal'] = listados_panel['código_postal'].str.replace('Ciudad de Mexico', '')"
   ]
  },
  {
   "cell_type": "code",
   "execution_count": 672,
   "metadata": {},
   "outputs": [],
   "source": [
    "listados_panel['código_postal'] = listados_panel['código_postal'].str.replace(' ', '')"
   ]
  },
  {
   "cell_type": "code",
   "execution_count": 673,
   "metadata": {},
   "outputs": [],
   "source": [
    "listados_panel['ln_price'] = np.log(listados_panel['precio'])"
   ]
  },
  {
   "cell_type": "code",
   "execution_count": 674,
   "metadata": {},
   "outputs": [],
   "source": [
    "listados_panel.set_index('id', inplace = True)"
   ]
  },
  {
   "cell_type": "markdown",
   "metadata": {},
   "source": [
    "### Exportar datos finales a un CSV ###"
   ]
  },
  {
   "cell_type": "code",
   "execution_count": 675,
   "metadata": {},
   "outputs": [],
   "source": [
    "listados_panel.to_csv('inside_abnb_clean.csv',encoding='latin1')"
   ]
  },
  {
   "cell_type": "markdown",
   "metadata": {},
   "source": [
    "### Código para el estudio pasado (Estimar la ocupación con base en información desagregada de reseñas en una bd externa de Airbnb)"
   ]
  },
  {
   "cell_type": "code",
   "execution_count": null,
   "metadata": {},
   "outputs": [],
   "source": [
    "reviews  = pd.read_csv(\"reviews_clean.csv\")\n",
    "\n",
    "reviews.rename(columns={'reviews_per_month':'reviews_per_month_2'}, inplace=True)\n",
    "\n",
    "reviews.info()\n",
    "\n",
    "reviews.drop('Unnamed: 0', axis = 1, inplace = True)\n",
    "\n",
    "reviews.mes = pd.to_datetime(reviews.mes)\n",
    "\n",
    "listados_panel.mes = listados_panel.mes.astype('str')\n",
    "\n",
    "listados_panel.mes = pd.to_datetime(listados_panel.mes)\n",
    "\n",
    "#### Agregar datos de número de reseñas por mes por listado a la base de datos principal ###\n",
    "\n",
    "listados_panel = listados_panel.merge(reviews, on=['mes', 'id'], how = 'left')\n",
    "\n",
    "\n",
    "\n",
    "### Estimar la ocupación de los listados ###\n",
    "\n",
    "### Primero hay que estimar el número de noches promedio de los huéspedes en la CDMX. 4 noches, según el Financiero en 2017.\n",
    "\n",
    "noches_promedio = 4\n",
    "\n",
    "### Luego hay que calcular la tasa de reviews (Inside Airbnb/Murray Cox)\n",
    "\n",
    "tasa_reviews_1 = 0.5\n",
    "\n",
    "tasa_reviews_2 = 0.4\n",
    "\n",
    "listados_panel['occupancy_rate_1'] = round(noches_promedio*(listados_panel['reviews_per_month']/tasa_reviews_1), 2)\n",
    "\n",
    "listados_panel['occupancy_rate_2'] = round(noches_promedio*(listados_panel['reviews_per_month']/tasa_reviews_2), 2)\n",
    "\n",
    "listados_panel['occupancy_rate_3'] = round(noches_promedio*(listados_panel['reviews_per_month_2']/tasa_reviews_1), 2)\n",
    "\n",
    "### Quitamos outliers que no cumplen con las condiciones\n",
    "\n",
    "len(listados_panel[listados_panel['occupancy_rate_1'] > 100])\n",
    "\n",
    "listados_panel.drop(listados_panel[(listados_panel['occupancy_rate_1'] > 100)].index, axis=0, inplace=True)\n",
    "listados_panel.occupancy_rate_1.describe()\n",
    "\n",
    "ids_hoteles = list(listados_panel[listados_panel['tipo_cuarto'] == 'Hotel room']['id'])\n",
    "indices = list(listados_panel[listados_panel['id'].isin(ids_hoteles)].sort_values(by='id')['tipo_cuarto'].index)\n",
    "\n",
    "listados_panel.loc[indices,'tipo_cuarto'] = 'Hotel room'"
   ]
  }
 ],
 "metadata": {
  "kernelspec": {
   "display_name": "Python 3",
   "language": "python",
   "name": "python3"
  },
  "language_info": {
   "codemirror_mode": {
    "name": "ipython",
    "version": 3
   },
   "file_extension": ".py",
   "mimetype": "text/x-python",
   "name": "python",
   "nbconvert_exporter": "python",
   "pygments_lexer": "ipython3",
   "version": "3.8.5"
  }
 },
 "nbformat": 4,
 "nbformat_minor": 2
}

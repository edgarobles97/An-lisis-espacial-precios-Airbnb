{
 "cells": [
  {
   "cell_type": "markdown",
   "metadata": {},
   "source": [
    "# Tesina: The economics behind two-sided markets: key determinants of Airbnb pricing in Mexico City\n",
    "\n",
    "## Edgar Robles Díaz"
   ]
  },
  {
   "cell_type": "markdown",
   "metadata": {},
   "source": [
    "### Fuente principal: Inside Airbnb (Murray Cox) /  Trip Advisor / Datos abiertos de la CDMX"
   ]
  },
  {
   "cell_type": "markdown",
   "metadata": {},
   "source": [
    "### Parte 5. Modelado estadístico"
   ]
  },
  {
   "cell_type": "markdown",
   "metadata": {},
   "source": [
    "* Selección de matriz de pesos óptima\n",
    "* Revisión de supuestos (Normalidad, independencia, multicolinealidad y heteroscedasticidad) \n",
    "* Regresión tradicional (OLS)\n",
    "* Autocorrelación espacial (SAR) \n",
    "* Errores espaciales (SEM)\n",
    "* Análisis de residuales\n",
    "* Estimación de efectos directos, indirectos y totales."
   ]
  },
  {
   "cell_type": "markdown",
   "metadata": {},
   "source": [
    "# Importar paquetería esencial"
   ]
  },
  {
   "cell_type": "code",
   "execution_count": 1,
   "metadata": {},
   "outputs": [
    {
     "name": "stderr",
     "output_type": "stream",
     "text": [
      "C:\\Users\\edari\\anaconda3\\envs\\Tesis\\lib\\site-packages\\pysal\\explore\\segregation\\network\\network.py:15: UserWarning: You need pandana and urbanaccess to work with segregation's network module\n",
      "You can install them with  `pip install urbanaccess pandana` or `conda install -c udst pandana urbanaccess`\n",
      "  warn(\n",
      "C:\\Users\\edari\\anaconda3\\envs\\Tesis\\lib\\site-packages\\pysal\\model\\spvcm\\abstracts.py:10: UserWarning: The `dill` module is required to use the sqlite backend fully.\n",
      "  from .sqlite import head_to_sql, start_sql\n"
     ]
    }
   ],
   "source": [
    "import seaborn as sns\n",
    "from matplotlib import pyplot as plt \n",
    "\n",
    "import pandas as pd \n",
    "import numpy as np\n",
    "\n",
    "import pysal\n",
    "from pysal.lib import weights\n",
    "from pysal.lib import cg as geometry\n",
    "import libpysal\n",
    "import spreg\n",
    "\n",
    "import scipy.stats as stats\n",
    "from shapely.geometry import Point\n",
    "import geopandas as gpd\n",
    "\n",
    "\n",
    "import statsmodels.stats.api as sms\n",
    "\n",
    "from statsmodels.compat import lzip\n",
    "from statsmodels.stats.outliers_influence import variance_inflation_factor\n",
    "from statsmodels.tools.tools import add_constant\n",
    "\n",
    "import os\n",
    "\n",
    "\n",
    "from  scipy import sparse"
   ]
  },
  {
   "cell_type": "code",
   "execution_count": 2,
   "metadata": {},
   "outputs": [
    {
     "data": {
      "text/plain": [
       "'C:\\\\Users\\\\edari\\\\Desktop\\\\CIDE\\\\8 Octavo\\\\SEMINARIO DE TITULACIÓN\\\\Manejo de Datos\\\\Código tesina\\\\Notebook'"
      ]
     },
     "execution_count": 2,
     "metadata": {},
     "output_type": "execute_result"
    }
   ],
   "source": [
    "os.getcwd()"
   ]
  },
  {
   "cell_type": "code",
   "execution_count": 3,
   "metadata": {},
   "outputs": [],
   "source": [
    "os.chdir('c:\\\\Users\\\\edari\\\\Desktop\\\\CIDE\\\\8 Octavo\\\\SEMINARIO DE TITULACIÓN\\\\Manejo de Datos\\\\Código tesina')"
   ]
  },
  {
   "cell_type": "markdown",
   "metadata": {},
   "source": [
    "## Importar datos "
   ]
  },
  {
   "cell_type": "code",
   "execution_count": 4,
   "metadata": {},
   "outputs": [],
   "source": [
    "geo_df2 = pd.read_csv('inside_abnb_clean_3.csv', encoding = 'latin1')"
   ]
  },
  {
   "cell_type": "code",
   "execution_count": 5,
   "metadata": {},
   "outputs": [],
   "source": [
    "dummies = [\n",
    "        'host_is_superhost','host_identity_verified',\n",
    "        'insta_book', 'pets_allowed', 'gym',\n",
    "        'breakfast', 'washer', 'dryer',\n",
    "        'parking', 'Private room', \n",
    "        'flexible_cancel', 'Tipo Listado', \n",
    "        'elevator', 'hot_tub',\n",
    "        'smoking_allowed', 'pool'\n",
    "          ]\n",
    "\n",
    "for dum in dummies:\n",
    "    geo_df2[dum] = geo_df2[dum].astype('category')"
   ]
  },
  {
   "cell_type": "code",
   "execution_count": 6,
   "metadata": {},
   "outputs": [],
   "source": [
    "geo_df2['geometry'] = list(zip(geo_df2.longitude, geo_df2.latitude))\n"
   ]
  },
  {
   "cell_type": "code",
   "execution_count": 7,
   "metadata": {},
   "outputs": [],
   "source": [
    "geometry = list(list(zip(geo_df2.latitude, geo_df2.longitude)))"
   ]
  },
  {
   "cell_type": "code",
   "execution_count": 8,
   "metadata": {},
   "outputs": [],
   "source": [
    "geo_df2['geometry'] = geo_df2['geometry'].apply(Point)\n",
    "geo_df2 = gpd.GeoDataFrame(geo_df2, geometry='geometry')"
   ]
  },
  {
   "cell_type": "markdown",
   "metadata": {},
   "source": [
    "### Selección de variables explicativas para el modelo ###"
   ]
  },
  {
   "cell_type": "code",
   "execution_count": 9,
   "metadata": {},
   "outputs": [],
   "source": [
    "x_clean = geo_df2[[  \n",
    "    \n",
    "                 ### Tamaño y características físicas  ###\n",
    "                    'bedrooms', 'bathrooms', 'accommodates',\n",
    "                 ### Características listado ###\n",
    "                    'insta_book', 'ad_duration',\n",
    "                 ### Ubicación  #### \n",
    "                    'pi_dist', 'metro_distance',\n",
    "                 ### Amenidades #### \n",
    "                    'parking', 'breakfast', 'gym', 'pool', 'hot_tub', 'elevator',\n",
    "                 ### Reglas ### \n",
    "                    'flexible_cancel', 'pets_allowed', 'smoking_allowed',\n",
    "                  \n",
    "                 ### Características anfitrión ### \n",
    "                    'host_is_superhost', 'Tipo Listado', 'host_identity_verified',\n",
    "                  \n",
    "                  ### Reputación ###\n",
    "                  'review_scores_rating', 'number_of_reviews']]"
   ]
  },
  {
   "cell_type": "markdown",
   "metadata": {},
   "source": [
    "### VIF - Test de multicolinealidad"
   ]
  },
  {
   "cell_type": "code",
   "execution_count": 10,
   "metadata": {},
   "outputs": [],
   "source": [
    "x = add_constant(x_clean)"
   ]
  },
  {
   "cell_type": "code",
   "execution_count": 11,
   "metadata": {},
   "outputs": [
    {
     "data": {
      "text/plain": [
       "const                     226.086650\n",
       "bedrooms                    2.209657\n",
       "bathrooms                   1.753021\n",
       "accommodates                2.283344\n",
       "insta_book                  1.059034\n",
       "ad_duration                 1.878653\n",
       "pi_dist                     1.946047\n",
       "metro_distance              1.962663\n",
       "parking                     1.101613\n",
       "breakfast                   1.013301\n",
       "gym                         1.790860\n",
       "pool                        1.938361\n",
       "hot_tub                     1.370390\n",
       "elevator                    1.297789\n",
       "flexible_cancel             1.162683\n",
       "pets_allowed                1.066697\n",
       "smoking_allowed             1.080652\n",
       "host_is_superhost           1.185855\n",
       "Tipo Listado                1.081260\n",
       "host_identity_verified      1.166880\n",
       "review_scores_rating        1.092519\n",
       "number_of_reviews           1.803767\n",
       "dtype: float64"
      ]
     },
     "execution_count": 11,
     "metadata": {},
     "output_type": "execute_result"
    }
   ],
   "source": [
    "pd.Series([variance_inflation_factor(x.values, i) \n",
    "               for i in range(x.shape[1])], \n",
    "              index=x.columns)"
   ]
  },
  {
   "cell_type": "markdown",
   "metadata": {},
   "source": [
    "Ninguna de las explicativas supera el valor de 10, por lo tanto no hay multicolinealidad entre los estimadores de Airbnb y de TripAdvisor"
   ]
  },
  {
   "cell_type": "markdown",
   "metadata": {},
   "source": [
    "### Modelo SEM:"
   ]
  },
  {
   "cell_type": "markdown",
   "metadata": {},
   "source": [
    "## $y\\ =\\ \\alpha\\ +\\ X\\beta\\ +\\ {(I\\ -\\ \\lambda W)}^{-1}\\varepsilon\\$ "
   ]
  },
  {
   "cell_type": "markdown",
   "metadata": {},
   "source": [
    "### Modelo SAR:"
   ]
  },
  {
   "cell_type": "markdown",
   "metadata": {},
   "source": [
    "## $y\\ =\\ \\alpha\\ +\\ \\rho Wy\\ +\\ X\\beta\\ +\\ \\varepsilon,       $"
   ]
  },
  {
   "cell_type": "markdown",
   "metadata": {},
   "source": [
    "Donde Y el vector que representa a la variable dependiente, el vector X representa a las variables explicativas y el vector B a los coeficientes asociados a las variables explicativas. \n",
    "\n",
    "Adicionalmente, el modelo de autocorrelación espacial (SAR) incorpora elementos adicionales. La matriz W se puede interpretar como la relación que existe entre las observaciones y sus respectivos vecinos. En este sentido, la variable Wy representa una función de la variable dependiente de los puntos cercanos de cada observación.\n",
    "\n",
    "El coeficiente p indica el grado de influencia que tienen los valores de los vecinos sobre la variable dependiente de cada observación. Si el coeficiente es alto y significativo, es posible que exista un efecto spillover y, en consecuencia, un efecto espacial entre las observaciones y su respectiva vecindad."
   ]
  },
  {
   "cell_type": "code",
   "execution_count": 12,
   "metadata": {},
   "outputs": [],
   "source": [
    "w35 = libpysal.weights.KNN.from_dataframe(geo_df2, k=35)"
   ]
  },
  {
   "cell_type": "code",
   "execution_count": 13,
   "metadata": {},
   "outputs": [],
   "source": [
    "w35.transform = 'V'"
   ]
  },
  {
   "cell_type": "code",
   "execution_count": 14,
   "metadata": {},
   "outputs": [],
   "source": [
    "thresh = libpysal.weights.min_threshold_distance(geometry, p = 2)"
   ]
  },
  {
   "cell_type": "code",
   "execution_count": 15,
   "metadata": {},
   "outputs": [
    {
     "data": {
      "text/plain": [
       "0.030946007820076383"
      ]
     },
     "execution_count": 15,
     "metadata": {},
     "output_type": "execute_result"
    }
   ],
   "source": [
    "thresh"
   ]
  },
  {
   "cell_type": "code",
   "execution_count": 86,
   "metadata": {},
   "outputs": [],
   "source": [
    "w_id_f = libpysal.weights.DistanceBand.from_dataframe(geo_df2, threshold=thresh, alpha = -1, binary = False)"
   ]
  },
  {
   "cell_type": "code",
   "execution_count": 121,
   "metadata": {},
   "outputs": [],
   "source": [
    "w_id_f.transform = 'V'"
   ]
  },
  {
   "cell_type": "code",
   "execution_count": 103,
   "metadata": {},
   "outputs": [
    {
     "data": {
      "text/plain": [
       "3843"
      ]
     },
     "execution_count": 103,
     "metadata": {},
     "output_type": "execute_result"
    }
   ],
   "source": [
    "w_id.max_neighbors"
   ]
  },
  {
   "cell_type": "code",
   "execution_count": null,
   "metadata": {},
   "outputs": [],
   "source": []
  },
  {
   "cell_type": "code",
   "execution_count": 129,
   "metadata": {},
   "outputs": [
    {
     "name": "stderr",
     "output_type": "stream",
     "text": [
      "C:\\Users\\edari\\anaconda3\\envs\\Tesis\\lib\\site-packages\\libpysal\\weights\\weights.py:167: UserWarning: The weights matrix is not fully connected: \n",
      " There are 2 disconnected components.\n",
      "  warnings.warn(message)\n"
     ]
    }
   ],
   "source": [
    "w_id_sq = libpysal.weights.DistanceBand.from_dataframe(geo_df2, threshold = thresh, alpha = -2, binary = False)"
   ]
  },
  {
   "cell_type": "code",
   "execution_count": 135,
   "metadata": {},
   "outputs": [],
   "source": [
    "w_id_sq.transform  ='V'"
   ]
  },
  {
   "cell_type": "markdown",
   "metadata": {},
   "source": [
    "### Seleccionar matriz de pesos óptima para el modelo (Mayor R$^2$ y menor AIC) (Chica-Olmo et al. 2020)"
   ]
  },
  {
   "cell_type": "code",
   "execution_count": null,
   "metadata": {},
   "outputs": [],
   "source": [
    "### Generar matrices de pesos con diferentes números de vecinos más cercanos ###"
   ]
  },
  {
   "cell_type": "code",
   "execution_count": 16,
   "metadata": {},
   "outputs": [],
   "source": [
    "k = [10, 15,20,25,30,35,40,45,50,55,60,65,70,75,80]"
   ]
  },
  {
   "cell_type": "code",
   "execution_count": 17,
   "metadata": {},
   "outputs": [],
   "source": [
    "mats= [libpysal.weights.KNN.from_dataframe(geo_df2, \n",
    "                                           k=i)\n",
    "      for i in k ]"
   ]
  },
  {
   "cell_type": "code",
   "execution_count": 18,
   "metadata": {},
   "outputs": [],
   "source": [
    "for w in mats:\n",
    "    w.transform = 'V'"
   ]
  },
  {
   "cell_type": "code",
   "execution_count": 19,
   "metadata": {},
   "outputs": [],
   "source": [
    "### Estimar modelos con ML_Lag###"
   ]
  },
  {
   "cell_type": "code",
   "execution_count": 20,
   "metadata": {},
   "outputs": [
    {
     "name": "stderr",
     "output_type": "stream",
     "text": [
      "C:\\Users\\edari\\anaconda3\\envs\\Tesis\\lib\\site-packages\\scipy\\optimize\\_minimize.py:777: RuntimeWarning: Method 'bounded' does not support relative tolerance in x; defaulting to absolute tolerance.\n",
      "  warn(\"Method 'bounded' does not support relative tolerance in x; \"\n",
      "C:\\Users\\edari\\anaconda3\\envs\\Tesis\\lib\\site-packages\\numpy\\core\\fromnumeric.py:87: VisibleDeprecationWarning: Creating an ndarray from ragged nested sequences (which is a list-or-tuple of lists-or-tuples-or ndarrays with different lengths or shapes) is deprecated. If you meant to do this, you must specify 'dtype=object' when creating the ndarray\n",
      "  return ufunc.reduce(obj, axis, dtype, out, **passkwargs)\n"
     ]
    }
   ],
   "source": [
    "knn_models_ml =[ spreg.ML_Lag(geo_df2['ln_price'].values[:,None],\n",
    "                 x_clean.values,\n",
    "                 w = w,\n",
    "                 method='ord',\n",
    "                 spat_diag=True,\n",
    "                 name_x=x_clean.columns.tolist(),\n",
    "                 name_y='ln(price)')\n",
    "for w in mats\n",
    "               ]"
   ]
  },
  {
   "cell_type": "code",
   "execution_count": null,
   "metadata": {},
   "outputs": [],
   "source": [
    "### Extraer AIC y R2"
   ]
  },
  {
   "cell_type": "code",
   "execution_count": 21,
   "metadata": {},
   "outputs": [],
   "source": [
    "ml_r_sq = [ml.pr2 for ml in knn_models_ml]"
   ]
  },
  {
   "cell_type": "code",
   "execution_count": 22,
   "metadata": {},
   "outputs": [],
   "source": [
    "ml_aic = [ml.aic for ml in knn_models_ml]"
   ]
  },
  {
   "cell_type": "code",
   "execution_count": 23,
   "metadata": {},
   "outputs": [],
   "source": [
    "sns.set_style('whitegrid')"
   ]
  },
  {
   "cell_type": "code",
   "execution_count": 25,
   "metadata": {},
   "outputs": [
    {
     "data": {
      "image/png": "[encoded data removed]",
      "text/plain": [
       "<Figure size 1080x432 with 2 Axes>"
      ]
     },
     "metadata": {},
     "output_type": "display_data"
    }
   ],
   "source": [
    "fig, (ax1, ax2) = plt.subplots(1, 2)\n",
    "fig.suptitle('Valores de $R^2$ y Criterio de Información de Akaike del modelo de rezago espacial para diferentes valores de vecinos cercanos', fontsize=20)\n",
    "fig.set_figheight(6)\n",
    "fig.set_figwidth(15)\n",
    "ax1.scatter(k, ml_r_sq,c = 'c')\n",
    "ax1.axvline(x=35,c='r', linestyle='--')\n",
    "ax2.axvline(x=35,c='r', linestyle='--')\n",
    "ax1.yaxis.set_label_text('$R^2$')\n",
    "ax2.yaxis.set_label_text('$AIC$')\n",
    "ax1.xaxis.set_label_text('Número de vecinos más cercanos')\n",
    "ax2.xaxis.set_label_text('Número de vecinos más cercanos')\n",
    "ax2.scatter(k, ml_aic, c='y')\n",
    "sns.despine()\n",
    "plt.savefig('RAIC.png')"
   ]
  },
  {
   "cell_type": "markdown",
   "metadata": {},
   "source": [
    "### Selección matriz de 35 vecinos más cercanos"
   ]
  },
  {
   "cell_type": "markdown",
   "metadata": {},
   "source": [
    "### Modelo OLS para valuar supuestos de normalidad en los errores (Jarque-Bera) e independencia de las observaciones, selección de modelo espacial (SAR -LM LAg, SEM -LM Error)"
   ]
  },
  {
   "cell_type": "markdown",
   "metadata": {},
   "source": [
    "### MCO tradicional"
   ]
  },
  {
   "cell_type": "code",
   "execution_count": null,
   "metadata": {},
   "outputs": [],
   "source": [
    "### Insertar matriz de varianza-covarianza de White para controlar la heteroscedasticidad  "
   ]
  },
  {
   "cell_type": "code",
   "execution_count": 26,
   "metadata": {},
   "outputs": [],
   "source": [
    "m_test_ols = spreg.OLS(geo_df2['ln_price'].values[:,None], x_clean.values,robust='white' ,moran=True, w = w35, spat_diag = True ,name_x = x_clean.columns.tolist(), name_y='(log)price')"
   ]
  },
  {
   "cell_type": "code",
   "execution_count": 27,
   "metadata": {
    "scrolled": true
   },
   "outputs": [
    {
     "name": "stdout",
     "output_type": "stream",
     "text": [
      "REGRESSION\n",
      "----------\n",
      "SUMMARY OF OUTPUT: ORDINARY LEAST SQUARES\n",
      "-----------------------------------------\n",
      "Data set            :     unknown\n",
      "Weights matrix      :     unknown\n",
      "Dependent Variable  :  (log)price                Number of Observations:        6131\n",
      "Mean dependent var  :      6.6858                Number of Variables   :          22\n",
      "S.D. dependent var  :      0.6823                Degrees of Freedom    :        6109\n",
      "R-squared           :      0.4734\n",
      "Adjusted R-squared  :      0.4716\n",
      "Sum squared residual:    1502.702                F-statistic           :    261.4874\n",
      "Sigma-square        :       0.246                Prob(F-statistic)     :           0\n",
      "S.E. of regression  :       0.496                Log likelihood        :   -4389.134\n",
      "Sigma-square ML     :       0.245                Akaike info criterion :    8822.268\n",
      "S.E of regression ML:      0.4951                Schwarz criterion     :    8970.132\n",
      "\n",
      "White Standard Errors\n",
      "------------------------------------------------------------------------------------\n",
      "            Variable     Coefficient       Std.Error     t-Statistic     Probability\n",
      "------------------------------------------------------------------------------------\n",
      "            CONSTANT       5.7012188       0.1110677      51.3310184       0.0000000\n",
      "            bedrooms       0.0567011       0.0223912       2.5322887       0.0113569\n",
      "           bathrooms       0.1781936       0.0177757      10.0245737       0.0000000\n",
      "        accommodates       0.1430005       0.0080878      17.6809666       0.0000000\n",
      "          insta_book      -0.0488995       0.0135594      -3.6063306       0.0003130\n",
      "         ad_duration       0.0030546       0.0005449       5.6059172       0.0000000\n",
      "             pi_dist      -0.1130160       0.0055172     -20.4842852       0.0000000\n",
      "      metro_distance       0.0919376       0.0076769      11.9759392       0.0000000\n",
      "             parking       0.0246617       0.0153693       1.6046089       0.1086316\n",
      "           breakfast       0.0321402       0.0300828       1.0683924       0.2853858\n",
      "                 gym       0.0813414       0.0241863       3.3631161       0.0007754\n",
      "                pool       0.0262040       0.0316821       0.8270910       0.4082178\n",
      "             hot_tub       0.2507909       0.0279770       8.9641666       0.0000000\n",
      "            elevator       0.1194899       0.0148118       8.0672026       0.0000000\n",
      "     flexible_cancel      -0.0723735       0.0141107      -5.1289677       0.0000003\n",
      "        pets_allowed       0.0232021       0.0182823       1.2691006       0.2044535\n",
      "     smoking_allowed      -0.1473279       0.0152423      -9.6657195       0.0000000\n",
      "   host_is_superhost       0.0857697       0.0139648       6.1418534       0.0000000\n",
      "        Tipo Listado       0.0943323       0.0133572       7.0622726       0.0000000\n",
      "host_identity_verified      -0.0348713       0.0140006      -2.4906942       0.0127757\n",
      "review_scores_rating       0.0014637       0.0011283       1.2972782       0.1945845\n",
      "   number_of_reviews      -0.0001503       0.0001801      -0.8347651       0.4038826\n",
      "------------------------------------------------------------------------------------\n",
      "\n",
      "REGRESSION DIAGNOSTICS\n",
      "MULTICOLLINEARITY CONDITION NUMBER           69.018\n",
      "\n",
      "TEST ON NORMALITY OF ERRORS\n",
      "TEST                             DF        VALUE           PROB\n",
      "Jarque-Bera                       2           8.739           0.0127\n",
      "\n",
      "DIAGNOSTICS FOR HETEROSKEDASTICITY\n",
      "RANDOM COEFFICIENTS\n",
      "TEST                             DF        VALUE           PROB\n",
      "Breusch-Pagan test               21         244.516           0.0000\n",
      "Koenker-Bassett test             21         232.359           0.0000\n",
      "\n",
      "DIAGNOSTICS FOR SPATIAL DEPENDENCE\n",
      "TEST                           MI/DF       VALUE           PROB\n",
      "Moran's I (error)              0.2206        77.334           0.0000\n",
      "Lagrange Multiplier (lag)         1        3960.064           0.0000\n",
      "Robust LM (lag)                   1         296.605           0.0000\n",
      "Lagrange Multiplier (error)       1        5766.445           0.0000\n",
      "Robust LM (error)                 1        2102.986           0.0000\n",
      "Lagrange Multiplier (SARMA)       2        6063.050           0.0000\n",
      "\n",
      "================================ END OF REPORT =====================================\n"
     ]
    }
   ],
   "source": [
    "print(m_test_ols.summary)"
   ]
  },
  {
   "cell_type": "code",
   "execution_count": 178,
   "metadata": {},
   "outputs": [],
   "source": [
    "pvals = [i[1] for i in m_test_ols.t_stat]"
   ]
  },
  {
   "cell_type": "code",
   "execution_count": 190,
   "metadata": {},
   "outputs": [],
   "source": [
    "bets = m_test_ols.betas"
   ]
  },
  {
   "cell_type": "code",
   "execution_count": 184,
   "metadata": {},
   "outputs": [],
   "source": [
    "pvals = pd.Series(pvals).to_frame()"
   ]
  },
  {
   "cell_type": "code",
   "execution_count": 188,
   "metadata": {},
   "outputs": [],
   "source": [
    "pvals.index = x.columns.tolist()"
   ]
  },
  {
   "cell_type": "code",
   "execution_count": 191,
   "metadata": {},
   "outputs": [],
   "source": [
    "pvals['OLS'] = bets"
   ]
  },
  {
   "cell_type": "code",
   "execution_count": 198,
   "metadata": {},
   "outputs": [],
   "source": [
    "pvals = pvals[['OLS', 0]]"
   ]
  },
  {
   "cell_type": "code",
   "execution_count": 200,
   "metadata": {},
   "outputs": [],
   "source": [
    "pvals.rename({0:'p-value'}, axis=1, inplace = True)"
   ]
  },
  {
   "cell_type": "code",
   "execution_count": 201,
   "metadata": {},
   "outputs": [
    {
     "data": {
      "text/html": [
       "<div>\n",
       "<style scoped>\n",
       "    .dataframe tbody tr th:only-of-type {\n",
       "        vertical-align: middle;\n",
       "    }\n",
       "\n",
       "    .dataframe tbody tr th {\n",
       "        vertical-align: top;\n",
       "    }\n",
       "\n",
       "    .dataframe thead th {\n",
       "        text-align: right;\n",
       "    }\n",
       "</style>\n",
       "<table border=\"1\" class=\"dataframe\">\n",
       "  <thead>\n",
       "    <tr style=\"text-align: right;\">\n",
       "      <th></th>\n",
       "      <th>OLS</th>\n",
       "      <th>p-value</th>\n",
       "    </tr>\n",
       "  </thead>\n",
       "  <tbody>\n",
       "    <tr>\n",
       "      <th>const</th>\n",
       "      <td>5.70</td>\n",
       "      <td>0.00</td>\n",
       "    </tr>\n",
       "    <tr>\n",
       "      <th>bedrooms</th>\n",
       "      <td>0.06</td>\n",
       "      <td>0.01</td>\n",
       "    </tr>\n",
       "    <tr>\n",
       "      <th>bathrooms</th>\n",
       "      <td>0.18</td>\n",
       "      <td>0.00</td>\n",
       "    </tr>\n",
       "    <tr>\n",
       "      <th>accommodates</th>\n",
       "      <td>0.14</td>\n",
       "      <td>0.00</td>\n",
       "    </tr>\n",
       "    <tr>\n",
       "      <th>insta_book</th>\n",
       "      <td>-0.05</td>\n",
       "      <td>0.00</td>\n",
       "    </tr>\n",
       "    <tr>\n",
       "      <th>ad_duration</th>\n",
       "      <td>0.00</td>\n",
       "      <td>0.00</td>\n",
       "    </tr>\n",
       "    <tr>\n",
       "      <th>pi_dist</th>\n",
       "      <td>-0.11</td>\n",
       "      <td>0.00</td>\n",
       "    </tr>\n",
       "    <tr>\n",
       "      <th>metro_distance</th>\n",
       "      <td>0.09</td>\n",
       "      <td>0.00</td>\n",
       "    </tr>\n",
       "    <tr>\n",
       "      <th>parking</th>\n",
       "      <td>0.02</td>\n",
       "      <td>0.11</td>\n",
       "    </tr>\n",
       "    <tr>\n",
       "      <th>breakfast</th>\n",
       "      <td>0.03</td>\n",
       "      <td>0.29</td>\n",
       "    </tr>\n",
       "    <tr>\n",
       "      <th>gym</th>\n",
       "      <td>0.08</td>\n",
       "      <td>0.00</td>\n",
       "    </tr>\n",
       "    <tr>\n",
       "      <th>pool</th>\n",
       "      <td>0.03</td>\n",
       "      <td>0.41</td>\n",
       "    </tr>\n",
       "    <tr>\n",
       "      <th>hot_tub</th>\n",
       "      <td>0.25</td>\n",
       "      <td>0.00</td>\n",
       "    </tr>\n",
       "    <tr>\n",
       "      <th>elevator</th>\n",
       "      <td>0.12</td>\n",
       "      <td>0.00</td>\n",
       "    </tr>\n",
       "    <tr>\n",
       "      <th>flexible_cancel</th>\n",
       "      <td>-0.07</td>\n",
       "      <td>0.00</td>\n",
       "    </tr>\n",
       "    <tr>\n",
       "      <th>pets_allowed</th>\n",
       "      <td>0.02</td>\n",
       "      <td>0.20</td>\n",
       "    </tr>\n",
       "    <tr>\n",
       "      <th>smoking_allowed</th>\n",
       "      <td>-0.15</td>\n",
       "      <td>0.00</td>\n",
       "    </tr>\n",
       "    <tr>\n",
       "      <th>host_is_superhost</th>\n",
       "      <td>0.09</td>\n",
       "      <td>0.00</td>\n",
       "    </tr>\n",
       "    <tr>\n",
       "      <th>Tipo Listado</th>\n",
       "      <td>0.09</td>\n",
       "      <td>0.00</td>\n",
       "    </tr>\n",
       "    <tr>\n",
       "      <th>host_identity_verified</th>\n",
       "      <td>-0.03</td>\n",
       "      <td>0.01</td>\n",
       "    </tr>\n",
       "    <tr>\n",
       "      <th>review_scores_rating</th>\n",
       "      <td>0.00</td>\n",
       "      <td>0.19</td>\n",
       "    </tr>\n",
       "    <tr>\n",
       "      <th>number_of_reviews</th>\n",
       "      <td>-0.00</td>\n",
       "      <td>0.40</td>\n",
       "    </tr>\n",
       "  </tbody>\n",
       "</table>\n",
       "</div>"
      ],
      "text/plain": [
       "                         OLS  p-value\n",
       "const                   5.70     0.00\n",
       "bedrooms                0.06     0.01\n",
       "bathrooms               0.18     0.00\n",
       "accommodates            0.14     0.00\n",
       "insta_book             -0.05     0.00\n",
       "ad_duration             0.00     0.00\n",
       "pi_dist                -0.11     0.00\n",
       "metro_distance          0.09     0.00\n",
       "parking                 0.02     0.11\n",
       "breakfast               0.03     0.29\n",
       "gym                     0.08     0.00\n",
       "pool                    0.03     0.41\n",
       "hot_tub                 0.25     0.00\n",
       "elevator                0.12     0.00\n",
       "flexible_cancel        -0.07     0.00\n",
       "pets_allowed            0.02     0.20\n",
       "smoking_allowed        -0.15     0.00\n",
       "host_is_superhost       0.09     0.00\n",
       "Tipo Listado            0.09     0.00\n",
       "host_identity_verified -0.03     0.01\n",
       "review_scores_rating    0.00     0.19\n",
       "number_of_reviews      -0.00     0.40"
      ]
     },
     "execution_count": 201,
     "metadata": {},
     "output_type": "execute_result"
    }
   ],
   "source": [
    "pvals"
   ]
  },
  {
   "cell_type": "code",
   "execution_count": 300,
   "metadata": {},
   "outputs": [],
   "source": [
    "w35.transform='V'"
   ]
  },
  {
   "cell_type": "markdown",
   "metadata": {},
   "source": [
    "# Aplicar modelos Autocorrelación espacial y errores espaciales (SAR y SEM)"
   ]
  },
  {
   "cell_type": "markdown",
   "metadata": {},
   "source": [
    "# SAR (ML)"
   ]
  },
  {
   "cell_type": "code",
   "execution_count": 301,
   "metadata": {
    "scrolled": true
   },
   "outputs": [
    {
     "name": "stderr",
     "output_type": "stream",
     "text": [
      "C:\\Users\\edari\\anaconda3\\envs\\Tesis\\lib\\site-packages\\scipy\\optimize\\_minimize.py:777: RuntimeWarning: Method 'bounded' does not support relative tolerance in x; defaulting to absolute tolerance.\n",
      "  warn(\"Method 'bounded' does not support relative tolerance in x; \"\n",
      "C:\\Users\\edari\\anaconda3\\envs\\Tesis\\lib\\site-packages\\numpy\\core\\fromnumeric.py:87: VisibleDeprecationWarning: Creating an ndarray from ragged nested sequences (which is a list-or-tuple of lists-or-tuples-or ndarrays with different lengths or shapes) is deprecated. If you meant to do this, you must specify 'dtype=object' when creating the ndarray\n",
      "  return ufunc.reduce(obj, axis, dtype, out, **passkwargs)\n"
     ]
    }
   ],
   "source": [
    "ML_mk35 = spreg.ML_Lag(geo_df2['ln_price'].values[:,None], x_clean.values, w = w35,  method='ord',spat_diag=True, name_x=x_clean.columns.tolist(), name_y='ln(price)')\n"
   ]
  },
  {
   "cell_type": "code",
   "execution_count": 302,
   "metadata": {},
   "outputs": [
    {
     "name": "stdout",
     "output_type": "stream",
     "text": [
      "REGRESSION\n",
      "----------\n",
      "SUMMARY OF OUTPUT: MAXIMUM LIKELIHOOD SPATIAL LAG (METHOD = ORD)\n",
      "----------------------------------------------------------------\n",
      "Data set            :     unknown\n",
      "Weights matrix      :     unknown\n",
      "Dependent Variable  :   ln(price)                Number of Observations:        6131\n",
      "Mean dependent var  :      6.6858                Number of Variables   :          23\n",
      "S.D. dependent var  :      0.6823                Degrees of Freedom    :        6108\n",
      "Pseudo R-squared    :      0.5801\n",
      "Spatial Pseudo R-squared:  0.4839\n",
      "Sigma-square ML     :       0.196                Log likelihood        :   -3744.703\n",
      "S.E of regression   :       0.442                Akaike info criterion :    7535.407\n",
      "                                                 Schwarz criterion     :    7689.992\n",
      "\n",
      "------------------------------------------------------------------------------------\n",
      "            Variable     Coefficient       Std.Error     z-Statistic     Probability\n",
      "------------------------------------------------------------------------------------\n",
      "            CONSTANT       1.1962805       0.1396315       8.5674111       0.0000000\n",
      "            bedrooms       0.0661329       0.0107845       6.1322105       0.0000000\n",
      "           bathrooms       0.1377787       0.0137757      10.0015423       0.0000000\n",
      "        accommodates       0.1406404       0.0046405      30.3072862       0.0000000\n",
      "          insta_book      -0.0326304       0.0119265      -2.7359502       0.0062200\n",
      "         ad_duration       0.0024131       0.0005093       4.7384320       0.0000022\n",
      "             pi_dist      -0.0225245       0.0053601      -4.2022877       0.0000264\n",
      "      metro_distance       0.0091184       0.0061265       1.4883596       0.1366561\n",
      "             parking       0.0405979       0.0132537       3.0631396       0.0021903\n",
      "           breakfast       0.0242498       0.0233475       1.0386468       0.2989691\n",
      "                 gym       0.0454944       0.0217843       2.0884085       0.0367610\n",
      "                pool       0.0050239       0.0309667       0.1622350       0.8711208\n",
      "             hot_tub       0.1763029       0.0300053       5.8757260       0.0000000\n",
      "            elevator       0.0810651       0.0129530       6.2583920       0.0000000\n",
      "     flexible_cancel      -0.0468183       0.0126199      -3.7098735       0.0002074\n",
      "        pets_allowed       0.0094277       0.0160871       0.5860370       0.5578506\n",
      "     smoking_allowed      -0.1056096       0.0134217      -7.8685410       0.0000000\n",
      "   host_is_superhost       0.0797022       0.0123222       6.4681795       0.0000000\n",
      "        Tipo Listado       0.0607192       0.0120580       5.0356166       0.0000005\n",
      "host_identity_verified      -0.0441904       0.0126094      -3.5045508       0.0004574\n",
      "review_scores_rating       0.0019669       0.0008598       2.2877120       0.0221543\n",
      "   number_of_reviews      -0.0004791       0.0001710      -2.8025664       0.0050698\n",
      "         W_ln(price)       0.6675831       0.0163762      40.7654515       0.0000000\n",
      "------------------------------------------------------------------------------------\n",
      "================================ END OF REPORT =====================================\n"
     ]
    }
   ],
   "source": [
    "print(ML_mk35.summary)"
   ]
  },
  {
   "cell_type": "markdown",
   "metadata": {},
   "source": [
    "# SEM (ML)"
   ]
  },
  {
   "cell_type": "code",
   "execution_count": 303,
   "metadata": {},
   "outputs": [],
   "source": [
    "ML_err_mk35 = spreg.ML_Error(y=geo_df2['ln_price'].values[:,None], x=x_clean.values, w = w35,  method='ord',spat_diag=True, name_x=x_clean.columns.tolist(), name_y='ln(price)')"
   ]
  },
  {
   "cell_type": "code",
   "execution_count": 304,
   "metadata": {},
   "outputs": [
    {
     "name": "stdout",
     "output_type": "stream",
     "text": [
      "REGRESSION\n",
      "----------\n",
      "SUMMARY OF OUTPUT: MAXIMUM LIKELIHOOD SPATIAL ERROR (METHOD = ORD)\n",
      "------------------------------------------------------------------\n",
      "Data set            :     unknown\n",
      "Weights matrix      :     unknown\n",
      "Dependent Variable  :   ln(price)                Number of Observations:        6131\n",
      "Mean dependent var  :      6.6858                Number of Variables   :          22\n",
      "S.D. dependent var  :      0.6823                Degrees of Freedom    :        6109\n",
      "Pseudo R-squared    :      0.4620\n",
      "Sigma-square ML     :       0.191                Log likelihood        :   -3709.381\n",
      "S.E of regression   :       0.437                Akaike info criterion :    7462.762\n",
      "                                                 Schwarz criterion     :    7610.627\n",
      "\n",
      "------------------------------------------------------------------------------------\n",
      "            Variable     Coefficient       Std.Error     z-Statistic     Probability\n",
      "------------------------------------------------------------------------------------\n",
      "            CONSTANT       5.7099337       0.0907946      62.8884466       0.0000000\n",
      "            bedrooms       0.0623078       0.0106802       5.8339702       0.0000000\n",
      "           bathrooms       0.1215455       0.0138006       8.8072683       0.0000000\n",
      "        accommodates       0.1465688       0.0046351      31.6216091       0.0000000\n",
      "          insta_book      -0.0302389       0.0117430      -2.5750573       0.0100223\n",
      "         ad_duration       0.0023385       0.0005079       4.6038232       0.0000041\n",
      "             pi_dist      -0.0874653       0.0143129      -6.1109437       0.0000000\n",
      "      metro_distance       0.0445603       0.0173786       2.5640884       0.0103447\n",
      "             parking       0.0446726       0.0131554       3.3957605       0.0006844\n",
      "           breakfast       0.0230555       0.0232061       0.9935102       0.3204614\n",
      "                 gym       0.1055335       0.0231968       4.5494895       0.0000054\n",
      "                pool       0.0628332       0.0339087       1.8530101       0.0638809\n",
      "             hot_tub       0.1645627       0.0313507       5.2490846       0.0000002\n",
      "            elevator       0.0950247       0.0133740       7.1051975       0.0000000\n",
      "     flexible_cancel      -0.0422924       0.0124591      -3.3944880       0.0006876\n",
      "        pets_allowed       0.0120410       0.0159434       0.7552368       0.4501069\n",
      "     smoking_allowed      -0.1032068       0.0133400      -7.7366478       0.0000000\n",
      "   host_is_superhost       0.0759964       0.0122136       6.2222603       0.0000000\n",
      "        Tipo Listado       0.0532027       0.0119538       4.4507085       0.0000086\n",
      "host_identity_verified      -0.0530401       0.0125424      -4.2288579       0.0000235\n",
      "review_scores_rating       0.0018760       0.0008463       2.2166589       0.0266464\n",
      "   number_of_reviews      -0.0005566       0.0001722      -3.2322153       0.0012283\n",
      "              lambda       0.8105676       0.0178186      45.4899141       0.0000000\n",
      "------------------------------------------------------------------------------------\n",
      "================================ END OF REPORT =====================================\n"
     ]
    }
   ],
   "source": [
    "print(ML_err_mk35.summary)"
   ]
  },
  {
   "cell_type": "markdown",
   "metadata": {},
   "source": [
    "# Análisis residuales "
   ]
  },
  {
   "cell_type": "code",
   "execution_count": 105,
   "metadata": {},
   "outputs": [
    {
     "data": {
      "image/png": "[encoded data removed]",
      "text/plain": [
       "<Figure size 864x576 with 1 Axes>"
      ]
     },
     "metadata": {
      "needs_background": "light"
     },
     "output_type": "display_data"
    }
   ],
   "source": [
    "plt.figure(figsize=(12,8))\n",
    "plt.scatter(GM_mk35.predy, GM_mk35.e_pred); # print resids vs predictions\n",
    "plt.title(\"Residuals plot from GM_Lag Model\")\n",
    "plt.xlabel(\"Predicted Values\")\n",
    "plt.ylabel(\"Residuals\")\n",
    "plt.savefig('LR_Residual_Plot')"
   ]
  },
  {
   "cell_type": "markdown",
   "metadata": {},
   "source": [
    "### En caso de que no se cumpla el supuesto de normalidad en los errores, aplicar método de momentos, computación más sencilla y robusto a errores no normales."
   ]
  },
  {
   "cell_type": "markdown",
   "metadata": {},
   "source": [
    "# SAR (GM) Matriz inversa cutoff"
   ]
  },
  {
   "cell_type": "code",
   "execution_count": 123,
   "metadata": {},
   "outputs": [],
   "source": [
    "GM_id_c = spreg.GM_Lag(geo_df2['ln_price'].values[:,None], x_clean.values, w = w_id_f, robust='white' ,spat_diag=True, name_x=x_clean.columns.tolist(), name_y='ln(price)', name_w='Matriz inversa normalizada con cutoff')"
   ]
  },
  {
   "cell_type": "code",
   "execution_count": 124,
   "metadata": {},
   "outputs": [
    {
     "name": "stdout",
     "output_type": "stream",
     "text": [
      "REGRESSION\n",
      "----------\n",
      "SUMMARY OF OUTPUT: SPATIAL TWO STAGE LEAST SQUARES\n",
      "--------------------------------------------------\n",
      "Data set            :     unknown\n",
      "Weights matrix      :Matriz inversa normalizada con cutoff\n",
      "Dependent Variable  :   ln(price)                Number of Observations:        6131\n",
      "Mean dependent var  :      6.6858                Number of Variables   :          25\n",
      "S.D. dependent var  :      0.6823                Degrees of Freedom    :        6106\n",
      "Pseudo R-squared    :      0.4759\n",
      "Spatial Pseudo R-squared:  0.4736\n",
      "\n",
      "White Standard Errors\n",
      "------------------------------------------------------------------------------------\n",
      "            Variable     Coefficient       Std.Error     z-Statistic     Probability\n",
      "------------------------------------------------------------------------------------\n",
      "            CONSTANT       5.2371619       0.1112752      47.0649691       0.0000000\n",
      "            bedrooms       0.0649393       0.0231650       2.8033321       0.0050578\n",
      "           bathrooms       0.1808525       0.0180638      10.0118738       0.0000000\n",
      "        accommodates       0.1338723       0.0082791      16.1699560       0.0000000\n",
      "          insta_book      -0.0454080       0.0136017      -3.3384020       0.0008426\n",
      "         ad_duration       0.0034147       0.0005520       6.1862043       0.0000000\n",
      "             pi_dist       0.0079923       0.0012215       6.5431544       0.0000000\n",
      "      metro_distance       0.0363558       0.0056101       6.4804270       0.0000000\n",
      "             parking       0.0104513       0.0155110       0.6737995       0.5004388\n",
      "           breakfast       0.0021068       0.0304094       0.0692824       0.9447648\n",
      "                 gym       0.0661727       0.0249067       2.6568268       0.0078880\n",
      "                pool       0.0539507       0.0320051       1.6856898       0.0918556\n",
      "             hot_tub       0.2599054       0.0283670       9.1622509       0.0000000\n",
      "            elevator       0.1073154       0.0149620       7.1725221       0.0000000\n",
      "              washer      -0.0315037       0.0143141      -2.2008849       0.0277442\n",
      "               dryer       0.2572427       0.0162993      15.7824399       0.0000000\n",
      "     flexible_cancel      -0.0617355       0.0140361      -4.3983314       0.0000109\n",
      "        pets_allowed       0.0173210       0.0183393       0.9444755       0.3449267\n",
      "     smoking_allowed      -0.1536325       0.0151881     -10.1153176       0.0000000\n",
      "   host_is_superhost       0.0655980       0.0139499       4.7023988       0.0000026\n",
      "        Tipo Listado       0.1037796       0.0134126       7.7374494       0.0000000\n",
      "host_identity_verified      -0.0333998       0.0140333      -2.3800412       0.0173107\n",
      "review_scores_rating       0.0009104       0.0011077       0.8218326       0.4111722\n",
      "   number_of_reviews      -0.0004100       0.0001859      -2.2054023       0.0274259\n",
      "         W_ln(price)       0.0263576       0.0022564      11.6811424       0.0000000\n",
      "------------------------------------------------------------------------------------\n",
      "Instrumented: W_ln(price)\n",
      "Instruments: W_Tipo Listado, W_accommodates, W_ad_duration, W_bathrooms,\n",
      "             W_bedrooms, W_breakfast, W_dryer, W_elevator,\n",
      "             W_flexible_cancel, W_gym, W_host_identity_verified,\n",
      "             W_host_is_superhost, W_hot_tub, W_insta_book, W_metro_distance,\n",
      "             W_number_of_reviews, W_parking, W_pets_allowed, W_pi_dist,\n",
      "             W_pool, W_review_scores_rating, W_smoking_allowed, W_washer\n",
      "\n",
      "DIAGNOSTICS FOR SPATIAL DEPENDENCE\n",
      "TEST                           MI/DF       VALUE           PROB\n",
      "Anselin-Kelejian Test             1        1789.779          0.0000\n",
      "================================ END OF REPORT =====================================\n"
     ]
    }
   ],
   "source": [
    "print(GM_id_c.summary)"
   ]
  },
  {
   "cell_type": "markdown",
   "metadata": {},
   "source": [
    "# SAR Inverse squared distance"
   ]
  },
  {
   "cell_type": "code",
   "execution_count": 140,
   "metadata": {},
   "outputs": [],
   "source": [
    "GM_id_sq = spreg.GM_Lag(geo_df2['ln_price'].values[:,None], x_clean.values, w = w_id_sq, robust='white' ,spat_diag=True, name_x=x_clean.columns.tolist(), name_y='ln(price)', name_w='Matriz inversa normalizada con cutoff')"
   ]
  },
  {
   "cell_type": "code",
   "execution_count": 141,
   "metadata": {},
   "outputs": [
    {
     "name": "stdout",
     "output_type": "stream",
     "text": [
      "REGRESSION\n",
      "----------\n",
      "SUMMARY OF OUTPUT: SPATIAL TWO STAGE LEAST SQUARES\n",
      "--------------------------------------------------\n",
      "Data set            :     unknown\n",
      "Weights matrix      :Matriz inversa normalizada con cutoff\n",
      "Dependent Variable  :   ln(price)                Number of Observations:        6131\n",
      "Mean dependent var  :      6.6858                Number of Variables   :          25\n",
      "S.D. dependent var  :      0.6823                Degrees of Freedom    :        6106\n",
      "Pseudo R-squared    :      0.4651\n",
      "Spatial Pseudo R-squared:  0.4644\n",
      "\n",
      "White Standard Errors\n",
      "------------------------------------------------------------------------------------\n",
      "            Variable     Coefficient       Std.Error     z-Statistic     Probability\n",
      "------------------------------------------------------------------------------------\n",
      "            CONSTANT       5.4005342       0.1111629      48.5821847       0.0000000\n",
      "            bedrooms       0.0626090       0.0232011       2.6985349       0.0069645\n",
      "           bathrooms       0.1953586       0.0181343      10.7728809       0.0000000\n",
      "        accommodates       0.1315487       0.0083018      15.8458198       0.0000000\n",
      "          insta_book      -0.0501501       0.0137330      -3.6517813       0.0002604\n",
      "         ad_duration       0.0033513       0.0005544       6.0451834       0.0000000\n",
      "             pi_dist       0.0096872       0.0012759       7.5923716       0.0000000\n",
      "      metro_distance       0.0169303       0.0054212       3.1229743       0.0017903\n",
      "             parking       0.0016366       0.0156561       0.1045340       0.9167456\n",
      "           breakfast       0.0047488       0.0308062       0.1541519       0.8774900\n",
      "                 gym       0.0405563       0.0253511       1.5997839       0.1096465\n",
      "                pool       0.0443649       0.0326144       1.3602842       0.1737400\n",
      "             hot_tub       0.2653678       0.0286635       9.2580439       0.0000000\n",
      "            elevator       0.1109054       0.0150791       7.3548984       0.0000000\n",
      "              washer      -0.0305528       0.0144793      -2.1101035       0.0348494\n",
      "               dryer       0.2652774       0.0164089      16.1666404       0.0000000\n",
      "     flexible_cancel      -0.0710941       0.0141539      -5.0229203       0.0000005\n",
      "        pets_allowed       0.0240331       0.0184921       1.2996435       0.1937232\n",
      "     smoking_allowed      -0.1505214       0.0154529      -9.7406289       0.0000000\n",
      "   host_is_superhost       0.0682857       0.0141009       4.8426433       0.0000013\n",
      "        Tipo Listado       0.1026890       0.0135551       7.5756629       0.0000000\n",
      "host_identity_verified      -0.0302756       0.0141730      -2.1361499       0.0326672\n",
      "review_scores_rating       0.0007956       0.0011126       0.7150679       0.4745671\n",
      "   number_of_reviews      -0.0003604       0.0001884      -1.9127364       0.0557818\n",
      "         W_ln(price)       0.0034979       0.0015120       2.3134932       0.0206955\n",
      "------------------------------------------------------------------------------------\n",
      "Instrumented: W_ln(price)\n",
      "Instruments: W_Tipo Listado, W_accommodates, W_ad_duration, W_bathrooms,\n",
      "             W_bedrooms, W_breakfast, W_dryer, W_elevator,\n",
      "             W_flexible_cancel, W_gym, W_host_identity_verified,\n",
      "             W_host_is_superhost, W_hot_tub, W_insta_book, W_metro_distance,\n",
      "             W_number_of_reviews, W_parking, W_pets_allowed, W_pi_dist,\n",
      "             W_pool, W_review_scores_rating, W_smoking_allowed, W_washer\n",
      "\n",
      "DIAGNOSTICS FOR SPATIAL DEPENDENCE\n",
      "TEST                           MI/DF       VALUE           PROB\n",
      "Anselin-Kelejian Test             1        1623.356          0.0000\n",
      "================================ END OF REPORT =====================================\n"
     ]
    }
   ],
   "source": [
    "print(GM_id_sq.summary)"
   ]
  },
  {
   "cell_type": "markdown",
   "metadata": {},
   "source": [
    "# SAR (GM) KNN 35"
   ]
  },
  {
   "cell_type": "code",
   "execution_count": 102,
   "metadata": {},
   "outputs": [],
   "source": [
    "GM_mk35 = spreg.GM_Lag(geo_df2['ln_price'].values[:,None], x_clean.values, w = w35, robust='white' ,spat_diag=True, name_x=x_clean.columns.tolist(), name_y='ln(price)', name_w='KNN weight matrix (k=35)')"
   ]
  },
  {
   "cell_type": "code",
   "execution_count": 205,
   "metadata": {},
   "outputs": [
    {
     "name": "stdout",
     "output_type": "stream",
     "text": [
      "REGRESSION\n",
      "----------\n",
      "SUMMARY OF OUTPUT: SPATIAL TWO STAGE LEAST SQUARES\n",
      "--------------------------------------------------\n",
      "Data set            :     unknown\n",
      "Weights matrix      :KNN weight matrix (k=35)\n",
      "Dependent Variable  :   ln(price)                Number of Observations:        6131\n",
      "Mean dependent var  :      6.6858                Number of Variables   :          23\n",
      "S.D. dependent var  :      0.6823                Degrees of Freedom    :        6108\n",
      "Pseudo R-squared    :      0.5799\n",
      "Spatial Pseudo R-squared:  0.4850\n",
      "\n",
      "White Standard Errors\n",
      "------------------------------------------------------------------------------------\n",
      "            Variable     Coefficient       Std.Error     z-Statistic     Probability\n",
      "------------------------------------------------------------------------------------\n",
      "            CONSTANT       1.2338380       0.1840364       6.7043160       0.0000000\n",
      "            bedrooms       0.0660542       0.0215771       3.0613122       0.0022037\n",
      "           bathrooms       0.1381157       0.0162963       8.4752662       0.0000000\n",
      "        accommodates       0.1406600       0.0073580      19.1165539       0.0000000\n",
      "          insta_book      -0.0327660       0.0121367      -2.6997413       0.0069393\n",
      "         ad_duration       0.0024184       0.0004973       4.8628770       0.0000012\n",
      "             pi_dist      -0.0232789       0.0055584      -4.1880561       0.0000281\n",
      "      metro_distance       0.0098089       0.0065386       1.5001573       0.1335737\n",
      "             parking       0.0404650       0.0136966       2.9543784       0.0031330\n",
      "           breakfast       0.0243156       0.0258485       0.9406968       0.3468603\n",
      "                 gym       0.0457933       0.0208670       2.1945312       0.0281972\n",
      "                pool       0.0052005       0.0279974       0.1857481       0.8526423\n",
      "             hot_tub       0.1769239       0.0257842       6.8617222       0.0000000\n",
      "            elevator       0.0813854       0.0133645       6.0896692       0.0000000\n",
      "     flexible_cancel      -0.0470314       0.0125419      -3.7499242       0.0001769\n",
      "        pets_allowed       0.0095425       0.0162627       0.5867708       0.5573577\n",
      "     smoking_allowed      -0.1059574       0.0135858      -7.7991373       0.0000000\n",
      "   host_is_superhost       0.0797528       0.0124238       6.4193382       0.0000000\n",
      "        Tipo Listado       0.0609995       0.0119844       5.0898899       0.0000004\n",
      "host_identity_verified      -0.0441127       0.0125155      -3.5246483       0.0004240\n",
      "review_scores_rating       0.0019628       0.0009985       1.9657533       0.0493271\n",
      "   number_of_reviews      -0.0004764       0.0001689      -2.8213150       0.0047827\n",
      "         W_ln(price)       0.6620175       0.0230107      28.7699325       0.0000000\n",
      "------------------------------------------------------------------------------------\n",
      "Instrumented: W_ln(price)\n",
      "Instruments: W_Tipo Listado, W_accommodates, W_ad_duration, W_bathrooms,\n",
      "             W_bedrooms, W_breakfast, W_elevator, W_flexible_cancel, W_gym,\n",
      "             W_host_identity_verified, W_host_is_superhost, W_hot_tub,\n",
      "             W_insta_book, W_metro_distance, W_number_of_reviews, W_parking,\n",
      "             W_pets_allowed, W_pi_dist, W_pool, W_review_scores_rating,\n",
      "             W_smoking_allowed\n",
      "\n",
      "DIAGNOSTICS FOR SPATIAL DEPENDENCE\n",
      "TEST                           MI/DF       VALUE           PROB\n",
      "Anselin-Kelejian Test             1          16.930          0.0000\n",
      "================================ END OF REPORT =====================================\n"
     ]
    }
   ],
   "source": [
    "print(GM_mk35.summary)"
   ]
  },
  {
   "cell_type": "markdown",
   "metadata": {},
   "source": [
    "# Generar tabla resultados"
   ]
  },
  {
   "cell_type": "code",
   "execution_count": 206,
   "metadata": {},
   "outputs": [
    {
     "data": {
      "text/plain": [
       "[(54.35263504268635, 0.0),\n",
       " (2.9421877647974948, 0.0032590225467587245),\n",
       " (7.66191394658943, 1.8318237049804853e-14),\n",
       " (19.91096750543, 3.269398173319501e-88),\n",
       " (-2.557816986222056, 0.010533151041658351),\n",
       " (4.679262106568228, 2.879091966672021e-06),\n",
       " (-6.145523411377268, 7.970025617620204e-10),\n",
       " (2.766464895450158, 0.005666768563134338),\n",
       " (3.2648570974427327, 0.0010951931517599353),\n",
       " (0.8934605534420115, 0.3716105875131074),\n",
       " (4.529959637411772, 5.89949558879842e-06),\n",
       " (1.9954534505853416, 0.045993446275367035),\n",
       " (6.082431524849741, 1.183734570963511e-09),\n",
       " (6.81569583897, 9.380858468136174e-12),\n",
       " (-3.476076398284679, 0.0005088073194397435),\n",
       " (0.7608842159555684, 0.446726226993548),\n",
       " (-7.782482427930521, 7.111508424664052e-15),\n",
       " (6.23604063726386, 4.487845638073581e-10),\n",
       " (4.590646559964393, 4.418750496269873e-06),\n",
       " (-4.22673242903734, 2.371093372068555e-05),\n",
       " (1.905380056571825, 0.056730685732256),\n",
       " (-3.195341019562328, 0.0013966570587855536),\n",
       " (47.66141012964993, 0.0)]"
      ]
     },
     "execution_count": 206,
     "metadata": {},
     "output_type": "execute_result"
    }
   ],
   "source": [
    "GM_err_mk35.z_stat"
   ]
  },
  {
   "cell_type": "code",
   "execution_count": 211,
   "metadata": {},
   "outputs": [],
   "source": [
    "bets_GM = GM_mk35.betas.tolist()"
   ]
  },
  {
   "cell_type": "code",
   "execution_count": 207,
   "metadata": {},
   "outputs": [],
   "source": [
    "pval_GM = [i[1] for i in GM_mk35.z_stat]"
   ]
  },
  {
   "cell_type": "code",
   "execution_count": 220,
   "metadata": {},
   "outputs": [],
   "source": [
    "res_GM = pd.Series(bets_GM).to_frame()"
   ]
  },
  {
   "cell_type": "code",
   "execution_count": 221,
   "metadata": {},
   "outputs": [],
   "source": [
    "res_GM['p-value'] = pval_GM"
   ]
  },
  {
   "cell_type": "code",
   "execution_count": 229,
   "metadata": {},
   "outputs": [],
   "source": [
    "index_x = x.columns.tolist()"
   ]
  },
  {
   "cell_type": "code",
   "execution_count": 230,
   "metadata": {},
   "outputs": [],
   "source": [
    "index_x.append('W_ln(price)')"
   ]
  },
  {
   "cell_type": "code",
   "execution_count": 232,
   "metadata": {},
   "outputs": [],
   "source": [
    "res_GM.index =index_x"
   ]
  },
  {
   "cell_type": "code",
   "execution_count": 246,
   "metadata": {},
   "outputs": [],
   "source": [
    "pvals.rename(index={'':'variables'}, inplace =True)\n",
    "res_GM.rename({0:'SAR - KNN(35)'}, axis = 1, inplace = True)\n",
    "res_GM.rename(index={'':'variables'}, inplace =True)"
   ]
  },
  {
   "cell_type": "code",
   "execution_count": 258,
   "metadata": {},
   "outputs": [],
   "source": [
    "betas_SEM = GM_err_mk35.betas.tolist()\n",
    "pval_SEM = [i[1] for i in GM_err_mk35.z_stat]"
   ]
  },
  {
   "cell_type": "code",
   "execution_count": 253,
   "metadata": {},
   "outputs": [],
   "source": [
    "index_y = x.columns.tolist\n",
    "index_y.append('lambda')"
   ]
  },
  {
   "cell_type": "code",
   "execution_count": 259,
   "metadata": {},
   "outputs": [],
   "source": [
    "res_GM_SEM = pd.Series(betas_SEM).to_frame()"
   ]
  },
  {
   "cell_type": "code",
   "execution_count": 260,
   "metadata": {},
   "outputs": [],
   "source": [
    "res_GM_SEM['p-value'] = pval_SEM"
   ]
  },
  {
   "cell_type": "code",
   "execution_count": 262,
   "metadata": {},
   "outputs": [],
   "source": [
    "res_GM_SEM.rename(columns={0:'SEM - KNN(35)'}, index = {'':'variables'}, inplace = True)"
   ]
  },
  {
   "cell_type": "code",
   "execution_count": 265,
   "metadata": {},
   "outputs": [],
   "source": [
    "res_GM_SEM.index = index_y"
   ]
  },
  {
   "cell_type": "code",
   "execution_count": 290,
   "metadata": {},
   "outputs": [],
   "source": [
    "pd.options.display.float_format = '{:,.4f}'.format"
   ]
  },
  {
   "cell_type": "code",
   "execution_count": 291,
   "metadata": {},
   "outputs": [],
   "source": [
    "results = pd.concat([pvals, res_GM, res_GM_SEM], axis=1)"
   ]
  },
  {
   "cell_type": "code",
   "execution_count": 293,
   "metadata": {},
   "outputs": [],
   "source": [
    "results['SAR - KNN(35)'] = results['SAR - KNN(35)'].astype('str')"
   ]
  },
  {
   "cell_type": "code",
   "execution_count": 294,
   "metadata": {},
   "outputs": [],
   "source": [
    "results['SAR - KNN(35)'] = results['SAR - KNN(35)'].str.replace('[','').str.replace(']','').astype('float')"
   ]
  },
  {
   "cell_type": "code",
   "execution_count": 295,
   "metadata": {},
   "outputs": [],
   "source": [
    "results['SEM - KNN(35)'] = results['SEM - KNN(35)'].astype('str').str.replace('[','').str.replace(']','').astype('float')"
   ]
  },
  {
   "cell_type": "code",
   "execution_count": 296,
   "metadata": {},
   "outputs": [
    {
     "data": {
      "text/html": [
       "<div>\n",
       "<style scoped>\n",
       "    .dataframe tbody tr th:only-of-type {\n",
       "        vertical-align: middle;\n",
       "    }\n",
       "\n",
       "    .dataframe tbody tr th {\n",
       "        vertical-align: top;\n",
       "    }\n",
       "\n",
       "    .dataframe thead th {\n",
       "        text-align: right;\n",
       "    }\n",
       "</style>\n",
       "<table border=\"1\" class=\"dataframe\">\n",
       "  <thead>\n",
       "    <tr style=\"text-align: right;\">\n",
       "      <th></th>\n",
       "      <th>OLS</th>\n",
       "      <th>p-value</th>\n",
       "      <th>SAR - KNN(35)</th>\n",
       "      <th>p-value</th>\n",
       "      <th>SEM - KNN(35)</th>\n",
       "      <th>p-value</th>\n",
       "    </tr>\n",
       "  </thead>\n",
       "  <tbody>\n",
       "    <tr>\n",
       "      <th>const</th>\n",
       "      <td>5.7012</td>\n",
       "      <td>0.0000</td>\n",
       "      <td>1.2338</td>\n",
       "      <td>0.0000</td>\n",
       "      <td>5.7204</td>\n",
       "      <td>0.0000</td>\n",
       "    </tr>\n",
       "    <tr>\n",
       "      <th>bedrooms</th>\n",
       "      <td>0.0567</td>\n",
       "      <td>0.0114</td>\n",
       "      <td>0.0661</td>\n",
       "      <td>0.0022</td>\n",
       "      <td>0.0621</td>\n",
       "      <td>0.0033</td>\n",
       "    </tr>\n",
       "    <tr>\n",
       "      <th>bathrooms</th>\n",
       "      <td>0.1782</td>\n",
       "      <td>0.0000</td>\n",
       "      <td>0.1381</td>\n",
       "      <td>0.0000</td>\n",
       "      <td>0.1229</td>\n",
       "      <td>0.0000</td>\n",
       "    </tr>\n",
       "    <tr>\n",
       "      <th>accommodates</th>\n",
       "      <td>0.1430</td>\n",
       "      <td>0.0000</td>\n",
       "      <td>0.1407</td>\n",
       "      <td>0.0000</td>\n",
       "      <td>0.1465</td>\n",
       "      <td>0.0000</td>\n",
       "    </tr>\n",
       "    <tr>\n",
       "      <th>insta_book</th>\n",
       "      <td>-0.0489</td>\n",
       "      <td>0.0003</td>\n",
       "      <td>-0.0328</td>\n",
       "      <td>0.0069</td>\n",
       "      <td>-0.0306</td>\n",
       "      <td>0.0105</td>\n",
       "    </tr>\n",
       "    <tr>\n",
       "      <th>ad_duration</th>\n",
       "      <td>0.0031</td>\n",
       "      <td>0.0000</td>\n",
       "      <td>0.0024</td>\n",
       "      <td>0.0000</td>\n",
       "      <td>0.0024</td>\n",
       "      <td>0.0000</td>\n",
       "    </tr>\n",
       "    <tr>\n",
       "      <th>pi_dist</th>\n",
       "      <td>-0.1130</td>\n",
       "      <td>0.0000</td>\n",
       "      <td>-0.0233</td>\n",
       "      <td>0.0000</td>\n",
       "      <td>-0.0930</td>\n",
       "      <td>0.0000</td>\n",
       "    </tr>\n",
       "    <tr>\n",
       "      <th>metro_distance</th>\n",
       "      <td>0.0919</td>\n",
       "      <td>0.0000</td>\n",
       "      <td>0.0098</td>\n",
       "      <td>0.1336</td>\n",
       "      <td>0.0518</td>\n",
       "      <td>0.0057</td>\n",
       "    </tr>\n",
       "    <tr>\n",
       "      <th>parking</th>\n",
       "      <td>0.0247</td>\n",
       "      <td>0.1086</td>\n",
       "      <td>0.0405</td>\n",
       "      <td>0.0031</td>\n",
       "      <td>0.0442</td>\n",
       "      <td>0.0011</td>\n",
       "    </tr>\n",
       "    <tr>\n",
       "      <th>breakfast</th>\n",
       "      <td>0.0321</td>\n",
       "      <td>0.2854</td>\n",
       "      <td>0.0243</td>\n",
       "      <td>0.3469</td>\n",
       "      <td>0.0233</td>\n",
       "      <td>0.3716</td>\n",
       "    </tr>\n",
       "    <tr>\n",
       "      <th>gym</th>\n",
       "      <td>0.0813</td>\n",
       "      <td>0.0008</td>\n",
       "      <td>0.0458</td>\n",
       "      <td>0.0282</td>\n",
       "      <td>0.1049</td>\n",
       "      <td>0.0000</td>\n",
       "    </tr>\n",
       "    <tr>\n",
       "      <th>pool</th>\n",
       "      <td>0.0262</td>\n",
       "      <td>0.4082</td>\n",
       "      <td>0.0052</td>\n",
       "      <td>0.8526</td>\n",
       "      <td>0.0618</td>\n",
       "      <td>0.0460</td>\n",
       "    </tr>\n",
       "    <tr>\n",
       "      <th>hot_tub</th>\n",
       "      <td>0.2508</td>\n",
       "      <td>0.0000</td>\n",
       "      <td>0.1769</td>\n",
       "      <td>0.0000</td>\n",
       "      <td>0.1666</td>\n",
       "      <td>0.0000</td>\n",
       "    </tr>\n",
       "    <tr>\n",
       "      <th>elevator</th>\n",
       "      <td>0.1195</td>\n",
       "      <td>0.0000</td>\n",
       "      <td>0.0814</td>\n",
       "      <td>0.0000</td>\n",
       "      <td>0.0954</td>\n",
       "      <td>0.0000</td>\n",
       "    </tr>\n",
       "    <tr>\n",
       "      <th>flexible_cancel</th>\n",
       "      <td>-0.0724</td>\n",
       "      <td>0.0000</td>\n",
       "      <td>-0.0470</td>\n",
       "      <td>0.0002</td>\n",
       "      <td>-0.0429</td>\n",
       "      <td>0.0005</td>\n",
       "    </tr>\n",
       "    <tr>\n",
       "      <th>pets_allowed</th>\n",
       "      <td>0.0232</td>\n",
       "      <td>0.2045</td>\n",
       "      <td>0.0095</td>\n",
       "      <td>0.5574</td>\n",
       "      <td>0.0122</td>\n",
       "      <td>0.4467</td>\n",
       "    </tr>\n",
       "    <tr>\n",
       "      <th>smoking_allowed</th>\n",
       "      <td>-0.1473</td>\n",
       "      <td>0.0000</td>\n",
       "      <td>-0.1060</td>\n",
       "      <td>0.0000</td>\n",
       "      <td>-0.1043</td>\n",
       "      <td>0.0000</td>\n",
       "    </tr>\n",
       "    <tr>\n",
       "      <th>host_is_superhost</th>\n",
       "      <td>0.0858</td>\n",
       "      <td>0.0000</td>\n",
       "      <td>0.0798</td>\n",
       "      <td>0.0000</td>\n",
       "      <td>0.0764</td>\n",
       "      <td>0.0000</td>\n",
       "    </tr>\n",
       "    <tr>\n",
       "      <th>Tipo Listado</th>\n",
       "      <td>0.0943</td>\n",
       "      <td>0.0000</td>\n",
       "      <td>0.0610</td>\n",
       "      <td>0.0000</td>\n",
       "      <td>0.0540</td>\n",
       "      <td>0.0000</td>\n",
       "    </tr>\n",
       "    <tr>\n",
       "      <th>host_identity_verified</th>\n",
       "      <td>-0.0349</td>\n",
       "      <td>0.0128</td>\n",
       "      <td>-0.0441</td>\n",
       "      <td>0.0004</td>\n",
       "      <td>-0.0525</td>\n",
       "      <td>0.0000</td>\n",
       "    </tr>\n",
       "    <tr>\n",
       "      <th>review_scores_rating</th>\n",
       "      <td>0.0015</td>\n",
       "      <td>0.1946</td>\n",
       "      <td>0.0020</td>\n",
       "      <td>0.0493</td>\n",
       "      <td>0.0019</td>\n",
       "      <td>0.0567</td>\n",
       "    </tr>\n",
       "    <tr>\n",
       "      <th>number_of_reviews</th>\n",
       "      <td>-0.0002</td>\n",
       "      <td>0.4039</td>\n",
       "      <td>-0.0005</td>\n",
       "      <td>0.0048</td>\n",
       "      <td>-0.0005</td>\n",
       "      <td>0.0014</td>\n",
       "    </tr>\n",
       "    <tr>\n",
       "      <th>W_ln(price)</th>\n",
       "      <td>nan</td>\n",
       "      <td>nan</td>\n",
       "      <td>0.6620</td>\n",
       "      <td>0.0000</td>\n",
       "      <td>nan</td>\n",
       "      <td>nan</td>\n",
       "    </tr>\n",
       "    <tr>\n",
       "      <th>lambda</th>\n",
       "      <td>nan</td>\n",
       "      <td>nan</td>\n",
       "      <td>nan</td>\n",
       "      <td>nan</td>\n",
       "      <td>0.8231</td>\n",
       "      <td>0.0000</td>\n",
       "    </tr>\n",
       "  </tbody>\n",
       "</table>\n",
       "</div>"
      ],
      "text/plain": [
       "                           OLS  p-value  SAR - KNN(35)  p-value  \\\n",
       "const                   5.7012   0.0000         1.2338   0.0000   \n",
       "bedrooms                0.0567   0.0114         0.0661   0.0022   \n",
       "bathrooms               0.1782   0.0000         0.1381   0.0000   \n",
       "accommodates            0.1430   0.0000         0.1407   0.0000   \n",
       "insta_book             -0.0489   0.0003        -0.0328   0.0069   \n",
       "ad_duration             0.0031   0.0000         0.0024   0.0000   \n",
       "pi_dist                -0.1130   0.0000        -0.0233   0.0000   \n",
       "metro_distance          0.0919   0.0000         0.0098   0.1336   \n",
       "parking                 0.0247   0.1086         0.0405   0.0031   \n",
       "breakfast               0.0321   0.2854         0.0243   0.3469   \n",
       "gym                     0.0813   0.0008         0.0458   0.0282   \n",
       "pool                    0.0262   0.4082         0.0052   0.8526   \n",
       "hot_tub                 0.2508   0.0000         0.1769   0.0000   \n",
       "elevator                0.1195   0.0000         0.0814   0.0000   \n",
       "flexible_cancel        -0.0724   0.0000        -0.0470   0.0002   \n",
       "pets_allowed            0.0232   0.2045         0.0095   0.5574   \n",
       "smoking_allowed        -0.1473   0.0000        -0.1060   0.0000   \n",
       "host_is_superhost       0.0858   0.0000         0.0798   0.0000   \n",
       "Tipo Listado            0.0943   0.0000         0.0610   0.0000   \n",
       "host_identity_verified -0.0349   0.0128        -0.0441   0.0004   \n",
       "review_scores_rating    0.0015   0.1946         0.0020   0.0493   \n",
       "number_of_reviews      -0.0002   0.4039        -0.0005   0.0048   \n",
       "W_ln(price)                nan      nan         0.6620   0.0000   \n",
       "lambda                     nan      nan            nan      nan   \n",
       "\n",
       "                        SEM - KNN(35)  p-value  \n",
       "const                          5.7204   0.0000  \n",
       "bedrooms                       0.0621   0.0033  \n",
       "bathrooms                      0.1229   0.0000  \n",
       "accommodates                   0.1465   0.0000  \n",
       "insta_book                    -0.0306   0.0105  \n",
       "ad_duration                    0.0024   0.0000  \n",
       "pi_dist                       -0.0930   0.0000  \n",
       "metro_distance                 0.0518   0.0057  \n",
       "parking                        0.0442   0.0011  \n",
       "breakfast                      0.0233   0.3716  \n",
       "gym                            0.1049   0.0000  \n",
       "pool                           0.0618   0.0460  \n",
       "hot_tub                        0.1666   0.0000  \n",
       "elevator                       0.0954   0.0000  \n",
       "flexible_cancel               -0.0429   0.0005  \n",
       "pets_allowed                   0.0122   0.4467  \n",
       "smoking_allowed               -0.1043   0.0000  \n",
       "host_is_superhost              0.0764   0.0000  \n",
       "Tipo Listado                   0.0540   0.0000  \n",
       "host_identity_verified        -0.0525   0.0000  \n",
       "review_scores_rating           0.0019   0.0567  \n",
       "number_of_reviews             -0.0005   0.0014  \n",
       "W_ln(price)                       nan      nan  \n",
       "lambda                         0.8231   0.0000  "
      ]
     },
     "execution_count": 296,
     "metadata": {},
     "output_type": "execute_result"
    }
   ],
   "source": [
    "results"
   ]
  },
  {
   "cell_type": "code",
   "execution_count": 325,
   "metadata": {},
   "outputs": [],
   "source": [
    "results.to_csv('results.csv', encoding = 'latin1')"
   ]
  },
  {
   "cell_type": "code",
   "execution_count": 306,
   "metadata": {},
   "outputs": [
    {
     "data": {
      "text/plain": [
       "0.47156245965035637"
      ]
     },
     "execution_count": 306,
     "metadata": {},
     "output_type": "execute_result"
    }
   ],
   "source": [
    "m_test_ols.ar2"
   ]
  },
  {
   "cell_type": "code",
   "execution_count": 308,
   "metadata": {},
   "outputs": [
    {
     "data": {
      "text/plain": [
       "0.5799286951470128"
      ]
     },
     "execution_count": 308,
     "metadata": {},
     "output_type": "execute_result"
    }
   ],
   "source": [
    "GM_mk35.pr2"
   ]
  },
  {
   "cell_type": "code",
   "execution_count": 307,
   "metadata": {},
   "outputs": [
    {
     "data": {
      "text/plain": [
       "0.4636967075733527"
      ]
     },
     "execution_count": 307,
     "metadata": {},
     "output_type": "execute_result"
    }
   ],
   "source": [
    "GM_err_mk35.pr2"
   ]
  },
  {
   "cell_type": "code",
   "execution_count": 320,
   "metadata": {},
   "outputs": [
    {
     "data": {
      "text/plain": [
       "(77.33442945072557, 0.0)"
      ]
     },
     "execution_count": 320,
     "metadata": {},
     "output_type": "execute_result"
    }
   ],
   "source": [
    "m_test_ols.moran_res[1:]"
   ]
  },
  {
   "cell_type": "code",
   "execution_count": 322,
   "metadata": {},
   "outputs": [
    {
     "data": {
      "text/plain": [
       "(3960.064426057933, 0.0)"
      ]
     },
     "execution_count": 322,
     "metadata": {},
     "output_type": "execute_result"
    }
   ],
   "source": [
    "m_test_ols.lm_lag"
   ]
  },
  {
   "cell_type": "code",
   "execution_count": 323,
   "metadata": {},
   "outputs": [
    {
     "data": {
      "text/plain": [
       "(296.6048967373437, 1.8091053005141702e-66)"
      ]
     },
     "execution_count": 323,
     "metadata": {},
     "output_type": "execute_result"
    }
   ],
   "source": [
    "m_test_ols.rlm_lag"
   ]
  },
  {
   "cell_type": "code",
   "execution_count": 321,
   "metadata": {},
   "outputs": [
    {
     "data": {
      "text/plain": [
       "(5766.445408372829, 0.0)"
      ]
     },
     "execution_count": 321,
     "metadata": {},
     "output_type": "execute_result"
    }
   ],
   "source": [
    "m_test_ols.lm_error"
   ]
  },
  {
   "cell_type": "code",
   "execution_count": 324,
   "metadata": {},
   "outputs": [
    {
     "data": {
      "text/plain": [
       "(2102.9858790522394, 0.0)"
      ]
     },
     "execution_count": 324,
     "metadata": {},
     "output_type": "execute_result"
    }
   ],
   "source": [
    "m_test_ols.rlm_error"
   ]
  },
  {
   "cell_type": "markdown",
   "metadata": {},
   "source": [
    "# SEM (GM) Inverse Distance"
   ]
  },
  {
   "cell_type": "code",
   "execution_count": null,
   "metadata": {},
   "outputs": [],
   "source": []
  },
  {
   "cell_type": "code",
   "execution_count": 125,
   "metadata": {},
   "outputs": [],
   "source": [
    "GM_err_id_c = spreg.GM_Error_Het(geo_df2['ln_price'].values[:,None], x_clean.values ,w = w_id_f,name_x=x_clean.columns.tolist(), name_y='ln(price)', name_w='KNN weight matrix (k=45)')"
   ]
  },
  {
   "cell_type": "code",
   "execution_count": 126,
   "metadata": {},
   "outputs": [
    {
     "name": "stdout",
     "output_type": "stream",
     "text": [
      "REGRESSION\n",
      "----------\n",
      "SUMMARY OF OUTPUT: SPATIALLY WEIGHTED LEAST SQUARES (HET)\n",
      "---------------------------------------------------------\n",
      "Data set            :     unknown\n",
      "Weights matrix      :KNN weight matrix (k=45)\n",
      "Dependent Variable  :   ln(price)                Number of Observations:        6131\n",
      "Mean dependent var  :      6.6858                Number of Variables   :          24\n",
      "S.D. dependent var  :      0.6823                Degrees of Freedom    :        6107\n",
      "Pseudo R-squared    :      0.4530\n",
      "N. of iterations    :           1                Step1c computed       :          No\n",
      "\n",
      "------------------------------------------------------------------------------------\n",
      "            Variable     Coefficient       Std.Error     z-Statistic     Probability\n",
      "------------------------------------------------------------------------------------\n",
      "            CONSTANT       5.4087395       0.1062088      50.9255527       0.0000000\n",
      "            bedrooms       0.0627364       0.0229144       2.7378555       0.0061841\n",
      "           bathrooms       0.1520626       0.0171991       8.8413104       0.0000000\n",
      "        accommodates       0.1378279       0.0082021      16.8040607       0.0000000\n",
      "          insta_book      -0.0344768       0.0127282      -2.7086896       0.0067550\n",
      "         ad_duration       0.0028487       0.0005263       5.4131806       0.0000001\n",
      "             pi_dist       0.0202722       0.0023896       8.4836394       0.0000000\n",
      "      metro_distance       0.0171136       0.0069724       2.4544817       0.0141088\n",
      "             parking       0.0177750       0.0145344       1.2229640       0.2213433\n",
      "           breakfast      -0.0009774       0.0286865      -0.0340713       0.9728203\n",
      "                 gym       0.0658673       0.0242073       2.7209668       0.0065091\n",
      "                pool       0.0550448       0.0315456       1.7449272       0.0809975\n",
      "             hot_tub       0.2107824       0.0276389       7.6262903       0.0000000\n",
      "            elevator       0.0949067       0.0144556       6.5653989       0.0000000\n",
      "              washer      -0.0332728       0.0135121      -2.4624503       0.0137991\n",
      "               dryer       0.2158129       0.0155260      13.9000903       0.0000000\n",
      "     flexible_cancel      -0.0504805       0.0130713      -3.8619335       0.0001125\n",
      "        pets_allowed       0.0226369       0.0170815       1.3252311       0.1850945\n",
      "     smoking_allowed      -0.1182910       0.0141878      -8.3374914       0.0000000\n",
      "   host_is_superhost       0.0693080       0.0130878       5.2956258       0.0000001\n",
      "        Tipo Listado       0.0697213       0.0124876       5.5832429       0.0000000\n",
      "host_identity_verified      -0.0359379       0.0131661      -2.7295836       0.0063414\n",
      "review_scores_rating       0.0009687       0.0010335       0.9372666       0.3486214\n",
      "   number_of_reviews      -0.0005713       0.0001798      -3.1767567       0.0014893\n",
      "              lambda       1.0000000       0.0231110      43.2695009       0.0000000\n",
      "------------------------------------------------------------------------------------\n",
      "================================ END OF REPORT =====================================\n"
     ]
    }
   ],
   "source": [
    "print(GM_err_id_c.summary)"
   ]
  },
  {
   "cell_type": "markdown",
   "metadata": {},
   "source": [
    "# SEM (GM) Inverse Distance Squared"
   ]
  },
  {
   "cell_type": "code",
   "execution_count": 142,
   "metadata": {},
   "outputs": [],
   "source": [
    "GM_err_id_s = spreg.GM_Error_Het(geo_df2['ln_price'].values[:,None], x_clean.values ,w = w_id_sq,name_x=x_clean.columns.tolist(), name_y='ln(price)', name_w='Squared inverse distance matrix with cutoff')"
   ]
  },
  {
   "cell_type": "code",
   "execution_count": 143,
   "metadata": {},
   "outputs": [
    {
     "name": "stdout",
     "output_type": "stream",
     "text": [
      "REGRESSION\n",
      "----------\n",
      "SUMMARY OF OUTPUT: SPATIALLY WEIGHTED LEAST SQUARES (HET)\n",
      "---------------------------------------------------------\n",
      "Data set            :     unknown\n",
      "Weights matrix      :Squared inverse distance matrix with cutoff\n",
      "Dependent Variable  :   ln(price)                Number of Observations:        6131\n",
      "Mean dependent var  :      6.6858                Number of Variables   :          24\n",
      "S.D. dependent var  :      0.6823                Degrees of Freedom    :        6107\n",
      "Pseudo R-squared    :      0.4567\n",
      "N. of iterations    :           1                Step1c computed       :          No\n",
      "\n",
      "------------------------------------------------------------------------------------\n",
      "            Variable     Coefficient       Std.Error     z-Statistic     Probability\n",
      "------------------------------------------------------------------------------------\n",
      "            CONSTANT       5.5247508       0.1046898      52.7725583       0.0000000\n",
      "            bedrooms       0.0675057       0.0230031       2.9346295       0.0033395\n",
      "           bathrooms       0.1312226       0.0170111       7.7139601       0.0000000\n",
      "        accommodates       0.1370908       0.0079869      17.1644130       0.0000000\n",
      "          insta_book      -0.0323783       0.0122760      -2.6375147       0.0083516\n",
      "         ad_duration       0.0025828       0.0005200       4.9665589       0.0000007\n",
      "             pi_dist       0.0094105       0.0020416       4.6094160       0.0000040\n",
      "      metro_distance       0.0050534       0.0088186       0.5730383       0.5666188\n",
      "             parking       0.0275773       0.0141496       1.9489760       0.0512983\n",
      "           breakfast       0.0005516       0.0268299       0.0205607       0.9835961\n",
      "                 gym       0.0719608       0.0247271       2.9102064       0.0036119\n",
      "                pool       0.0735599       0.0332519       2.2122030       0.0269526\n",
      "             hot_tub       0.1867653       0.0288881       6.4651246       0.0000000\n",
      "            elevator       0.1038873       0.0146827       7.0755057       0.0000000\n",
      "              washer      -0.0310126       0.0131670      -2.3553346       0.0185060\n",
      "               dryer       0.1943830       0.0152768      12.7240664       0.0000000\n",
      "     flexible_cancel      -0.0522587       0.0126220      -4.1402873       0.0000347\n",
      "        pets_allowed       0.0171117       0.0166444       1.0280730       0.3039155\n",
      "     smoking_allowed      -0.1132171       0.0137608      -8.2275393       0.0000000\n",
      "   host_is_superhost       0.0661408       0.0127043       5.2061621       0.0000002\n",
      "        Tipo Listado       0.0504559       0.0122202       4.1289059       0.0000364\n",
      "host_identity_verified      -0.0387291       0.0128338      -3.0177477       0.0025466\n",
      "review_scores_rating       0.0015460       0.0010359       1.4924926       0.1355701\n",
      "   number_of_reviews      -0.0006465       0.0001780      -3.6321278       0.0002811\n",
      "              lambda       1.0000000       0.0201666      49.5868345       0.0000000\n",
      "------------------------------------------------------------------------------------\n",
      "================================ END OF REPORT =====================================\n"
     ]
    }
   ],
   "source": [
    "print(GM_err_id_s.summary)"
   ]
  },
  {
   "cell_type": "markdown",
   "metadata": {},
   "source": [
    "# SEM (GM) KNN (35)"
   ]
  },
  {
   "cell_type": "code",
   "execution_count": 106,
   "metadata": {},
   "outputs": [],
   "source": [
    "GM_err_mk35= spreg.GM_Error_Het(geo_df2['ln_price'].values[:,None], x_clean.values ,w = w35,name_x=x_clean.columns.tolist(), name_y='ln(price)', name_w='KNN weight matrix (k=35)')"
   ]
  },
  {
   "cell_type": "code",
   "execution_count": 108,
   "metadata": {},
   "outputs": [
    {
     "name": "stdout",
     "output_type": "stream",
     "text": [
      "REGRESSION\n",
      "----------\n",
      "SUMMARY OF OUTPUT: SPATIALLY WEIGHTED LEAST SQUARES (HET)\n",
      "---------------------------------------------------------\n",
      "Data set            :     unknown\n",
      "Weights matrix      :KNN weight matrix (k=35)\n",
      "Dependent Variable  :   ln(price)                Number of Observations:        6131\n",
      "Mean dependent var  :      6.6858                Number of Variables   :          22\n",
      "S.D. dependent var  :      0.6823                Degrees of Freedom    :        6109\n",
      "Pseudo R-squared    :      0.4637\n",
      "N. of iterations    :           1                Step1c computed       :          No\n",
      "\n",
      "------------------------------------------------------------------------------------\n",
      "            Variable     Coefficient       Std.Error     z-Statistic     Probability\n",
      "------------------------------------------------------------------------------------\n",
      "            CONSTANT       5.7203801       0.1052457      54.3526350       0.0000000\n",
      "            bedrooms       0.0621334       0.0211181       2.9421878       0.0032590\n",
      "           bathrooms       0.1229252       0.0160437       7.6619139       0.0000000\n",
      "        accommodates       0.1464530       0.0073554      19.9109675       0.0000000\n",
      "          insta_book      -0.0306019       0.0119641      -2.5578170       0.0105332\n",
      "         ad_duration       0.0023583       0.0005040       4.6792621       0.0000029\n",
      "             pi_dist      -0.0929689       0.0151279      -6.1455234       0.0000000\n",
      "      metro_distance       0.0517806       0.0187173       2.7664649       0.0056668\n",
      "             parking       0.0442209       0.0135445       3.2648571       0.0010952\n",
      "           breakfast       0.0233074       0.0260866       0.8934606       0.3716106\n",
      "                 gym       0.1049042       0.0231579       4.5299596       0.0000059\n",
      "                pool       0.0618373       0.0309891       1.9954535       0.0459934\n",
      "             hot_tub       0.1665808       0.0273872       6.0824315       0.0000000\n",
      "            elevator       0.0954146       0.0139992       6.8156958       0.0000000\n",
      "     flexible_cancel      -0.0429371       0.0123522      -3.4760764       0.0005088\n",
      "        pets_allowed       0.0122115       0.0160491       0.7608842       0.4467262\n",
      "     smoking_allowed      -0.1042726       0.0133984      -7.7824824       0.0000000\n",
      "   host_is_superhost       0.0764223       0.0122549       6.2360406       0.0000000\n",
      "        Tipo Listado       0.0539702       0.0117565       4.5906466       0.0000044\n",
      "host_identity_verified      -0.0524919       0.0124190      -4.2267324       0.0000237\n",
      "review_scores_rating       0.0018596       0.0009760       1.9053801       0.0567307\n",
      "   number_of_reviews      -0.0005499       0.0001721      -3.1953410       0.0013967\n",
      "              lambda       0.8230914       0.0172696      47.6614101       0.0000000\n",
      "------------------------------------------------------------------------------------\n",
      "================================ END OF REPORT =====================================\n"
     ]
    }
   ],
   "source": [
    "print(GM_err_mk35.summary)"
   ]
  },
  {
   "cell_type": "markdown",
   "metadata": {},
   "source": [
    "## Efectos directos, indirectos y totales"
   ]
  },
  {
   "cell_type": "code",
   "execution_count": 17,
   "metadata": {},
   "outputs": [],
   "source": [
    "from scipy import linalg"
   ]
  },
  {
   "cell_type": "code",
   "execution_count": 78,
   "metadata": {},
   "outputs": [],
   "source": [
    "rho = ML_mk35.rho"
   ]
  },
  {
   "cell_type": "code",
   "execution_count": 79,
   "metadata": {},
   "outputs": [],
   "source": [
    "beta = ML_mk35.betas[:-1]"
   ]
  },
  {
   "cell_type": "code",
   "execution_count": 80,
   "metadata": {},
   "outputs": [],
   "source": [
    "def get_spillover(w, rho):\n",
    "    \n",
    "    w_full = sparse.csr_matrix(w.sparse).toarray()\n",
    "    rho_W = np.multiply(rho,  w_full)\n",
    "    I = np.identity(w_full.shape[0])\n",
    "    I_pw = I - rho_W\n",
    "    I_pW_inv = np.linalg.inv(I_pw)\n",
    "    \n",
    "    return I_pW_inv"
   ]
  },
  {
   "cell_type": "code",
   "execution_count": 81,
   "metadata": {},
   "outputs": [],
   "source": [
    "margins = [np.multiply(spill, b) for b in beta]"
   ]
  },
  {
   "cell_type": "code",
   "execution_count": 82,
   "metadata": {},
   "outputs": [],
   "source": [
    "DE = [m.diagonal().mean() for m in margins]"
   ]
  },
  {
   "cell_type": "code",
   "execution_count": 83,
   "metadata": {},
   "outputs": [],
   "source": [
    "IE = [(np.sum(m) - sum(m.diagonal()))/6131 for m in margins]"
   ]
  },
  {
   "cell_type": "code",
   "execution_count": 84,
   "metadata": {},
   "outputs": [],
   "source": [
    "tedict =  {\n",
    "    'Variable':x.columns,\n",
    "    'DE':DE,\n",
    "    'IE':IE   \n",
    "} "
   ]
  },
  {
   "cell_type": "code",
   "execution_count": 85,
   "metadata": {},
   "outputs": [],
   "source": [
    "efectos = pd.DataFrame.from_dict(tedict).set_index('Variable')"
   ]
  },
  {
   "cell_type": "code",
   "execution_count": 86,
   "metadata": {},
   "outputs": [],
   "source": [
    "efectos['TE'] = efectos['DE'] + efectos['IE']"
   ]
  },
  {
   "cell_type": "code",
   "execution_count": 87,
   "metadata": {},
   "outputs": [
    {
     "data": {
      "text/html": [
       "<div>\n",
       "<style scoped>\n",
       "    .dataframe tbody tr th:only-of-type {\n",
       "        vertical-align: middle;\n",
       "    }\n",
       "\n",
       "    .dataframe tbody tr th {\n",
       "        vertical-align: top;\n",
       "    }\n",
       "\n",
       "    .dataframe thead th {\n",
       "        text-align: right;\n",
       "    }\n",
       "</style>\n",
       "<table border=\"1\" class=\"dataframe\">\n",
       "  <thead>\n",
       "    <tr style=\"text-align: right;\">\n",
       "      <th></th>\n",
       "      <th>DE</th>\n",
       "      <th>IE</th>\n",
       "      <th>TE</th>\n",
       "    </tr>\n",
       "    <tr>\n",
       "      <th>Variable</th>\n",
       "      <th></th>\n",
       "      <th></th>\n",
       "      <th></th>\n",
       "    </tr>\n",
       "  </thead>\n",
       "  <tbody>\n",
       "    <tr>\n",
       "      <th>const</th>\n",
       "      <td>1.350135</td>\n",
       "      <td>3.195887</td>\n",
       "      <td>4.546023</td>\n",
       "    </tr>\n",
       "    <tr>\n",
       "      <th>bedrooms</th>\n",
       "      <td>0.070227</td>\n",
       "      <td>0.166233</td>\n",
       "      <td>0.236459</td>\n",
       "    </tr>\n",
       "    <tr>\n",
       "      <th>bathrooms</th>\n",
       "      <td>0.139580</td>\n",
       "      <td>0.330399</td>\n",
       "      <td>0.469980</td>\n",
       "    </tr>\n",
       "    <tr>\n",
       "      <th>accommodates</th>\n",
       "      <td>0.138697</td>\n",
       "      <td>0.328308</td>\n",
       "      <td>0.467005</td>\n",
       "    </tr>\n",
       "    <tr>\n",
       "      <th>insta_book</th>\n",
       "      <td>-0.032071</td>\n",
       "      <td>-0.075914</td>\n",
       "      <td>-0.107985</td>\n",
       "    </tr>\n",
       "    <tr>\n",
       "      <th>ad_duration</th>\n",
       "      <td>0.002464</td>\n",
       "      <td>0.005834</td>\n",
       "      <td>0.008298</td>\n",
       "    </tr>\n",
       "    <tr>\n",
       "      <th>pi_dist</th>\n",
       "      <td>-0.021596</td>\n",
       "      <td>-0.051119</td>\n",
       "      <td>-0.072715</td>\n",
       "    </tr>\n",
       "    <tr>\n",
       "      <th>metro_distance</th>\n",
       "      <td>0.009344</td>\n",
       "      <td>0.022117</td>\n",
       "      <td>0.031460</td>\n",
       "    </tr>\n",
       "    <tr>\n",
       "      <th>parking</th>\n",
       "      <td>0.024650</td>\n",
       "      <td>0.058348</td>\n",
       "      <td>0.082997</td>\n",
       "    </tr>\n",
       "    <tr>\n",
       "      <th>breakfast</th>\n",
       "      <td>0.001492</td>\n",
       "      <td>0.003531</td>\n",
       "      <td>0.005022</td>\n",
       "    </tr>\n",
       "    <tr>\n",
       "      <th>gym</th>\n",
       "      <td>0.034722</td>\n",
       "      <td>0.082190</td>\n",
       "      <td>0.116911</td>\n",
       "    </tr>\n",
       "    <tr>\n",
       "      <th>pool</th>\n",
       "      <td>0.013869</td>\n",
       "      <td>0.032828</td>\n",
       "      <td>0.046697</td>\n",
       "    </tr>\n",
       "    <tr>\n",
       "      <th>hot_tub</th>\n",
       "      <td>0.176833</td>\n",
       "      <td>0.418578</td>\n",
       "      <td>0.595411</td>\n",
       "    </tr>\n",
       "    <tr>\n",
       "      <th>elevator</th>\n",
       "      <td>0.072774</td>\n",
       "      <td>0.172263</td>\n",
       "      <td>0.245038</td>\n",
       "    </tr>\n",
       "    <tr>\n",
       "      <th>washer</th>\n",
       "      <td>-0.026073</td>\n",
       "      <td>-0.061716</td>\n",
       "      <td>-0.087789</td>\n",
       "    </tr>\n",
       "    <tr>\n",
       "      <th>dryer</th>\n",
       "      <td>0.191355</td>\n",
       "      <td>0.452953</td>\n",
       "      <td>0.644307</td>\n",
       "    </tr>\n",
       "    <tr>\n",
       "      <th>flexible_cancel</th>\n",
       "      <td>-0.039670</td>\n",
       "      <td>-0.093902</td>\n",
       "      <td>-0.133572</td>\n",
       "    </tr>\n",
       "    <tr>\n",
       "      <th>pets_allowed</th>\n",
       "      <td>0.016679</td>\n",
       "      <td>0.039481</td>\n",
       "      <td>0.056161</td>\n",
       "    </tr>\n",
       "    <tr>\n",
       "      <th>smoking_allowed</th>\n",
       "      <td>-0.103496</td>\n",
       "      <td>-0.244985</td>\n",
       "      <td>-0.348481</td>\n",
       "    </tr>\n",
       "    <tr>\n",
       "      <th>host_is_superhost</th>\n",
       "      <td>0.066337</td>\n",
       "      <td>0.157025</td>\n",
       "      <td>0.223362</td>\n",
       "    </tr>\n",
       "    <tr>\n",
       "      <th>Tipo Listado</th>\n",
       "      <td>0.055594</td>\n",
       "      <td>0.131596</td>\n",
       "      <td>0.187190</td>\n",
       "    </tr>\n",
       "    <tr>\n",
       "      <th>host_identity_verified</th>\n",
       "      <td>-0.045523</td>\n",
       "      <td>-0.107758</td>\n",
       "      <td>-0.153281</td>\n",
       "    </tr>\n",
       "    <tr>\n",
       "      <th>review_scores_rating</th>\n",
       "      <td>0.001382</td>\n",
       "      <td>0.003271</td>\n",
       "      <td>0.004653</td>\n",
       "    </tr>\n",
       "    <tr>\n",
       "      <th>number_of_reviews</th>\n",
       "      <td>-0.000629</td>\n",
       "      <td>-0.001488</td>\n",
       "      <td>-0.002116</td>\n",
       "    </tr>\n",
       "  </tbody>\n",
       "</table>\n",
       "</div>"
      ],
      "text/plain": [
       "                              DE        IE        TE\n",
       "Variable                                            \n",
       "const                   1.350135  3.195887  4.546023\n",
       "bedrooms                0.070227  0.166233  0.236459\n",
       "bathrooms               0.139580  0.330399  0.469980\n",
       "accommodates            0.138697  0.328308  0.467005\n",
       "insta_book             -0.032071 -0.075914 -0.107985\n",
       "ad_duration             0.002464  0.005834  0.008298\n",
       "pi_dist                -0.021596 -0.051119 -0.072715\n",
       "metro_distance          0.009344  0.022117  0.031460\n",
       "parking                 0.024650  0.058348  0.082997\n",
       "breakfast               0.001492  0.003531  0.005022\n",
       "gym                     0.034722  0.082190  0.116911\n",
       "pool                    0.013869  0.032828  0.046697\n",
       "hot_tub                 0.176833  0.418578  0.595411\n",
       "elevator                0.072774  0.172263  0.245038\n",
       "washer                 -0.026073 -0.061716 -0.087789\n",
       "dryer                   0.191355  0.452953  0.644307\n",
       "flexible_cancel        -0.039670 -0.093902 -0.133572\n",
       "pets_allowed            0.016679  0.039481  0.056161\n",
       "smoking_allowed        -0.103496 -0.244985 -0.348481\n",
       "host_is_superhost       0.066337  0.157025  0.223362\n",
       "Tipo Listado            0.055594  0.131596  0.187190\n",
       "host_identity_verified -0.045523 -0.107758 -0.153281\n",
       "review_scores_rating    0.001382  0.003271  0.004653\n",
       "number_of_reviews      -0.000629 -0.001488 -0.002116"
      ]
     },
     "execution_count": 87,
     "metadata": {},
     "output_type": "execute_result"
    }
   ],
   "source": [
    "efectos"
   ]
  },
  {
   "cell_type": "code",
   "execution_count": 326,
   "metadata": {},
   "outputs": [],
   "source": [
    "efectos.to_csv('efectos.csv', encoding = 'latin1')"
   ]
  },
  {
   "cell_type": "code",
   "execution_count": 66,
   "metadata": {},
   "outputs": [],
   "source": [
    "dia_sum =sum(margins_cons.diagonal())"
   ]
  },
  {
   "cell_type": "code",
   "execution_count": 67,
   "metadata": {},
   "outputs": [],
   "source": [
    "off_dia_sum = np.sum(margins_cons) - dia_sum "
   ]
  },
  {
   "cell_type": "code",
   "execution_count": 70,
   "metadata": {},
   "outputs": [
    {
     "data": {
      "text/plain": [
       "0.16238176955741804"
      ]
     },
     "execution_count": 70,
     "metadata": {},
     "output_type": "execute_result"
    }
   ],
   "source": [
    "IE = off_dia_sum/6131"
   ]
  },
  {
   "cell_type": "code",
   "execution_count": 73,
   "metadata": {},
   "outputs": [
    {
     "data": {
      "text/plain": [
       "6131"
      ]
     },
     "execution_count": 73,
     "metadata": {},
     "output_type": "execute_result"
    }
   ],
   "source": [
    "w35_full.shape[0]"
   ]
  },
  {
   "cell_type": "code",
   "execution_count": null,
   "metadata": {},
   "outputs": [],
   "source": []
  },
  {
   "cell_type": "code",
   "execution_count": 27,
   "metadata": {},
   "outputs": [],
   "source": [
    "spill = get_spillover(w35, rho)"
   ]
  },
  {
   "cell_type": "code",
   "execution_count": 76,
   "metadata": {},
   "outputs": [
    {
     "data": {
      "text/plain": [
       "array([[1.01615774e+00, 1.29488810e-08, 1.51619501e-15, ...,\n",
       "        5.55971279e-07, 1.61232463e-17, 1.82631194e-04],\n",
       "       [4.50171062e-09, 1.02420642e+00, 7.21905578e-17, ...,\n",
       "        1.00688061e-13, 2.81897619e-19, 1.35768651e-08],\n",
       "       [3.56903447e-14, 8.94492160e-15, 1.03051477e+00, ...,\n",
       "        2.43147537e-14, 3.06855155e-15, 1.34938182e-16],\n",
       "       ...,\n",
       "       [3.47048793e-06, 2.24219717e-12, 8.09448373e-15, ...,\n",
       "        1.01856348e+00, 1.61363431e-14, 1.26352428e-06],\n",
       "       [2.05111911e-16, 6.10256296e-17, 1.04126415e-16, ...,\n",
       "        8.59011357e-14, 1.01471661e+00, 1.72341942e-14],\n",
       "       [2.70058134e-04, 5.26100914e-08, 6.00557718e-18, ...,\n",
       "        3.00731031e-07, 1.27711817e-15, 1.02143243e+00]])"
      ]
     },
     "execution_count": 76,
     "metadata": {},
     "output_type": "execute_result"
    }
   ],
   "source": [
    "spill"
   ]
  },
  {
   "cell_type": "code",
   "execution_count": 80,
   "metadata": {},
   "outputs": [
    {
     "data": {
      "text/plain": [
       "0.13543569943022035"
      ]
     },
     "execution_count": 80,
     "metadata": {},
     "output_type": "execute_result"
    }
   ],
   "source": [
    "margin = np.multiply(spill, beta[2])\n",
    "margin.diagonal().mean()"
   ]
  },
  {
   "cell_type": "code",
   "execution_count": 112,
   "metadata": {},
   "outputs": [
    {
     "data": {
      "text/plain": [
       "bedrooms                 1.455554\n",
       "bathrooms                1.329962\n",
       "accommodates             3.337302\n",
       "ad_duration             16.186322\n",
       "pi_dist                  1.543618\n",
       "metro_distance           0.893961\n",
       "review_scores_rating    95.645409\n",
       "number_of_reviews       34.965422\n",
       "dtype: float64"
      ]
     },
     "execution_count": 112,
     "metadata": {},
     "output_type": "execute_result"
    }
   ],
   "source": [
    "x_clean.mean()"
   ]
  },
  {
   "cell_type": "markdown",
   "metadata": {},
   "source": [
    "## Tabla estadística descriptiva"
   ]
  },
  {
   "cell_type": "code",
   "execution_count": 114,
   "metadata": {},
   "outputs": [],
   "source": [
    "data = pd.read_csv('inside_abnb_clean_3.csv', encoding = 'latin1')"
   ]
  },
  {
   "cell_type": "code",
   "execution_count": 116,
   "metadata": {},
   "outputs": [],
   "source": [
    "x_clean_2 = data[[  \n",
    "    \n",
    "                 ### Tamaño y características físicas  ###\n",
    "                    'bedrooms', 'bathrooms', 'accommodates',\n",
    "                 ### Características listado ###\n",
    "                    'insta_book', 'ad_duration',\n",
    "                 ### Ubicación  #### \n",
    "                    'pi_dist', 'metro_distance',\n",
    "                 ### Amenidades #### \n",
    "                    'parking', 'breakfast', 'gym', 'pool', 'hot_tub', 'elevator',\n",
    "                 ### Reglas ### \n",
    "                    'flexible_cancel', 'pets_allowed', 'smoking_allowed',\n",
    "                  \n",
    "                 ### Características anfitrión ### \n",
    "                    'host_is_superhost', 'Tipo Listado', 'host_identity_verified',\n",
    "                  \n",
    "                  ### Reputación ###\n",
    "                  'review_scores_rating', 'number_of_reviews']]"
   ]
  },
  {
   "cell_type": "code",
   "execution_count": 124,
   "metadata": {},
   "outputs": [],
   "source": [
    "\n",
    "\n",
    "\n",
    "mean = x_clean_2.mean().to_frame()\n",
    "sd = x_clean_2.std().to_frame()\n",
    "min_ = x_clean_2.min().to_frame()\n",
    "max_ = x_clean_2.max().to_frame()\n",
    "\n",
    "\n"
   ]
  },
  {
   "cell_type": "code",
   "execution_count": 129,
   "metadata": {},
   "outputs": [
    {
     "data": {
      "text/html": [
       "<div>\n",
       "<style scoped>\n",
       "    .dataframe tbody tr th:only-of-type {\n",
       "        vertical-align: middle;\n",
       "    }\n",
       "\n",
       "    .dataframe tbody tr th {\n",
       "        vertical-align: top;\n",
       "    }\n",
       "\n",
       "    .dataframe thead th {\n",
       "        text-align: right;\n",
       "    }\n",
       "</style>\n",
       "<table border=\"1\" class=\"dataframe\">\n",
       "  <thead>\n",
       "    <tr style=\"text-align: right;\">\n",
       "      <th></th>\n",
       "      <th>0</th>\n",
       "    </tr>\n",
       "  </thead>\n",
       "  <tbody>\n",
       "    <tr>\n",
       "      <th>bedrooms</th>\n",
       "      <td>1.455554</td>\n",
       "    </tr>\n",
       "    <tr>\n",
       "      <th>bathrooms</th>\n",
       "      <td>1.329962</td>\n",
       "    </tr>\n",
       "    <tr>\n",
       "      <th>accommodates</th>\n",
       "      <td>3.337302</td>\n",
       "    </tr>\n",
       "    <tr>\n",
       "      <th>insta_book</th>\n",
       "      <td>0.611972</td>\n",
       "    </tr>\n",
       "    <tr>\n",
       "      <th>ad_duration</th>\n",
       "      <td>16.186322</td>\n",
       "    </tr>\n",
       "    <tr>\n",
       "      <th>pi_dist</th>\n",
       "      <td>1.543618</td>\n",
       "    </tr>\n",
       "    <tr>\n",
       "      <th>metro_distance</th>\n",
       "      <td>0.893961</td>\n",
       "    </tr>\n",
       "    <tr>\n",
       "      <th>parking</th>\n",
       "      <td>0.723536</td>\n",
       "    </tr>\n",
       "    <tr>\n",
       "      <th>breakfast</th>\n",
       "      <td>0.063285</td>\n",
       "    </tr>\n",
       "    <tr>\n",
       "      <th>gym</th>\n",
       "      <td>0.142391</td>\n",
       "    </tr>\n",
       "    <tr>\n",
       "      <th>pool</th>\n",
       "      <td>0.069646</td>\n",
       "    </tr>\n",
       "    <tr>\n",
       "      <th>hot_tub</th>\n",
       "      <td>0.051215</td>\n",
       "    </tr>\n",
       "    <tr>\n",
       "      <th>elevator</th>\n",
       "      <td>0.468928</td>\n",
       "    </tr>\n",
       "    <tr>\n",
       "      <th>flexible_cancel</th>\n",
       "      <td>0.369434</td>\n",
       "    </tr>\n",
       "    <tr>\n",
       "      <th>pets_allowed</th>\n",
       "      <td>0.155766</td>\n",
       "    </tr>\n",
       "    <tr>\n",
       "      <th>smoking_allowed</th>\n",
       "      <td>0.259338</td>\n",
       "    </tr>\n",
       "    <tr>\n",
       "      <th>host_is_superhost</th>\n",
       "      <td>0.469418</td>\n",
       "    </tr>\n",
       "    <tr>\n",
       "      <th>Tipo Listado</th>\n",
       "      <td>0.612135</td>\n",
       "    </tr>\n",
       "    <tr>\n",
       "      <th>host_identity_verified</th>\n",
       "      <td>0.373675</td>\n",
       "    </tr>\n",
       "    <tr>\n",
       "      <th>review_scores_rating</th>\n",
       "      <td>95.645409</td>\n",
       "    </tr>\n",
       "    <tr>\n",
       "      <th>number_of_reviews</th>\n",
       "      <td>34.965422</td>\n",
       "    </tr>\n",
       "  </tbody>\n",
       "</table>\n",
       "</div>"
      ],
      "text/plain": [
       "                                0\n",
       "bedrooms                 1.455554\n",
       "bathrooms                1.329962\n",
       "accommodates             3.337302\n",
       "insta_book               0.611972\n",
       "ad_duration             16.186322\n",
       "pi_dist                  1.543618\n",
       "metro_distance           0.893961\n",
       "parking                  0.723536\n",
       "breakfast                0.063285\n",
       "gym                      0.142391\n",
       "pool                     0.069646\n",
       "hot_tub                  0.051215\n",
       "elevator                 0.468928\n",
       "flexible_cancel          0.369434\n",
       "pets_allowed             0.155766\n",
       "smoking_allowed          0.259338\n",
       "host_is_superhost        0.469418\n",
       "Tipo Listado             0.612135\n",
       "host_identity_verified   0.373675\n",
       "review_scores_rating    95.645409\n",
       "number_of_reviews       34.965422"
      ]
     },
     "execution_count": 129,
     "metadata": {},
     "output_type": "execute_result"
    }
   ],
   "source": [
    "mean"
   ]
  },
  {
   "cell_type": "code",
   "execution_count": 136,
   "metadata": {},
   "outputs": [],
   "source": [
    "variables  = x_clean.columns.tolist()"
   ]
  },
  {
   "cell_type": "code",
   "execution_count": 137,
   "metadata": {},
   "outputs": [],
   "source": [
    "x_desr = [\n",
    "    \n",
    "    'Número de recámaras',\n",
    "    'Número de baños',\n",
    "    'Número de huéspedes alojados',\n",
    "    'Variable \"dummy\". 1 si el anfitrión permite reservaciones inmediatas',\n",
    "    'Antigüedad de la publicación en meses',\n",
    "    'Distancia al punto de interés más cercano en kilómetros',\n",
    "    'Distancia a la estación de STC Metro más cercano en kilómetros',\n",
    "    'Variable \"dummy\". 1 si existe disponibilidad de estacionamiento',\n",
    "    'Variable \"dummy\". 1 si el listado cuenta con servicio de desayuno',\n",
    "    'Variable \"dummy\". 1 si el listado cuenta con gimansio',\n",
    "    'Variable \"dummy\". 1 si el listado cuenta con piscina',\n",
    "    'Variable \"dummy\". 1 si el listado cuenta con tina caliente',\n",
    "    'Variable \"dummy\". 1 si el listado cuenta con elevador',\n",
    "    'Variable \"dummy\". 1 si la política de vancelación es flexible, 0 si es moderada/estricta',\n",
    "    'Variable \"dummy\". 1 si el anfitrión permite mascotas',\n",
    "    'Variable \"dummy\". 1 si el anfitrión permite fumar',\n",
    "    'Variable \"dummy\". 1 si el anfitrión es superhost$^1$',\n",
    "    'Varaible \"dummy\". 1 si el anfitrión cuenta con más de un listado (profesional)',\n",
    "    'Variable \"dummy\". 1 si el anfitrión verificó su identidad (teléfono, correo, Facebook)',\n",
    "    'Calificación general del listado, escala (0-100)',\n",
    "    'Número de reseñas del listado'\n",
    "\n",
    "]"
   ]
  },
  {
   "cell_type": "code",
   "execution_count": 138,
   "metadata": {},
   "outputs": [],
   "source": [
    "desc_dict = {\n",
    "    'variable':variables,\n",
    "    'descripción':x_desr  \n",
    "}"
   ]
  },
  {
   "cell_type": "code",
   "execution_count": 140,
   "metadata": {},
   "outputs": [],
   "source": [
    "desc = pd.DataFrame.from_dict(desc_dict)"
   ]
  },
  {
   "cell_type": "code",
   "execution_count": 144,
   "metadata": {},
   "outputs": [],
   "source": [
    "desc.set_index('variable', inplace = True)"
   ]
  },
  {
   "cell_type": "code",
   "execution_count": 146,
   "metadata": {},
   "outputs": [],
   "source": [
    "tabla = pd.concat([mean, sd,  min_, max_, desc], axis = 1)"
   ]
  },
  {
   "cell_type": "code",
   "execution_count": 153,
   "metadata": {},
   "outputs": [],
   "source": [
    "tabla.columns = (['Media', 'Desv. est.', 'Mín', 'Máx', 'Descripción'])"
   ]
  },
  {
   "cell_type": "code",
   "execution_count": 151,
   "metadata": {},
   "outputs": [],
   "source": [
    "pd.options.display.float_format = '{:,.2f}'.format"
   ]
  },
  {
   "cell_type": "code",
   "execution_count": 154,
   "metadata": {},
   "outputs": [
    {
     "data": {
      "text/html": [
       "<div>\n",
       "<style scoped>\n",
       "    .dataframe tbody tr th:only-of-type {\n",
       "        vertical-align: middle;\n",
       "    }\n",
       "\n",
       "    .dataframe tbody tr th {\n",
       "        vertical-align: top;\n",
       "    }\n",
       "\n",
       "    .dataframe thead th {\n",
       "        text-align: right;\n",
       "    }\n",
       "</style>\n",
       "<table border=\"1\" class=\"dataframe\">\n",
       "  <thead>\n",
       "    <tr style=\"text-align: right;\">\n",
       "      <th></th>\n",
       "      <th>Media</th>\n",
       "      <th>Desv. est.</th>\n",
       "      <th>Mín</th>\n",
       "      <th>Máx</th>\n",
       "      <th>Descripción</th>\n",
       "    </tr>\n",
       "    <tr>\n",
       "      <th>variable</th>\n",
       "      <th></th>\n",
       "      <th></th>\n",
       "      <th></th>\n",
       "      <th></th>\n",
       "      <th></th>\n",
       "    </tr>\n",
       "  </thead>\n",
       "  <tbody>\n",
       "    <tr>\n",
       "      <th>bedrooms</th>\n",
       "      <td>1.46</td>\n",
       "      <td>0.78</td>\n",
       "      <td>0.00</td>\n",
       "      <td>24.00</td>\n",
       "      <td>Número de recámaras</td>\n",
       "    </tr>\n",
       "    <tr>\n",
       "      <th>bathrooms</th>\n",
       "      <td>1.33</td>\n",
       "      <td>0.54</td>\n",
       "      <td>0.00</td>\n",
       "      <td>4.50</td>\n",
       "      <td>Número de baños</td>\n",
       "    </tr>\n",
       "    <tr>\n",
       "      <th>accommodates</th>\n",
       "      <td>3.34</td>\n",
       "      <td>1.84</td>\n",
       "      <td>1.00</td>\n",
       "      <td>16.00</td>\n",
       "      <td>Número de huéspedes alojados</td>\n",
       "    </tr>\n",
       "    <tr>\n",
       "      <th>insta_book</th>\n",
       "      <td>0.61</td>\n",
       "      <td>0.49</td>\n",
       "      <td>0.00</td>\n",
       "      <td>1.00</td>\n",
       "      <td>Variable \"dummy\". 1 si el anfitrión permite re...</td>\n",
       "    </tr>\n",
       "    <tr>\n",
       "      <th>ad_duration</th>\n",
       "      <td>16.19</td>\n",
       "      <td>15.20</td>\n",
       "      <td>0.03</td>\n",
       "      <td>94.06</td>\n",
       "      <td>Antigüedad de la publicación en meses</td>\n",
       "    </tr>\n",
       "    <tr>\n",
       "      <th>pi_dist</th>\n",
       "      <td>1.54</td>\n",
       "      <td>1.62</td>\n",
       "      <td>0.02</td>\n",
       "      <td>11.82</td>\n",
       "      <td>Distancia al punto de interés más cercano en k...</td>\n",
       "    </tr>\n",
       "    <tr>\n",
       "      <th>metro_distance</th>\n",
       "      <td>0.89</td>\n",
       "      <td>1.35</td>\n",
       "      <td>0.01</td>\n",
       "      <td>11.74</td>\n",
       "      <td>Distancia a la estación de STC Metro más cerca...</td>\n",
       "    </tr>\n",
       "    <tr>\n",
       "      <th>parking</th>\n",
       "      <td>0.72</td>\n",
       "      <td>0.45</td>\n",
       "      <td>0.00</td>\n",
       "      <td>1.00</td>\n",
       "      <td>Variable \"dummy\". 1 si existe disponibilidad d...</td>\n",
       "    </tr>\n",
       "    <tr>\n",
       "      <th>breakfast</th>\n",
       "      <td>0.06</td>\n",
       "      <td>0.24</td>\n",
       "      <td>0.00</td>\n",
       "      <td>1.00</td>\n",
       "      <td>Variable \"dummy\". 1 si el listado cuenta con s...</td>\n",
       "    </tr>\n",
       "    <tr>\n",
       "      <th>gym</th>\n",
       "      <td>0.14</td>\n",
       "      <td>0.35</td>\n",
       "      <td>0.00</td>\n",
       "      <td>1.00</td>\n",
       "      <td>Variable \"dummy\". 1 si el listado cuenta con g...</td>\n",
       "    </tr>\n",
       "    <tr>\n",
       "      <th>pool</th>\n",
       "      <td>0.07</td>\n",
       "      <td>0.25</td>\n",
       "      <td>0.00</td>\n",
       "      <td>1.00</td>\n",
       "      <td>Variable \"dummy\". 1 si el listado cuenta con p...</td>\n",
       "    </tr>\n",
       "    <tr>\n",
       "      <th>hot_tub</th>\n",
       "      <td>0.05</td>\n",
       "      <td>0.22</td>\n",
       "      <td>0.00</td>\n",
       "      <td>1.00</td>\n",
       "      <td>Variable \"dummy\". 1 si el listado cuenta con t...</td>\n",
       "    </tr>\n",
       "    <tr>\n",
       "      <th>elevator</th>\n",
       "      <td>0.47</td>\n",
       "      <td>0.50</td>\n",
       "      <td>0.00</td>\n",
       "      <td>1.00</td>\n",
       "      <td>Variable \"dummy\". 1 si el listado cuenta con e...</td>\n",
       "    </tr>\n",
       "    <tr>\n",
       "      <th>flexible_cancel</th>\n",
       "      <td>0.37</td>\n",
       "      <td>0.48</td>\n",
       "      <td>0.00</td>\n",
       "      <td>1.00</td>\n",
       "      <td>Variable \"dummy\". 1 si la política de vancelac...</td>\n",
       "    </tr>\n",
       "    <tr>\n",
       "      <th>pets_allowed</th>\n",
       "      <td>0.16</td>\n",
       "      <td>0.36</td>\n",
       "      <td>0.00</td>\n",
       "      <td>1.00</td>\n",
       "      <td>Variable \"dummy\". 1 si el anfitrión permite ma...</td>\n",
       "    </tr>\n",
       "    <tr>\n",
       "      <th>smoking_allowed</th>\n",
       "      <td>0.26</td>\n",
       "      <td>0.44</td>\n",
       "      <td>0.00</td>\n",
       "      <td>1.00</td>\n",
       "      <td>Variable \"dummy\". 1 si el anfitrión permite fumar</td>\n",
       "    </tr>\n",
       "    <tr>\n",
       "      <th>host_is_superhost</th>\n",
       "      <td>0.47</td>\n",
       "      <td>0.50</td>\n",
       "      <td>0.00</td>\n",
       "      <td>1.00</td>\n",
       "      <td>Variable \"dummy\". 1 si el anfitrión es superho...</td>\n",
       "    </tr>\n",
       "    <tr>\n",
       "      <th>Tipo Listado</th>\n",
       "      <td>0.61</td>\n",
       "      <td>0.49</td>\n",
       "      <td>0.00</td>\n",
       "      <td>1.00</td>\n",
       "      <td>Varaible \"dummy\". 1 si el anfitrión cuenta con...</td>\n",
       "    </tr>\n",
       "    <tr>\n",
       "      <th>host_identity_verified</th>\n",
       "      <td>0.37</td>\n",
       "      <td>0.48</td>\n",
       "      <td>0.00</td>\n",
       "      <td>1.00</td>\n",
       "      <td>Variable \"dummy\". 1 si el anfitrión verificó s...</td>\n",
       "    </tr>\n",
       "    <tr>\n",
       "      <th>review_scores_rating</th>\n",
       "      <td>95.65</td>\n",
       "      <td>6.87</td>\n",
       "      <td>20.00</td>\n",
       "      <td>100.00</td>\n",
       "      <td>Calificación general del listado, escala (0-100)</td>\n",
       "    </tr>\n",
       "    <tr>\n",
       "      <th>number_of_reviews</th>\n",
       "      <td>34.97</td>\n",
       "      <td>44.38</td>\n",
       "      <td>1.00</td>\n",
       "      <td>362.00</td>\n",
       "      <td>Número de reseñas del listado</td>\n",
       "    </tr>\n",
       "  </tbody>\n",
       "</table>\n",
       "</div>"
      ],
      "text/plain": [
       "                        Media  Desv. est.   Mín    Máx  \\\n",
       "variable                                                 \n",
       "bedrooms                 1.46        0.78  0.00  24.00   \n",
       "bathrooms                1.33        0.54  0.00   4.50   \n",
       "accommodates             3.34        1.84  1.00  16.00   \n",
       "insta_book               0.61        0.49  0.00   1.00   \n",
       "ad_duration             16.19       15.20  0.03  94.06   \n",
       "pi_dist                  1.54        1.62  0.02  11.82   \n",
       "metro_distance           0.89        1.35  0.01  11.74   \n",
       "parking                  0.72        0.45  0.00   1.00   \n",
       "breakfast                0.06        0.24  0.00   1.00   \n",
       "gym                      0.14        0.35  0.00   1.00   \n",
       "pool                     0.07        0.25  0.00   1.00   \n",
       "hot_tub                  0.05        0.22  0.00   1.00   \n",
       "elevator                 0.47        0.50  0.00   1.00   \n",
       "flexible_cancel          0.37        0.48  0.00   1.00   \n",
       "pets_allowed             0.16        0.36  0.00   1.00   \n",
       "smoking_allowed          0.26        0.44  0.00   1.00   \n",
       "host_is_superhost        0.47        0.50  0.00   1.00   \n",
       "Tipo Listado             0.61        0.49  0.00   1.00   \n",
       "host_identity_verified   0.37        0.48  0.00   1.00   \n",
       "review_scores_rating    95.65        6.87 20.00 100.00   \n",
       "number_of_reviews       34.97       44.38  1.00 362.00   \n",
       "\n",
       "                                                              Descripción  \n",
       "variable                                                                   \n",
       "bedrooms                                              Número de recámaras  \n",
       "bathrooms                                                 Número de baños  \n",
       "accommodates                                 Número de huéspedes alojados  \n",
       "insta_book              Variable \"dummy\". 1 si el anfitrión permite re...  \n",
       "ad_duration                         Antigüedad de la publicación en meses  \n",
       "pi_dist                 Distancia al punto de interés más cercano en k...  \n",
       "metro_distance          Distancia a la estación de STC Metro más cerca...  \n",
       "parking                 Variable \"dummy\". 1 si existe disponibilidad d...  \n",
       "breakfast               Variable \"dummy\". 1 si el listado cuenta con s...  \n",
       "gym                     Variable \"dummy\". 1 si el listado cuenta con g...  \n",
       "pool                    Variable \"dummy\". 1 si el listado cuenta con p...  \n",
       "hot_tub                 Variable \"dummy\". 1 si el listado cuenta con t...  \n",
       "elevator                Variable \"dummy\". 1 si el listado cuenta con e...  \n",
       "flexible_cancel         Variable \"dummy\". 1 si la política de vancelac...  \n",
       "pets_allowed            Variable \"dummy\". 1 si el anfitrión permite ma...  \n",
       "smoking_allowed         Variable \"dummy\". 1 si el anfitrión permite fumar  \n",
       "host_is_superhost       Variable \"dummy\". 1 si el anfitrión es superho...  \n",
       "Tipo Listado            Varaible \"dummy\". 1 si el anfitrión cuenta con...  \n",
       "host_identity_verified  Variable \"dummy\". 1 si el anfitrión verificó s...  \n",
       "review_scores_rating     Calificación general del listado, escala (0-100)  \n",
       "number_of_reviews                           Número de reseñas del listado  "
      ]
     },
     "execution_count": 154,
     "metadata": {},
     "output_type": "execute_result"
    }
   ],
   "source": [
    "tabla"
   ]
  },
  {
   "cell_type": "code",
   "execution_count": 155,
   "metadata": {},
   "outputs": [],
   "source": [
    "tabla.to_csv('estad_desc.csv', encoding='latin1')"
   ]
  },
  {
   "cell_type": "code",
   "execution_count": 158,
   "metadata": {},
   "outputs": [
    {
     "data": {
      "text/plain": [
       "1000.1582123633991"
      ]
     },
     "execution_count": 158,
     "metadata": {},
     "output_type": "execute_result"
    }
   ],
   "source": [
    "data.precio.mean()"
   ]
  },
  {
   "cell_type": "code",
   "execution_count": 159,
   "metadata": {},
   "outputs": [
    {
     "data": {
      "text/plain": [
       "681.3981483895539"
      ]
     },
     "execution_count": 159,
     "metadata": {},
     "output_type": "execute_result"
    }
   ],
   "source": [
    "data.precio.std()"
   ]
  },
  {
   "cell_type": "code",
   "execution_count": 160,
   "metadata": {},
   "outputs": [
    {
     "data": {
      "text/plain": [
       "152.0"
      ]
     },
     "execution_count": 160,
     "metadata": {},
     "output_type": "execute_result"
    }
   ],
   "source": [
    "data.precio.min()"
   ]
  },
  {
   "cell_type": "code",
   "execution_count": 164,
   "metadata": {},
   "outputs": [
    {
     "data": {
      "text/plain": [
       "3996.0"
      ]
     },
     "execution_count": 164,
     "metadata": {},
     "output_type": "execute_result"
    }
   ],
   "source": [
    "data2.precio.max()"
   ]
  },
  {
   "cell_type": "code",
   "execution_count": 163,
   "metadata": {},
   "outputs": [],
   "source": [
    "data2 = pd.read_csv('inside_abnb_clean_2.csv', encoding ='latin1')"
   ]
  },
  {
   "cell_type": "code",
   "execution_count": null,
   "metadata": {},
   "outputs": [],
   "source": []
  }
 ],
 "metadata": {
  "kernelspec": {
   "display_name": "Python 3",
   "language": "python",
   "name": "python3"
  },
  "language_info": {
   "codemirror_mode": {
    "name": "ipython",
    "version": 3
   },
   "file_extension": ".py",
   "mimetype": "text/x-python",
   "name": "python",
   "nbconvert_exporter": "python",
   "pygments_lexer": "ipython3",
   "version": "3.8.5"
  }
 },
 "nbformat": 4,
 "nbformat_minor": 2
}

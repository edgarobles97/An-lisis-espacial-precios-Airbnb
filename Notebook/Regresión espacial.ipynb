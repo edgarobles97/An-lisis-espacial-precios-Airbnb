{
 "cells": [
  {
   "cell_type": "markdown",
   "metadata": {},
   "source": [
    "# Tesina: The economics behind two-sided markets: key determinants of Airbnb pricing in Mexico City\n",
    "\n",
    "## Edgar Robles Díaz"
   ]
  },
  {
   "cell_type": "markdown",
   "metadata": {},
   "source": [
    "### Fuente principal: Inside Airbnb (Murray Cox) /  Trip Advisor / Datos abiertos de la CDMX"
   ]
  },
  {
   "cell_type": "markdown",
   "metadata": {},
   "source": [
    "### Parte 5. Modelado estadístico"
   ]
  },
  {
   "cell_type": "markdown",
   "metadata": {},
   "source": [
    "* Selección de matriz de pesos óptima\n",
    "* Revisión de supuestos (Normalidad, independencia, multicolinealidad y heteroscedasticidad) \n",
    "* Regresión tradicional (OLS)\n",
    "* Autocorrelación espacial (SAR) \n",
    "* Errores espaciales (SEM)\n",
    "* Análisis de residuales\n",
    "* Estimación de efectos directos, indirectos y totales."
   ]
  },
  {
   "cell_type": "markdown",
   "metadata": {},
   "source": [
    "# Importar paquetería esencial"
   ]
  },
  {
   "cell_type": "code",
   "execution_count": 487,
   "metadata": {},
   "outputs": [],
   "source": [
    "import seaborn as sns\n",
    "from matplotlib import pyplot as plt \n",
    "\n",
    "import pandas as pd \n",
    "import numpy as np\n",
    "\n",
    "import pysal\n",
    "from pysal.lib import weights\n",
    "from pysal.lib import cg as geometry\n",
    "import libpysal\n",
    "import spreg\n",
    "\n",
    "import scipy.stats as stats\n",
    "\n",
    "\n",
    "import statsmodels.stats.api as sms\n",
    "\n",
    "from statsmodels.compat import lzip\n",
    "from statsmodels.stats.outliers_influence import variance_inflation_factor\n",
    "from statsmodels.tools.tools import add_constant\n",
    "\n",
    "import os"
   ]
  },
  {
   "cell_type": "code",
   "execution_count": 490,
   "metadata": {},
   "outputs": [
    {
     "data": {
      "text/plain": [
       "'c:\\\\Users\\\\edari\\\\Desktop\\\\CIDE\\\\8 Octavo\\\\SEMINARIO DE TITULACIÓN\\\\Manejo de Datos\\\\Código tesina'"
      ]
     },
     "execution_count": 490,
     "metadata": {},
     "output_type": "execute_result"
    }
   ],
   "source": [
    "os.getcwd()"
   ]
  },
  {
   "cell_type": "code",
   "execution_count": 489,
   "metadata": {},
   "outputs": [],
   "source": [
    "os.chdir('c:\\\\Users\\\\edari\\\\Desktop\\\\CIDE\\\\8 Octavo\\\\SEMINARIO DE TITULACIÓN\\\\Manejo de Datos\\\\Código tesina')"
   ]
  },
  {
   "cell_type": "markdown",
   "metadata": {},
   "source": [
    "## Importar datos "
   ]
  },
  {
   "cell_type": "code",
   "execution_count": 492,
   "metadata": {},
   "outputs": [],
   "source": [
    "geo_df2 = pd.read_csv('inside_abnb_clean_2.csv', encoding = 'latin1')"
   ]
  },
  {
   "cell_type": "code",
   "execution_count": 494,
   "metadata": {},
   "outputs": [],
   "source": [
    "geo_df2.set_index('id', inplace=True)"
   ]
  },
  {
   "cell_type": "code",
   "execution_count": 502,
   "metadata": {},
   "outputs": [],
   "source": [
    "dummies = [\n",
    "        'host_is_superhost','host_identity_verified',\n",
    "        'insta_book', 'pets_allowed', 'gym',\n",
    "        'breakfast', 'washer', 'dryer',\n",
    "        'parking', 'Private room', \n",
    "        'flexible_cancel', 'Tipo Listado', \n",
    "        'elevator', 'hot_tub',\n",
    "        'smoking_allowed', 'pool'\n",
    "          ]\n",
    "\n",
    "for dum in dummies:\n",
    "    geo_df2[dum] = geo_df2[dum].astype('category')"
   ]
  },
  {
   "cell_type": "code",
   "execution_count": 508,
   "metadata": {},
   "outputs": [],
   "source": [
    "geo_df2['geometry'] = list(zip(geo_df2.longitude, geo_df2.latitude))\n",
    "geo_df2['geometry'] = geo_df2['geometry'].apply(Point)\n",
    "geo_df2 = gpd.GeoDataFrame(geo_df2, geometry='geometry')"
   ]
  },
  {
   "cell_type": "markdown",
   "metadata": {},
   "source": [
    "### Selección de variables explicativas para el modelo ###"
   ]
  },
  {
   "cell_type": "code",
   "execution_count": 512,
   "metadata": {},
   "outputs": [],
   "source": [
    "x_clean = geo_df2[[  \n",
    "    \n",
    "                 ### Tamaño y características físicas  ###\n",
    "                    'bedrooms', 'bathrooms', 'accommodates',\n",
    "                 ### Características listado ###\n",
    "                    'insta_book', 'ad_duration',\n",
    "                 ### Ubicación  #### \n",
    "                    'pi_dist', 'metro_distance',\n",
    "                 ### Amenidades #### \n",
    "                    'parking', 'breakfast', 'gym', 'pool', 'hot_tub', 'elevator', 'washer','dryer',\n",
    "                 ### Reglas ### \n",
    "                    'flexible_cancel', 'pets_allowed', 'smoking_allowed',\n",
    "                  \n",
    "                 ### Características anfitrión ### \n",
    "                    'host_is_superhost', 'Tipo Listado', 'host_identity_verified',\n",
    "                  \n",
    "                  ### Reputación ###\n",
    "                  'review_scores_rating', 'number_of_reviews']]"
   ]
  },
  {
   "cell_type": "markdown",
   "metadata": {},
   "source": [
    "### VIF - Test de multicolinealidad"
   ]
  },
  {
   "cell_type": "code",
   "execution_count": 514,
   "metadata": {},
   "outputs": [],
   "source": [
    "x = add_constant(x_clean)"
   ]
  },
  {
   "cell_type": "code",
   "execution_count": 515,
   "metadata": {},
   "outputs": [
    {
     "data": {
      "text/plain": [
       "const                     230.060101\n",
       "bedrooms                    2.228837\n",
       "bathrooms                   1.769685\n",
       "accommodates                2.343871\n",
       "insta_book                  1.059943\n",
       "ad_duration                 1.894577\n",
       "pi_dist                     1.280073\n",
       "metro_distance              1.225382\n",
       "parking                     1.114100\n",
       "breakfast                   1.019611\n",
       "gym                         1.852181\n",
       "pool                        1.939207\n",
       "hot_tub                     1.373703\n",
       "elevator                    1.318304\n",
       "washer                      1.173956\n",
       "dryer                       1.250643\n",
       "flexible_cancel             1.164661\n",
       "pets_allowed                1.068588\n",
       "smoking_allowed             1.081812\n",
       "host_is_superhost           1.197603\n",
       "Tipo Listado                1.081068\n",
       "host_identity_verified      1.166855\n",
       "review_scores_rating        1.097658\n",
       "number_of_reviews           1.841674\n",
       "dtype: float64"
      ]
     },
     "execution_count": 515,
     "metadata": {},
     "output_type": "execute_result"
    }
   ],
   "source": [
    "pd.Series([variance_inflation_factor(x.values, i) \n",
    "               for i in range(x.shape[1])], \n",
    "              index=x.columns)"
   ]
  },
  {
   "cell_type": "markdown",
   "metadata": {},
   "source": [
    "Ninguna de las explicativas supera el valor de 10, por lo tanto no hay multicolinealidad entre los estimadores de Airbnb y de TripAdvisor"
   ]
  },
  {
   "cell_type": "markdown",
   "metadata": {},
   "source": [
    "### Modelo SEM:"
   ]
  },
  {
   "cell_type": "markdown",
   "metadata": {},
   "source": [
    "## $y\\ =\\ \\alpha\\ +\\ X\\beta\\ +\\ {(I\\ -\\ \\lambda W)}^{-1}\\varepsilon\\$ "
   ]
  },
  {
   "cell_type": "markdown",
   "metadata": {},
   "source": [
    "### Modelo SAR:"
   ]
  },
  {
   "cell_type": "markdown",
   "metadata": {},
   "source": [
    "## $y\\ =\\ \\alpha\\ +\\ \\rho Wy\\ +\\ X\\beta\\ +\\ \\varepsilon$"
   ]
  },
  {
   "cell_type": "markdown",
   "metadata": {},
   "source": [
    "Donde Y el vector que representa a la variable dependiente, el vector X representa a las variables explicativas y el vector B a los coeficientes asociados a las variables explicativas. \n",
    "\n",
    "Adicionalmente, el modelo de autocorrelación espacial (SAR) incorpora elementos adicionales. La matriz W se puede interpretar como la relación que existe entre las observaciones y sus respectivos vecinos. En este sentido, la variable Wy representa una función de la variable dependiente de los puntos cercanos de cada observación.\n",
    "\n",
    "El coeficiente p indica el grado de influencia que tienen los valores de los vecinos sobre la variable dependiente de cada observación. Si el coeficiente es alto y significativo, es posible que exista un efecto spillover y, en consecuencia, un efecto espacial entre las observaciones y su respectiva vecindad."
   ]
  },
  {
   "cell_type": "code",
   "execution_count": 534,
   "metadata": {},
   "outputs": [],
   "source": [
    "w35 = libpysal.weights.KNN.from_dataframe(geo_df2, k=35)"
   ]
  },
  {
   "cell_type": "code",
   "execution_count": 535,
   "metadata": {},
   "outputs": [],
   "source": [
    "w35.transform = 'V'"
   ]
  },
  {
   "cell_type": "markdown",
   "metadata": {},
   "source": [
    "### Seleccionar matriz de pesos óptima para el modelo (Mayor R$^2$ y menor AIC) (Chica-Olmo et al. 2020)"
   ]
  },
  {
   "cell_type": "code",
   "execution_count": null,
   "metadata": {},
   "outputs": [],
   "source": [
    "### Generar matrices de pesos con diferentes números de vecinos más cercanos ###"
   ]
  },
  {
   "cell_type": "code",
   "execution_count": 518,
   "metadata": {},
   "outputs": [],
   "source": [
    "k = [10, 15,20,25,30,35,40,45,50,55,60,65,70,75,80]"
   ]
  },
  {
   "cell_type": "code",
   "execution_count": 519,
   "metadata": {},
   "outputs": [],
   "source": [
    "mats= [libpysal.weights.KNN.from_dataframe(geo_df2, \n",
    "                                           k=i)\n",
    "      for i in k ]"
   ]
  },
  {
   "cell_type": "code",
   "execution_count": 520,
   "metadata": {},
   "outputs": [],
   "source": [
    "for w in mats:\n",
    "    w.transform = 'V'"
   ]
  },
  {
   "cell_type": "code",
   "execution_count": null,
   "metadata": {},
   "outputs": [],
   "source": [
    "### Estimar modelos con ML_Lag###"
   ]
  },
  {
   "cell_type": "code",
   "execution_count": 527,
   "metadata": {},
   "outputs": [
    {
     "name": "stderr",
     "output_type": "stream",
     "text": [
      "C:\\Users\\edari\\anaconda3\\envs\\Tesis\\lib\\site-packages\\scipy\\optimize\\_minimize.py:777: RuntimeWarning: Method 'bounded' does not support relative tolerance in x; defaulting to absolute tolerance.\n",
      "  warn(\"Method 'bounded' does not support relative tolerance in x; \"\n",
      "C:\\Users\\edari\\anaconda3\\envs\\Tesis\\lib\\site-packages\\numpy\\core\\fromnumeric.py:87: VisibleDeprecationWarning: Creating an ndarray from ragged nested sequences (which is a list-or-tuple of lists-or-tuples-or ndarrays with different lengths or shapes) is deprecated. If you meant to do this, you must specify 'dtype=object' when creating the ndarray\n",
      "  return ufunc.reduce(obj, axis, dtype, out, **passkwargs)\n"
     ]
    }
   ],
   "source": [
    "knn_models_ml =[ spreg.ML_Lag(geo_df2['ln_price'].values[:,None],\n",
    "                 x_clean.values,\n",
    "                 w = w,\n",
    "                 method='ord',\n",
    "                 spat_diag=True,\n",
    "                 name_x=x_clean.columns.tolist(),\n",
    "                 name_y='ln(price)')\n",
    "for w in mats\n",
    "               ]"
   ]
  },
  {
   "cell_type": "code",
   "execution_count": 539,
   "metadata": {},
   "outputs": [],
   "source": [
    "### Extraer AIC y R2"
   ]
  },
  {
   "cell_type": "code",
   "execution_count": 528,
   "metadata": {},
   "outputs": [],
   "source": [
    "ml_r_sq = [ml.pr2 for ml in knn_models_ml]"
   ]
  },
  {
   "cell_type": "code",
   "execution_count": 529,
   "metadata": {},
   "outputs": [],
   "source": [
    "ml_aic = [ml.aic for ml in knn_models_ml]"
   ]
  },
  {
   "cell_type": "code",
   "execution_count": 530,
   "metadata": {},
   "outputs": [],
   "source": [
    "sns.set_style('whitegrid')"
   ]
  },
  {
   "cell_type": "code",
   "execution_count": 532,
   "metadata": {},
   "outputs": [
    {
     "data": {
      "image/png": "[encoded data removed]",
      "text/plain": [
       "<Figure size 1080x432 with 2 Axes>"
      ]
     },
     "metadata": {},
     "output_type": "display_data"
    }
   ],
   "source": [
    "fig, (ax1, ax2) = plt.subplots(1, 2)\n",
    "fig.suptitle('Valores de $R^2$ y Criterio de Información de Akaike del modelo de rezago espacial para diferentes valores de vecinos cercanos', fontsize=20)\n",
    "fig.set_figheight(6)\n",
    "fig.set_figwidth(15)\n",
    "ax1.scatter(k, r_sq,c = 'c')\n",
    "ax1.axvline(x=35,c='r', linestyle='--')\n",
    "ax2.axvline(x=35,c='r', linestyle='--')\n",
    "ax1.yaxis.set_label_text('$R^2$')\n",
    "ax2.yaxis.set_label_text('$AIC$')\n",
    "ax1.xaxis.set_label_text('Número de vecinos más cercanos')\n",
    "ax2.xaxis.set_label_text('Número de vecinos más cercanos')\n",
    "ax2.scatter(k, ml_aic, c='y')\n",
    "sns.despine()\n",
    "plt.savefig('RAIC.png')"
   ]
  },
  {
   "cell_type": "markdown",
   "metadata": {},
   "source": [
    "### Selección matriz de 35 vecinos más cercanos"
   ]
  },
  {
   "cell_type": "code",
   "execution_count": 542,
   "metadata": {},
   "outputs": [],
   "source": [
    "w35 = mats[5]"
   ]
  },
  {
   "cell_type": "markdown",
   "metadata": {},
   "source": [
    "### Modelo OLS para valuar supuestos de normalidad en los errores (Jarque-Bera) e independencia de las observaciones, selección de modelo espacial (SAR -LM LAg, SEM -LM Error)"
   ]
  },
  {
   "cell_type": "markdown",
   "metadata": {},
   "source": [
    "### MCO tradicional"
   ]
  },
  {
   "cell_type": "code",
   "execution_count": null,
   "metadata": {},
   "outputs": [],
   "source": [
    "### Insertar matriz de varianza-covarianza de White para controlar la heteroscedasticidad  "
   ]
  },
  {
   "cell_type": "code",
   "execution_count": 550,
   "metadata": {},
   "outputs": [],
   "source": [
    "m_test_ols = spreg.OLS(geo_df2['ln_price'].values[:,None], x_clean.values,robust='white' ,moran=True, w = w35, spat_diag = True ,name_x = x_clean.columns.tolist(), name_y='(log)price')"
   ]
  },
  {
   "cell_type": "code",
   "execution_count": 551,
   "metadata": {
    "scrolled": true
   },
   "outputs": [
    {
     "name": "stdout",
     "output_type": "stream",
     "text": [
      "REGRESSION\n",
      "----------\n",
      "SUMMARY OF OUTPUT: ORDINARY LEAST SQUARES\n",
      "-----------------------------------------\n",
      "Data set            :     unknown\n",
      "Weights matrix      :     unknown\n",
      "Dependent Variable  :  (log)price                Number of Observations:        6131\n",
      "Mean dependent var  :      6.6858                Number of Variables   :          24\n",
      "S.D. dependent var  :      0.6823                Degrees of Freedom    :        6107\n",
      "R-squared           :      0.4642\n",
      "Adjusted R-squared  :      0.4622\n",
      "Sum squared residual:    1528.787                F-statistic           :    230.0685\n",
      "Sigma-square        :       0.250                Prob(F-statistic)     :           0\n",
      "S.E. of regression  :       0.500                Log likelihood        :   -4441.890\n",
      "Sigma-square ML     :       0.249                Akaike info criterion :    8931.780\n",
      "S.E of regression ML:      0.4994                Schwarz criterion     :    9093.086\n",
      "\n",
      "White Standard Errors\n",
      "------------------------------------------------------------------------------------\n",
      "            Variable     Coefficient       Std.Error     t-Statistic     Probability\n",
      "------------------------------------------------------------------------------------\n",
      "            CONSTANT       5.4279690       0.1111772      48.8226742       0.0000000\n",
      "            bedrooms       0.0623853       0.0232167       2.6870916       0.0072272\n",
      "           bathrooms       0.1963882       0.0181657      10.8109318       0.0000000\n",
      "        accommodates       0.1314908       0.0083186      15.8067477       0.0000000\n",
      "          insta_book      -0.0500486       0.0137625      -3.6365955       0.0002785\n",
      "         ad_duration       0.0033596       0.0005559       6.0432118       0.0000000\n",
      "             pi_dist       0.0097487       0.0012825       7.6015237       0.0000000\n",
      "      metro_distance       0.0152317       0.0054049       2.8181243       0.0048460\n",
      "             parking       0.0006801       0.0157030       0.0433131       0.9654534\n",
      "           breakfast       0.0052886       0.0309073       0.1711114       0.8641418\n",
      "                 gym       0.0377262       0.0254090       1.4847571       0.1376598\n",
      "                pool       0.0429344       0.0327673       1.3102812       0.1901500\n",
      "             hot_tub       0.2674836       0.0287582       9.3011279       0.0000000\n",
      "            elevator       0.1106670       0.0151267       7.3160051       0.0000000\n",
      "              washer      -0.0303505       0.0145180      -2.0905410       0.0366105\n",
      "               dryer       0.2650120       0.0164617      16.0986806       0.0000000\n",
      "     flexible_cancel      -0.0713208       0.0141933      -5.0249717       0.0000005\n",
      "        pets_allowed       0.0246186       0.0185307       1.3285359       0.1840508\n",
      "     smoking_allowed      -0.1495591       0.0154948      -9.6522039       0.0000000\n",
      "   host_is_superhost       0.0677973       0.0141422       4.7939772       0.0000017\n",
      "        Tipo Listado       0.1010461       0.0135875       7.4367018       0.0000000\n",
      "host_identity_verified      -0.0300376       0.0142098      -2.1138697       0.0345668\n",
      "review_scores_rating       0.0007756       0.0011165       0.6946761       0.4872847\n",
      "   number_of_reviews      -0.0003585       0.0001889      -1.8978028       0.0577692\n",
      "------------------------------------------------------------------------------------\n",
      "\n",
      "REGRESSION DIAGNOSTICS\n",
      "MULTICOLLINEARITY CONDITION NUMBER           74.411\n",
      "\n",
      "TEST ON NORMALITY OF ERRORS\n",
      "TEST                             DF        VALUE           PROB\n",
      "Jarque-Bera                       2           3.119           0.2103\n",
      "\n",
      "DIAGNOSTICS FOR HETEROSKEDASTICITY\n",
      "RANDOM COEFFICIENTS\n",
      "TEST                             DF        VALUE           PROB\n",
      "Breusch-Pagan test               23         221.266           0.0000\n",
      "Koenker-Bassett test             23         218.869           0.0000\n",
      "\n",
      "DIAGNOSTICS FOR SPATIAL DEPENDENCE\n",
      "TEST                           MI/DF       VALUE           PROB\n",
      "Moran's I (error)              0.2343        82.116           0.0000\n",
      "Lagrange Multiplier (lag)         1        4832.458           0.0000\n",
      "Robust LM (lag)                   1         586.452           0.0000\n",
      "Lagrange Multiplier (error)       1        6501.311           0.0000\n",
      "Robust LM (error)                 1        2255.305           0.0000\n",
      "Lagrange Multiplier (SARMA)       2        7087.763           0.0000\n",
      "\n",
      "================================ END OF REPORT =====================================\n"
     ]
    }
   ],
   "source": [
    "print(m_test_ols.summary)"
   ]
  },
  {
   "cell_type": "markdown",
   "metadata": {},
   "source": [
    "# Aplicar modelos Autocorrelación espacial y errores espaciales (SAR y SEM)"
   ]
  },
  {
   "cell_type": "markdown",
   "metadata": {},
   "source": [
    "# SAR (ML)"
   ]
  },
  {
   "cell_type": "code",
   "execution_count": 543,
   "metadata": {
    "scrolled": true
   },
   "outputs": [
    {
     "name": "stderr",
     "output_type": "stream",
     "text": [
      "C:\\Users\\edari\\anaconda3\\envs\\Tesis\\lib\\site-packages\\scipy\\optimize\\_minimize.py:777: RuntimeWarning: Method 'bounded' does not support relative tolerance in x; defaulting to absolute tolerance.\n",
      "  warn(\"Method 'bounded' does not support relative tolerance in x; \"\n",
      "C:\\Users\\edari\\anaconda3\\envs\\Tesis\\lib\\site-packages\\numpy\\core\\fromnumeric.py:87: VisibleDeprecationWarning: Creating an ndarray from ragged nested sequences (which is a list-or-tuple of lists-or-tuples-or ndarrays with different lengths or shapes) is deprecated. If you meant to do this, you must specify 'dtype=object' when creating the ndarray\n",
      "  return ufunc.reduce(obj, axis, dtype, out, **passkwargs)\n"
     ]
    }
   ],
   "source": [
    "ML_mk45 = spreg.ML_Lag(geo_df2['ln_price'].values[:,None], x_clean.values, w = w35,  method='ord',spat_diag=True, name_x=x_clean.columns.tolist(), name_y='ln(price)')\n"
   ]
  },
  {
   "cell_type": "code",
   "execution_count": 545,
   "metadata": {},
   "outputs": [
    {
     "name": "stdout",
     "output_type": "stream",
     "text": [
      "REGRESSION\n",
      "----------\n",
      "SUMMARY OF OUTPUT: MAXIMUM LIKELIHOOD SPATIAL LAG (METHOD = ORD)\n",
      "----------------------------------------------------------------\n",
      "Data set            :     unknown\n",
      "Weights matrix      :     unknown\n",
      "Dependent Variable  :   ln(price)                Number of Observations:        6131\n",
      "Mean dependent var  :      6.6858                Number of Variables   :          25\n",
      "S.D. dependent var  :      0.6823                Degrees of Freedom    :        6106\n",
      "Pseudo R-squared    :      0.5903\n",
      "Spatial Pseudo R-squared:  0.5007\n",
      "Sigma-square ML     :       0.191                Log likelihood        :   -3671.582\n",
      "S.E of regression   :       0.437                Akaike info criterion :    7393.163\n",
      "                                                 Schwarz criterion     :    7561.191\n",
      "\n",
      "------------------------------------------------------------------------------------\n",
      "            Variable     Coefficient       Std.Error     z-Statistic     Probability\n",
      "------------------------------------------------------------------------------------\n",
      "            CONSTANT       1.0953936       0.1294276       8.4633705       0.0000000\n",
      "            bedrooms       0.0666603       0.0106962       6.2321633       0.0000000\n",
      "           bathrooms       0.1349233       0.0136930       9.8534405       0.0000000\n",
      "        accommodates       0.1360744       0.0046333      29.3685551       0.0000000\n",
      "          insta_book      -0.0303665       0.0117877      -2.5761216       0.0099916\n",
      "         ad_duration       0.0023756       0.0005054       4.7004309       0.0000026\n",
      "             pi_dist      -0.0014505       0.0011810      -1.2282320       0.2193599\n",
      "      metro_distance      -0.0105237       0.0045872      -2.2941424       0.0217823\n",
      "             parking       0.0233563       0.0131664       1.7739275       0.0760752\n",
      "           breakfast       0.0018726       0.0231341       0.0809452       0.9354856\n",
      "                 gym       0.0371667       0.0217731       1.7070000       0.0878221\n",
      "                pool       0.0131495       0.0306177       0.4294718       0.6675799\n",
      "             hot_tub       0.1690911       0.0296986       5.6935683       0.0000000\n",
      "            elevator       0.0721071       0.0128956       5.5916250       0.0000000\n",
      "              washer      -0.0223591       0.0125998      -1.7745627       0.0759701\n",
      "               dryer       0.1871437       0.0146740      12.7533918       0.0000000\n",
      "     flexible_cancel      -0.0404492       0.0124780      -3.2416286       0.0011885\n",
      "        pets_allowed       0.0144875       0.0159035       0.9109669       0.3623128\n",
      "     smoking_allowed      -0.1013498       0.0132725      -7.6360525       0.0000000\n",
      "   host_is_superhost       0.0656135       0.0122328       5.3637388       0.0000001\n",
      "        Tipo Listado       0.0576005       0.0119160       4.8338957       0.0000013\n",
      "host_identity_verified      -0.0438492       0.0124552      -3.5205507       0.0004307\n",
      "review_scores_rating       0.0013501       0.0008513       1.5860091       0.1127372\n",
      "   number_of_reviews      -0.0005801       0.0001706      -3.4004827       0.0006727\n",
      "         W_ln(price)       0.6783403       0.0153086      44.3110722       0.0000000\n",
      "------------------------------------------------------------------------------------\n",
      "================================ END OF REPORT =====================================\n"
     ]
    }
   ],
   "source": [
    "print(ML_mk45.summary)"
   ]
  },
  {
   "cell_type": "markdown",
   "metadata": {},
   "source": [
    "# SEM (ML)"
   ]
  },
  {
   "cell_type": "code",
   "execution_count": 544,
   "metadata": {},
   "outputs": [],
   "source": [
    "ML_err_mk45 = spreg.ML_Error(y=geo_df2['ln_price'].values[:,None], x=x_clean.values, w = w35,  method='ord',spat_diag=True, name_x=x_clean.columns.tolist(), name_y='ln(price)')"
   ]
  },
  {
   "cell_type": "code",
   "execution_count": 546,
   "metadata": {},
   "outputs": [
    {
     "name": "stdout",
     "output_type": "stream",
     "text": [
      "REGRESSION\n",
      "----------\n",
      "SUMMARY OF OUTPUT: MAXIMUM LIKELIHOOD SPATIAL ERROR (METHOD = ORD)\n",
      "------------------------------------------------------------------\n",
      "Data set            :     unknown\n",
      "Weights matrix      :     unknown\n",
      "Dependent Variable  :   ln(price)                Number of Observations:        6131\n",
      "Mean dependent var  :      6.6858                Number of Variables   :          24\n",
      "S.D. dependent var  :      0.6823                Degrees of Freedom    :        6107\n",
      "Pseudo R-squared    :      0.4481\n",
      "Sigma-square ML     :       0.187                Log likelihood        :   -3654.097\n",
      "S.E of regression   :       0.433                Akaike info criterion :    7356.194\n",
      "                                                 Schwarz criterion     :    7517.501\n",
      "\n",
      "------------------------------------------------------------------------------------\n",
      "            Variable     Coefficient       Std.Error     z-Statistic     Probability\n",
      "------------------------------------------------------------------------------------\n",
      "            CONSTANT       5.5207279       0.0942097      58.6004092       0.0000000\n",
      "            bedrooms       0.0646152       0.0105719       6.1119866       0.0000000\n",
      "           bathrooms       0.1224257       0.0136856       8.9455632       0.0000000\n",
      "        accommodates       0.1412564       0.0046070      30.6614410       0.0000000\n",
      "          insta_book      -0.0279749       0.0116215      -2.4071626       0.0160770\n",
      "         ad_duration       0.0023569       0.0005042       4.6746491       0.0000029\n",
      "             pi_dist       0.0060089       0.0029569       2.0321766       0.0421358\n",
      "      metro_distance      -0.0139674       0.0151180      -0.9238931       0.3555420\n",
      "             parking       0.0302837       0.0130918       2.3131825       0.0207126\n",
      "           breakfast       0.0010497       0.0230362       0.0455675       0.9636550\n",
      "                 gym       0.0915787       0.0230589       3.9715134       0.0000714\n",
      "                pool       0.0779749       0.0336114       2.3198941       0.0203466\n",
      "             hot_tub       0.1576023       0.0310533       5.0752146       0.0000004\n",
      "            elevator       0.0868758       0.0133259       6.5193353       0.0000000\n",
      "              washer      -0.0301407       0.0125687      -2.3980736       0.0164816\n",
      "               dryer       0.1725537       0.0145933      11.8241385       0.0000000\n",
      "     flexible_cancel      -0.0342385       0.0123441      -2.7736849       0.0055425\n",
      "        pets_allowed       0.0170645       0.0157931       1.0805040       0.2799178\n",
      "     smoking_allowed      -0.0989787       0.0132081      -7.4937804       0.0000000\n",
      "   host_is_superhost       0.0619824       0.0121458       5.1031923       0.0000003\n",
      "        Tipo Listado       0.0494795       0.0118337       4.1812486       0.0000290\n",
      "host_identity_verified      -0.0517783       0.0124137      -4.1710591       0.0000303\n",
      "review_scores_rating       0.0013953       0.0008390       1.6629637       0.0963197\n",
      "   number_of_reviews      -0.0006837       0.0001712      -3.9932837       0.0000652\n",
      "              lambda       0.8335090       0.0162298      51.3568338       0.0000000\n",
      "------------------------------------------------------------------------------------\n",
      "================================ END OF REPORT =====================================\n"
     ]
    }
   ],
   "source": [
    "print(ML_err_mk45.summary)"
   ]
  },
  {
   "cell_type": "markdown",
   "metadata": {},
   "source": [
    "# Análisis residuales "
   ]
  },
  {
   "cell_type": "code",
   "execution_count": 547,
   "metadata": {},
   "outputs": [
    {
     "data": {
      "image/png": "[encoded data removed]",
      "text/plain": [
       "<Figure size 864x576 with 1 Axes>"
      ]
     },
     "metadata": {},
     "output_type": "display_data"
    }
   ],
   "source": [
    "plt.figure(figsize=(12,8))\n",
    "plt.scatter(ML_mk45.predy, ML_mk45.e_pred); # print resids vs predictions\n",
    "plt.title(\"Residuals plot from GM_Lag Model\")\n",
    "plt.xlabel(\"Predicted Values\")\n",
    "plt.ylabel(\"Residuals\")\n",
    "plt.savefig('LR_Residual_Plot')"
   ]
  },
  {
   "cell_type": "markdown",
   "metadata": {},
   "source": [
    "# Efectos directos, indirectos y totales"
   ]
  },
  {
   "cell_type": "code",
   "execution_count": 549,
   "metadata": {},
   "outputs": [
    {
     "data": {
      "text/html": [
       "<div>\n",
       "<style scoped>\n",
       "    .dataframe tbody tr th:only-of-type {\n",
       "        vertical-align: middle;\n",
       "    }\n",
       "\n",
       "    .dataframe tbody tr th {\n",
       "        vertical-align: top;\n",
       "    }\n",
       "\n",
       "    .dataframe thead th {\n",
       "        text-align: right;\n",
       "    }\n",
       "</style>\n",
       "<table border=\"1\" class=\"dataframe\">\n",
       "  <thead>\n",
       "    <tr style=\"text-align: right;\">\n",
       "      <th></th>\n",
       "      <th>Direct</th>\n",
       "      <th>Indirect</th>\n",
       "      <th>Total</th>\n",
       "    </tr>\n",
       "  </thead>\n",
       "  <tbody>\n",
       "    <tr>\n",
       "      <th>Constant</th>\n",
       "      <td>1.095394</td>\n",
       "      <td>2.310049</td>\n",
       "      <td>3.405442</td>\n",
       "    </tr>\n",
       "    <tr>\n",
       "      <th>bedrooms</th>\n",
       "      <td>0.066660</td>\n",
       "      <td>0.140578</td>\n",
       "      <td>0.207238</td>\n",
       "    </tr>\n",
       "    <tr>\n",
       "      <th>bathrooms</th>\n",
       "      <td>0.134923</td>\n",
       "      <td>0.284536</td>\n",
       "      <td>0.419460</td>\n",
       "    </tr>\n",
       "    <tr>\n",
       "      <th>accommodates</th>\n",
       "      <td>0.136074</td>\n",
       "      <td>0.286964</td>\n",
       "      <td>0.423038</td>\n",
       "    </tr>\n",
       "    <tr>\n",
       "      <th>insta_book</th>\n",
       "      <td>-0.030367</td>\n",
       "      <td>-0.064039</td>\n",
       "      <td>-0.094406</td>\n",
       "    </tr>\n",
       "    <tr>\n",
       "      <th>ad_duration</th>\n",
       "      <td>0.002376</td>\n",
       "      <td>0.005010</td>\n",
       "      <td>0.007386</td>\n",
       "    </tr>\n",
       "    <tr>\n",
       "      <th>pi_dist</th>\n",
       "      <td>-0.001451</td>\n",
       "      <td>-0.003059</td>\n",
       "      <td>-0.004510</td>\n",
       "    </tr>\n",
       "    <tr>\n",
       "      <th>metro_distance</th>\n",
       "      <td>-0.010524</td>\n",
       "      <td>-0.022193</td>\n",
       "      <td>-0.032717</td>\n",
       "    </tr>\n",
       "    <tr>\n",
       "      <th>parking</th>\n",
       "      <td>0.023356</td>\n",
       "      <td>0.049255</td>\n",
       "      <td>0.072612</td>\n",
       "    </tr>\n",
       "    <tr>\n",
       "      <th>breakfast</th>\n",
       "      <td>0.001873</td>\n",
       "      <td>0.003949</td>\n",
       "      <td>0.005822</td>\n",
       "    </tr>\n",
       "    <tr>\n",
       "      <th>gym</th>\n",
       "      <td>0.037167</td>\n",
       "      <td>0.078380</td>\n",
       "      <td>0.115547</td>\n",
       "    </tr>\n",
       "    <tr>\n",
       "      <th>pool</th>\n",
       "      <td>0.013149</td>\n",
       "      <td>0.027731</td>\n",
       "      <td>0.040880</td>\n",
       "    </tr>\n",
       "    <tr>\n",
       "      <th>hot_tub</th>\n",
       "      <td>0.169091</td>\n",
       "      <td>0.356592</td>\n",
       "      <td>0.525683</td>\n",
       "    </tr>\n",
       "    <tr>\n",
       "      <th>elevator</th>\n",
       "      <td>0.072107</td>\n",
       "      <td>0.152065</td>\n",
       "      <td>0.224172</td>\n",
       "    </tr>\n",
       "    <tr>\n",
       "      <th>washer</th>\n",
       "      <td>-0.022359</td>\n",
       "      <td>-0.047153</td>\n",
       "      <td>-0.069512</td>\n",
       "    </tr>\n",
       "    <tr>\n",
       "      <th>dryer</th>\n",
       "      <td>0.187144</td>\n",
       "      <td>0.394663</td>\n",
       "      <td>0.581806</td>\n",
       "    </tr>\n",
       "    <tr>\n",
       "      <th>flexible_cancel</th>\n",
       "      <td>-0.040449</td>\n",
       "      <td>-0.085302</td>\n",
       "      <td>-0.125752</td>\n",
       "    </tr>\n",
       "    <tr>\n",
       "      <th>pets_allowed</th>\n",
       "      <td>0.014488</td>\n",
       "      <td>0.030552</td>\n",
       "      <td>0.045040</td>\n",
       "    </tr>\n",
       "    <tr>\n",
       "      <th>smoking_allowed</th>\n",
       "      <td>-0.101350</td>\n",
       "      <td>-0.213734</td>\n",
       "      <td>-0.315084</td>\n",
       "    </tr>\n",
       "    <tr>\n",
       "      <th>host_is_superhost</th>\n",
       "      <td>0.065614</td>\n",
       "      <td>0.138371</td>\n",
       "      <td>0.203984</td>\n",
       "    </tr>\n",
       "    <tr>\n",
       "      <th>Tipo Listado</th>\n",
       "      <td>0.057600</td>\n",
       "      <td>0.121472</td>\n",
       "      <td>0.179073</td>\n",
       "    </tr>\n",
       "    <tr>\n",
       "      <th>host_identity_verified</th>\n",
       "      <td>-0.043849</td>\n",
       "      <td>-0.092473</td>\n",
       "      <td>-0.136322</td>\n",
       "    </tr>\n",
       "    <tr>\n",
       "      <th>review_scores_rating</th>\n",
       "      <td>0.001350</td>\n",
       "      <td>0.002847</td>\n",
       "      <td>0.004197</td>\n",
       "    </tr>\n",
       "    <tr>\n",
       "      <th>number_of_reviews</th>\n",
       "      <td>-0.000580</td>\n",
       "      <td>-0.001223</td>\n",
       "      <td>-0.001804</td>\n",
       "    </tr>\n",
       "  </tbody>\n",
       "</table>\n",
       "</div>"
      ],
      "text/plain": [
       "                          Direct  Indirect     Total\n",
       "Constant                1.095394  2.310049  3.405442\n",
       "bedrooms                0.066660  0.140578  0.207238\n",
       "bathrooms               0.134923  0.284536  0.419460\n",
       "accommodates            0.136074  0.286964  0.423038\n",
       "insta_book             -0.030367 -0.064039 -0.094406\n",
       "ad_duration             0.002376  0.005010  0.007386\n",
       "pi_dist                -0.001451 -0.003059 -0.004510\n",
       "metro_distance         -0.010524 -0.022193 -0.032717\n",
       "parking                 0.023356  0.049255  0.072612\n",
       "breakfast               0.001873  0.003949  0.005822\n",
       "gym                     0.037167  0.078380  0.115547\n",
       "pool                    0.013149  0.027731  0.040880\n",
       "hot_tub                 0.169091  0.356592  0.525683\n",
       "elevator                0.072107  0.152065  0.224172\n",
       "washer                 -0.022359 -0.047153 -0.069512\n",
       "dryer                   0.187144  0.394663  0.581806\n",
       "flexible_cancel        -0.040449 -0.085302 -0.125752\n",
       "pets_allowed            0.014488  0.030552  0.045040\n",
       "smoking_allowed        -0.101350 -0.213734 -0.315084\n",
       "host_is_superhost       0.065614  0.138371  0.203984\n",
       "Tipo Listado            0.057600  0.121472  0.179073\n",
       "host_identity_verified -0.043849 -0.092473 -0.136322\n",
       "review_scores_rating    0.001350  0.002847  0.004197\n",
       "number_of_reviews      -0.000580 -0.001223 -0.001804"
      ]
     },
     "execution_count": 549,
     "metadata": {},
     "output_type": "execute_result"
    }
   ],
   "source": [
    "b=ML_mk45.betas[:-1]\n",
    "rho=ML_mk45.betas[-1]\n",
    "btot=b/(float(1)-rho)\n",
    "bind=btot-b\n",
    "\n",
    "full_eff=pd.DataFrame(np.hstack([b,bind,btot]),index=['Constant']+x_clean.columns.tolist(), columns=['Direct','Indirect','Total'])\n",
    "full_eff"
   ]
  },
  {
   "cell_type": "markdown",
   "metadata": {},
   "source": [
    "### En caso de que no se cumpla el supuesto de normalidad en los errores, aplicar método de momentos, computación más sencilla y robusto a errores no normales."
   ]
  },
  {
   "cell_type": "markdown",
   "metadata": {},
   "source": [
    "# SAR (GM) ###"
   ]
  },
  {
   "cell_type": "code",
   "execution_count": 425,
   "metadata": {},
   "outputs": [
    {
     "name": "stderr",
     "output_type": "stream",
     "text": [
      "C:\\Users\\edari\\anaconda3\\envs\\Tesis\\lib\\site-packages\\spreg\\user_output.py:438: UserWarning: w must be API-compatible pysal weights object\n",
      "  warn(\"w must be API-compatible pysal weights object\")\n"
     ]
    }
   ],
   "source": [
    "GM_mk45 = spreg.GM_Lag(geo_df2['ln_price'].values[:,None], x_clean.values, w = w45, robust='white' ,spat_diag=True, name_x=x_clean.columns.tolist(), name_y='ln(price)', name_w='KNN weight matrix (k=45)')"
   ]
  },
  {
   "cell_type": "code",
   "execution_count": null,
   "metadata": {},
   "outputs": [],
   "source": []
  },
  {
   "cell_type": "markdown",
   "metadata": {},
   "source": [
    "# SEM (GM)"
   ]
  },
  {
   "cell_type": "code",
   "execution_count": 435,
   "metadata": {},
   "outputs": [
    {
     "name": "stderr",
     "output_type": "stream",
     "text": [
      "C:\\Users\\edari\\anaconda3\\envs\\Tesis\\lib\\site-packages\\spreg\\user_output.py:438: UserWarning: w must be API-compatible pysal weights object\n",
      "  warn(\"w must be API-compatible pysal weights object\")\n"
     ]
    }
   ],
   "source": [
    "GM_err_mk45 = spreg.GM_Error_Het(geo_df2['ln_price'].values[:,None], x_clean.values ,w = w45,name_x=x_clean.columns.tolist(), name_y='ln(price)', name_w='KNN weight matrix (k=45)')"
   ]
  }
 ],
 "metadata": {
  "kernelspec": {
   "display_name": "Python 3",
   "language": "python",
   "name": "python3"
  },
  "language_info": {
   "codemirror_mode": {
    "name": "ipython",
    "version": 3
   },
   "file_extension": ".py",
   "mimetype": "text/x-python",
   "name": "python",
   "nbconvert_exporter": "python",
   "pygments_lexer": "ipython3",
   "version": "3.8.5"
  }
 },
 "nbformat": 4,
 "nbformat_minor": 2
}
